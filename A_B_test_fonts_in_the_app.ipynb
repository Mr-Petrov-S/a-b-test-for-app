{
  "cells": [
    {
      "cell_type": "markdown",
      "metadata": {
        "id": "view-in-github",
        "colab_type": "text"
      },
      "source": [
        "<a href=\"https://colab.research.google.com/github/Mr-Petrov-S/a-b-test-for-app/blob/main/A_B_test_fonts_in_the_app.ipynb\" target=\"_parent\"><img src=\"https://colab.research.google.com/assets/colab-badge.svg\" alt=\"Open In Colab\"/></a>"
      ]
    },
    {
      "cell_type": "markdown",
      "metadata": {
        "id": "ZSnPNfVlye39"
      },
      "source": [
        "# Проект изменение шрифта в мобильном приложении. А/Б тест."
      ]
    },
    {
      "cell_type": "markdown",
      "metadata": {
        "id": "Adtd3VtHye3-"
      },
      "source": [
        "Вы работаете в стартапе, который продаёт продукты питания. Нужно разобраться, как ведут себя пользователи вашего мобильного приложения.   \n",
        "\n",
        "Изучите воронку продаж. Узнайте, как пользователи доходят до покупки. Сколько пользователей доходит до покупки, а сколько — «застревает» на предыдущих шагах? На каких именно?    \n",
        "\n",
        "После этого исследуйте результаты A/A/B-эксперимента. Дизайнеры захотели поменять шрифты во всём приложении, а менеджеры испугались, что пользователям будет непривычно. Договорились принять решение по результатам A/A/B-теста. Пользователей разбили на 3 группы: 2 контрольные со старыми шрифтами и одну экспериментальную — с новыми. Выясните, какой шрифт лучше.\n",
        "Создание двух групп A вместо одной имеет определённые преимущества. Если две контрольные группы окажутся равны, вы можете быть уверены в точности проведенного тестирования. Если же между значениями A и A будут существенные различия, это поможет обнаружить факторы, которые привели к искажению результатов. Сравнение контрольных групп также помогает понять, сколько времени и данных потребуется для дальнейших тестов.    \n",
        "\n",
        "В случае общей аналитики и A/A/B-эксперимента работайте с одними и теми же данными. В реальных проектах всегда идут эксперименты. Аналитики исследуют качество работы приложения по общим данным, не учитывая принадлежность пользователей к экспериментам.  "
      ]
    },
    {
      "cell_type": "markdown",
      "metadata": {
        "id": "C-9ArNRGye3-"
      },
      "source": [
        "#### Описание данных\n",
        "Каждая запись в логе — это действие пользователя, или событие.  \n",
        "- EventName — название события;\n",
        "- DeviceIDHash — уникальный идентификатор пользователя;\n",
        "- EventTimestamp — время события;\n",
        "- ExpId — номер эксперимента: 246 и 247 — контрольные группы, а 248 — экспериментальная."
      ]
    },
    {
      "cell_type": "markdown",
      "metadata": {
        "id": "jinOJQJ1ye4A"
      },
      "source": [
        "#### Посмотрим общую информацию о данных"
      ]
    },
    {
      "cell_type": "code",
      "execution_count": null,
      "metadata": {
        "id": "ZOr8LSReye4A"
      },
      "outputs": [],
      "source": [
        "# импортируем библиотеки\n",
        "import pandas as pd\n",
        "import scipy.stats as stats\n",
        "import datetime as dt\n",
        "import numpy as np\n",
        "import matplotlib.pyplot as plt\n",
        "import math as mth\n",
        "from scipy import stats as st\n",
        "import seaborn as sb\n",
        "from plotly import graph_objects as go\n",
        "from google.colab import drive"
      ]
    },
    {
      "cell_type": "code",
      "execution_count": null,
      "metadata": {
        "colab": {
          "base_uri": "https://localhost:8080/"
        },
        "id": "7DutS7ceye4C",
        "outputId": "60931326-766a-4f7a-d5da-29539e381665"
      },
      "outputs": [
        {
          "output_type": "stream",
          "name": "stdout",
          "text": [
            "Mounted at /content/drive\n"
          ]
        }
      ],
      "source": [
        "# подключаем Google Drive\n",
        "drive.mount('/content/drive')\n",
        "\n",
        "# Путь к файлу на Google Drive\n",
        "file_path = '/content/drive/My Drive/Data/logs_exp.csv'\n",
        "\n",
        "# загружаем датасет\n",
        "df = pd.read_csv(file_path, sep='\\t')"
      ]
    },
    {
      "cell_type": "code",
      "source": [
        "df.head()"
      ],
      "metadata": {
        "colab": {
          "base_uri": "https://localhost:8080/",
          "height": 206
        },
        "id": "Ua6xhCls4zGC",
        "outputId": "369f4c40-890c-46e8-8570-035ce77a6c36"
      },
      "execution_count": null,
      "outputs": [
        {
          "output_type": "execute_result",
          "data": {
            "text/plain": [
              "                 EventName         DeviceIDHash  EventTimestamp  ExpId\n",
              "0         MainScreenAppear  4575588528974610257      1564029816    246\n",
              "1         MainScreenAppear  7416695313311560658      1564053102    246\n",
              "2  PaymentScreenSuccessful  3518123091307005509      1564054127    248\n",
              "3         CartScreenAppear  3518123091307005509      1564054127    248\n",
              "4  PaymentScreenSuccessful  6217807653094995999      1564055322    248"
            ],
            "text/html": [
              "\n",
              "  <div id=\"df-fd970df6-8c6b-47e5-8005-e849c5d7cbd2\" class=\"colab-df-container\">\n",
              "    <div>\n",
              "<style scoped>\n",
              "    .dataframe tbody tr th:only-of-type {\n",
              "        vertical-align: middle;\n",
              "    }\n",
              "\n",
              "    .dataframe tbody tr th {\n",
              "        vertical-align: top;\n",
              "    }\n",
              "\n",
              "    .dataframe thead th {\n",
              "        text-align: right;\n",
              "    }\n",
              "</style>\n",
              "<table border=\"1\" class=\"dataframe\">\n",
              "  <thead>\n",
              "    <tr style=\"text-align: right;\">\n",
              "      <th></th>\n",
              "      <th>EventName</th>\n",
              "      <th>DeviceIDHash</th>\n",
              "      <th>EventTimestamp</th>\n",
              "      <th>ExpId</th>\n",
              "    </tr>\n",
              "  </thead>\n",
              "  <tbody>\n",
              "    <tr>\n",
              "      <th>0</th>\n",
              "      <td>MainScreenAppear</td>\n",
              "      <td>4575588528974610257</td>\n",
              "      <td>1564029816</td>\n",
              "      <td>246</td>\n",
              "    </tr>\n",
              "    <tr>\n",
              "      <th>1</th>\n",
              "      <td>MainScreenAppear</td>\n",
              "      <td>7416695313311560658</td>\n",
              "      <td>1564053102</td>\n",
              "      <td>246</td>\n",
              "    </tr>\n",
              "    <tr>\n",
              "      <th>2</th>\n",
              "      <td>PaymentScreenSuccessful</td>\n",
              "      <td>3518123091307005509</td>\n",
              "      <td>1564054127</td>\n",
              "      <td>248</td>\n",
              "    </tr>\n",
              "    <tr>\n",
              "      <th>3</th>\n",
              "      <td>CartScreenAppear</td>\n",
              "      <td>3518123091307005509</td>\n",
              "      <td>1564054127</td>\n",
              "      <td>248</td>\n",
              "    </tr>\n",
              "    <tr>\n",
              "      <th>4</th>\n",
              "      <td>PaymentScreenSuccessful</td>\n",
              "      <td>6217807653094995999</td>\n",
              "      <td>1564055322</td>\n",
              "      <td>248</td>\n",
              "    </tr>\n",
              "  </tbody>\n",
              "</table>\n",
              "</div>\n",
              "    <div class=\"colab-df-buttons\">\n",
              "\n",
              "  <div class=\"colab-df-container\">\n",
              "    <button class=\"colab-df-convert\" onclick=\"convertToInteractive('df-fd970df6-8c6b-47e5-8005-e849c5d7cbd2')\"\n",
              "            title=\"Convert this dataframe to an interactive table.\"\n",
              "            style=\"display:none;\">\n",
              "\n",
              "  <svg xmlns=\"http://www.w3.org/2000/svg\" height=\"24px\" viewBox=\"0 -960 960 960\">\n",
              "    <path d=\"M120-120v-720h720v720H120Zm60-500h600v-160H180v160Zm220 220h160v-160H400v160Zm0 220h160v-160H400v160ZM180-400h160v-160H180v160Zm440 0h160v-160H620v160ZM180-180h160v-160H180v160Zm440 0h160v-160H620v160Z\"/>\n",
              "  </svg>\n",
              "    </button>\n",
              "\n",
              "  <style>\n",
              "    .colab-df-container {\n",
              "      display:flex;\n",
              "      gap: 12px;\n",
              "    }\n",
              "\n",
              "    .colab-df-convert {\n",
              "      background-color: #E8F0FE;\n",
              "      border: none;\n",
              "      border-radius: 50%;\n",
              "      cursor: pointer;\n",
              "      display: none;\n",
              "      fill: #1967D2;\n",
              "      height: 32px;\n",
              "      padding: 0 0 0 0;\n",
              "      width: 32px;\n",
              "    }\n",
              "\n",
              "    .colab-df-convert:hover {\n",
              "      background-color: #E2EBFA;\n",
              "      box-shadow: 0px 1px 2px rgba(60, 64, 67, 0.3), 0px 1px 3px 1px rgba(60, 64, 67, 0.15);\n",
              "      fill: #174EA6;\n",
              "    }\n",
              "\n",
              "    .colab-df-buttons div {\n",
              "      margin-bottom: 4px;\n",
              "    }\n",
              "\n",
              "    [theme=dark] .colab-df-convert {\n",
              "      background-color: #3B4455;\n",
              "      fill: #D2E3FC;\n",
              "    }\n",
              "\n",
              "    [theme=dark] .colab-df-convert:hover {\n",
              "      background-color: #434B5C;\n",
              "      box-shadow: 0px 1px 3px 1px rgba(0, 0, 0, 0.15);\n",
              "      filter: drop-shadow(0px 1px 2px rgba(0, 0, 0, 0.3));\n",
              "      fill: #FFFFFF;\n",
              "    }\n",
              "  </style>\n",
              "\n",
              "    <script>\n",
              "      const buttonEl =\n",
              "        document.querySelector('#df-fd970df6-8c6b-47e5-8005-e849c5d7cbd2 button.colab-df-convert');\n",
              "      buttonEl.style.display =\n",
              "        google.colab.kernel.accessAllowed ? 'block' : 'none';\n",
              "\n",
              "      async function convertToInteractive(key) {\n",
              "        const element = document.querySelector('#df-fd970df6-8c6b-47e5-8005-e849c5d7cbd2');\n",
              "        const dataTable =\n",
              "          await google.colab.kernel.invokeFunction('convertToInteractive',\n",
              "                                                    [key], {});\n",
              "        if (!dataTable) return;\n",
              "\n",
              "        const docLinkHtml = 'Like what you see? Visit the ' +\n",
              "          '<a target=\"_blank\" href=https://colab.research.google.com/notebooks/data_table.ipynb>data table notebook</a>'\n",
              "          + ' to learn more about interactive tables.';\n",
              "        element.innerHTML = '';\n",
              "        dataTable['output_type'] = 'display_data';\n",
              "        await google.colab.output.renderOutput(dataTable, element);\n",
              "        const docLink = document.createElement('div');\n",
              "        docLink.innerHTML = docLinkHtml;\n",
              "        element.appendChild(docLink);\n",
              "      }\n",
              "    </script>\n",
              "  </div>\n",
              "\n",
              "\n",
              "<div id=\"df-462d2fa2-744d-41e1-8da6-d6bb7859a5ee\">\n",
              "  <button class=\"colab-df-quickchart\" onclick=\"quickchart('df-462d2fa2-744d-41e1-8da6-d6bb7859a5ee')\"\n",
              "            title=\"Suggest charts\"\n",
              "            style=\"display:none;\">\n",
              "\n",
              "<svg xmlns=\"http://www.w3.org/2000/svg\" height=\"24px\"viewBox=\"0 0 24 24\"\n",
              "     width=\"24px\">\n",
              "    <g>\n",
              "        <path d=\"M19 3H5c-1.1 0-2 .9-2 2v14c0 1.1.9 2 2 2h14c1.1 0 2-.9 2-2V5c0-1.1-.9-2-2-2zM9 17H7v-7h2v7zm4 0h-2V7h2v10zm4 0h-2v-4h2v4z\"/>\n",
              "    </g>\n",
              "</svg>\n",
              "  </button>\n",
              "\n",
              "<style>\n",
              "  .colab-df-quickchart {\n",
              "      --bg-color: #E8F0FE;\n",
              "      --fill-color: #1967D2;\n",
              "      --hover-bg-color: #E2EBFA;\n",
              "      --hover-fill-color: #174EA6;\n",
              "      --disabled-fill-color: #AAA;\n",
              "      --disabled-bg-color: #DDD;\n",
              "  }\n",
              "\n",
              "  [theme=dark] .colab-df-quickchart {\n",
              "      --bg-color: #3B4455;\n",
              "      --fill-color: #D2E3FC;\n",
              "      --hover-bg-color: #434B5C;\n",
              "      --hover-fill-color: #FFFFFF;\n",
              "      --disabled-bg-color: #3B4455;\n",
              "      --disabled-fill-color: #666;\n",
              "  }\n",
              "\n",
              "  .colab-df-quickchart {\n",
              "    background-color: var(--bg-color);\n",
              "    border: none;\n",
              "    border-radius: 50%;\n",
              "    cursor: pointer;\n",
              "    display: none;\n",
              "    fill: var(--fill-color);\n",
              "    height: 32px;\n",
              "    padding: 0;\n",
              "    width: 32px;\n",
              "  }\n",
              "\n",
              "  .colab-df-quickchart:hover {\n",
              "    background-color: var(--hover-bg-color);\n",
              "    box-shadow: 0 1px 2px rgba(60, 64, 67, 0.3), 0 1px 3px 1px rgba(60, 64, 67, 0.15);\n",
              "    fill: var(--button-hover-fill-color);\n",
              "  }\n",
              "\n",
              "  .colab-df-quickchart-complete:disabled,\n",
              "  .colab-df-quickchart-complete:disabled:hover {\n",
              "    background-color: var(--disabled-bg-color);\n",
              "    fill: var(--disabled-fill-color);\n",
              "    box-shadow: none;\n",
              "  }\n",
              "\n",
              "  .colab-df-spinner {\n",
              "    border: 2px solid var(--fill-color);\n",
              "    border-color: transparent;\n",
              "    border-bottom-color: var(--fill-color);\n",
              "    animation:\n",
              "      spin 1s steps(1) infinite;\n",
              "  }\n",
              "\n",
              "  @keyframes spin {\n",
              "    0% {\n",
              "      border-color: transparent;\n",
              "      border-bottom-color: var(--fill-color);\n",
              "      border-left-color: var(--fill-color);\n",
              "    }\n",
              "    20% {\n",
              "      border-color: transparent;\n",
              "      border-left-color: var(--fill-color);\n",
              "      border-top-color: var(--fill-color);\n",
              "    }\n",
              "    30% {\n",
              "      border-color: transparent;\n",
              "      border-left-color: var(--fill-color);\n",
              "      border-top-color: var(--fill-color);\n",
              "      border-right-color: var(--fill-color);\n",
              "    }\n",
              "    40% {\n",
              "      border-color: transparent;\n",
              "      border-right-color: var(--fill-color);\n",
              "      border-top-color: var(--fill-color);\n",
              "    }\n",
              "    60% {\n",
              "      border-color: transparent;\n",
              "      border-right-color: var(--fill-color);\n",
              "    }\n",
              "    80% {\n",
              "      border-color: transparent;\n",
              "      border-right-color: var(--fill-color);\n",
              "      border-bottom-color: var(--fill-color);\n",
              "    }\n",
              "    90% {\n",
              "      border-color: transparent;\n",
              "      border-bottom-color: var(--fill-color);\n",
              "    }\n",
              "  }\n",
              "</style>\n",
              "\n",
              "  <script>\n",
              "    async function quickchart(key) {\n",
              "      const quickchartButtonEl =\n",
              "        document.querySelector('#' + key + ' button');\n",
              "      quickchartButtonEl.disabled = true;  // To prevent multiple clicks.\n",
              "      quickchartButtonEl.classList.add('colab-df-spinner');\n",
              "      try {\n",
              "        const charts = await google.colab.kernel.invokeFunction(\n",
              "            'suggestCharts', [key], {});\n",
              "      } catch (error) {\n",
              "        console.error('Error during call to suggestCharts:', error);\n",
              "      }\n",
              "      quickchartButtonEl.classList.remove('colab-df-spinner');\n",
              "      quickchartButtonEl.classList.add('colab-df-quickchart-complete');\n",
              "    }\n",
              "    (() => {\n",
              "      let quickchartButtonEl =\n",
              "        document.querySelector('#df-462d2fa2-744d-41e1-8da6-d6bb7859a5ee button');\n",
              "      quickchartButtonEl.style.display =\n",
              "        google.colab.kernel.accessAllowed ? 'block' : 'none';\n",
              "    })();\n",
              "  </script>\n",
              "</div>\n",
              "    </div>\n",
              "  </div>\n"
            ],
            "application/vnd.google.colaboratory.intrinsic+json": {
              "type": "dataframe",
              "variable_name": "df"
            }
          },
          "metadata": {},
          "execution_count": 4
        }
      ]
    },
    {
      "cell_type": "code",
      "execution_count": null,
      "metadata": {
        "colab": {
          "base_uri": "https://localhost:8080/"
        },
        "id": "rqDVgHX1ye4D",
        "outputId": "c165e60d-a5c3-47d9-f9f3-474568d5aaf5"
      },
      "outputs": [
        {
          "output_type": "stream",
          "name": "stdout",
          "text": [
            "<class 'pandas.core.frame.DataFrame'>\n",
            "RangeIndex: 244126 entries, 0 to 244125\n",
            "Data columns (total 4 columns):\n",
            " #   Column          Non-Null Count   Dtype \n",
            "---  ------          --------------   ----- \n",
            " 0   EventName       244126 non-null  object\n",
            " 1   DeviceIDHash    244126 non-null  int64 \n",
            " 2   EventTimestamp  244126 non-null  int64 \n",
            " 3   ExpId           244126 non-null  int64 \n",
            "dtypes: int64(3), object(1)\n",
            "memory usage: 7.5+ MB\n"
          ]
        }
      ],
      "source": [
        "df.info()"
      ]
    },
    {
      "cell_type": "markdown",
      "metadata": {
        "id": "1XYjLndHye4D"
      },
      "source": [
        "Нам дана таблица в которой 244 126 строк и 4 столбца. Названия столбцов мы поменяем для удобства. Дата представлена в timestamp, нам понадобится изменить тип данных. На первый взгляд пропусков нет, перейдем к более подробному рассмотрению."
      ]
    },
    {
      "cell_type": "markdown",
      "metadata": {
        "id": "fzi2xvjjye4D"
      },
      "source": [
        "#### Предобработка данных\n",
        "- Заменим названия столбцов на более удобные;\n",
        "- Проверим пропуски и типы данных;\n",
        "- Добавим столбец даты и времени, а также отдельный столбец дат;"
      ]
    },
    {
      "cell_type": "code",
      "execution_count": null,
      "metadata": {
        "colab": {
          "base_uri": "https://localhost:8080/"
        },
        "id": "5970wDXrye4D",
        "outputId": "3b04b293-bc24-4640-c085-7cac300f6d0f"
      },
      "outputs": [
        {
          "output_type": "execute_result",
          "data": {
            "text/plain": [
              "EventName         0\n",
              "DeviceIDHash      0\n",
              "EventTimestamp    0\n",
              "ExpId             0\n",
              "dtype: int64"
            ]
          },
          "metadata": {},
          "execution_count": 6
        }
      ],
      "source": [
        "# проверяем пропуски\n",
        "df.isna().sum()"
      ]
    },
    {
      "cell_type": "code",
      "execution_count": null,
      "metadata": {
        "colab": {
          "base_uri": "https://localhost:8080/"
        },
        "id": "w_Gg3RSbye4E",
        "outputId": "0117dbba-a8a3-402f-ff7d-532eb10cc54d"
      },
      "outputs": [
        {
          "output_type": "execute_result",
          "data": {
            "text/plain": [
              "413"
            ]
          },
          "metadata": {},
          "execution_count": 7
        }
      ],
      "source": [
        "# поиск дубликатов\n",
        "df.duplicated().sum()"
      ]
    },
    {
      "cell_type": "code",
      "execution_count": null,
      "metadata": {
        "colab": {
          "base_uri": "https://localhost:8080/",
          "height": 677
        },
        "id": "mLUjiJ5kye4E",
        "outputId": "ae780b3a-e48d-444a-a49f-446e733e11e2"
      },
      "outputs": [
        {
          "output_type": "execute_result",
          "data": {
            "text/plain": [
              "                    EventName         DeviceIDHash  EventTimestamp  ExpId\n",
              "452          MainScreenAppear  5613408041324010552      1564474784    248\n",
              "453          MainScreenAppear  5613408041324010552      1564474784    248\n",
              "2348         CartScreenAppear  1694940645335807244      1564609899    248\n",
              "2350         CartScreenAppear  1694940645335807244      1564609899    248\n",
              "3572         MainScreenAppear   434103746454591587      1564628377    248\n",
              "3573         MainScreenAppear   434103746454591587      1564628377    248\n",
              "4075         MainScreenAppear  3761373764179762633      1564631266    247\n",
              "4076         MainScreenAppear  3761373764179762633      1564631266    247\n",
              "4801         MainScreenAppear  2835328739789306622      1564634641    248\n",
              "4803         MainScreenAppear  2835328739789306622      1564634641    248\n",
              "5639         CartScreenAppear  4248762472840564256      1564637764    248\n",
              "5641         CartScreenAppear  4248762472840564256      1564637764    248\n",
              "5874  PaymentScreenSuccessful  6427012997733591237      1564638452    248\n",
              "5875  PaymentScreenSuccessful  6427012997733591237      1564638452    248\n",
              "7248       OffersScreenAppear  7224691986599895551      1564641846    246\n",
              "7249       OffersScreenAppear  7224691986599895551      1564641846    246\n",
              "8064         CartScreenAppear  8189122927585332969      1564643929    248\n",
              "8065         CartScreenAppear  8189122927585332969      1564643929    248\n",
              "9178         MainScreenAppear  2230705996155527339      1564646087    246\n",
              "9179         MainScreenAppear  2230705996155527339      1564646087    246"
            ],
            "text/html": [
              "\n",
              "  <div id=\"df-890a235c-2831-4c8c-84b0-18b1a9f26693\" class=\"colab-df-container\">\n",
              "    <div>\n",
              "<style scoped>\n",
              "    .dataframe tbody tr th:only-of-type {\n",
              "        vertical-align: middle;\n",
              "    }\n",
              "\n",
              "    .dataframe tbody tr th {\n",
              "        vertical-align: top;\n",
              "    }\n",
              "\n",
              "    .dataframe thead th {\n",
              "        text-align: right;\n",
              "    }\n",
              "</style>\n",
              "<table border=\"1\" class=\"dataframe\">\n",
              "  <thead>\n",
              "    <tr style=\"text-align: right;\">\n",
              "      <th></th>\n",
              "      <th>EventName</th>\n",
              "      <th>DeviceIDHash</th>\n",
              "      <th>EventTimestamp</th>\n",
              "      <th>ExpId</th>\n",
              "    </tr>\n",
              "  </thead>\n",
              "  <tbody>\n",
              "    <tr>\n",
              "      <th>452</th>\n",
              "      <td>MainScreenAppear</td>\n",
              "      <td>5613408041324010552</td>\n",
              "      <td>1564474784</td>\n",
              "      <td>248</td>\n",
              "    </tr>\n",
              "    <tr>\n",
              "      <th>453</th>\n",
              "      <td>MainScreenAppear</td>\n",
              "      <td>5613408041324010552</td>\n",
              "      <td>1564474784</td>\n",
              "      <td>248</td>\n",
              "    </tr>\n",
              "    <tr>\n",
              "      <th>2348</th>\n",
              "      <td>CartScreenAppear</td>\n",
              "      <td>1694940645335807244</td>\n",
              "      <td>1564609899</td>\n",
              "      <td>248</td>\n",
              "    </tr>\n",
              "    <tr>\n",
              "      <th>2350</th>\n",
              "      <td>CartScreenAppear</td>\n",
              "      <td>1694940645335807244</td>\n",
              "      <td>1564609899</td>\n",
              "      <td>248</td>\n",
              "    </tr>\n",
              "    <tr>\n",
              "      <th>3572</th>\n",
              "      <td>MainScreenAppear</td>\n",
              "      <td>434103746454591587</td>\n",
              "      <td>1564628377</td>\n",
              "      <td>248</td>\n",
              "    </tr>\n",
              "    <tr>\n",
              "      <th>3573</th>\n",
              "      <td>MainScreenAppear</td>\n",
              "      <td>434103746454591587</td>\n",
              "      <td>1564628377</td>\n",
              "      <td>248</td>\n",
              "    </tr>\n",
              "    <tr>\n",
              "      <th>4075</th>\n",
              "      <td>MainScreenAppear</td>\n",
              "      <td>3761373764179762633</td>\n",
              "      <td>1564631266</td>\n",
              "      <td>247</td>\n",
              "    </tr>\n",
              "    <tr>\n",
              "      <th>4076</th>\n",
              "      <td>MainScreenAppear</td>\n",
              "      <td>3761373764179762633</td>\n",
              "      <td>1564631266</td>\n",
              "      <td>247</td>\n",
              "    </tr>\n",
              "    <tr>\n",
              "      <th>4801</th>\n",
              "      <td>MainScreenAppear</td>\n",
              "      <td>2835328739789306622</td>\n",
              "      <td>1564634641</td>\n",
              "      <td>248</td>\n",
              "    </tr>\n",
              "    <tr>\n",
              "      <th>4803</th>\n",
              "      <td>MainScreenAppear</td>\n",
              "      <td>2835328739789306622</td>\n",
              "      <td>1564634641</td>\n",
              "      <td>248</td>\n",
              "    </tr>\n",
              "    <tr>\n",
              "      <th>5639</th>\n",
              "      <td>CartScreenAppear</td>\n",
              "      <td>4248762472840564256</td>\n",
              "      <td>1564637764</td>\n",
              "      <td>248</td>\n",
              "    </tr>\n",
              "    <tr>\n",
              "      <th>5641</th>\n",
              "      <td>CartScreenAppear</td>\n",
              "      <td>4248762472840564256</td>\n",
              "      <td>1564637764</td>\n",
              "      <td>248</td>\n",
              "    </tr>\n",
              "    <tr>\n",
              "      <th>5874</th>\n",
              "      <td>PaymentScreenSuccessful</td>\n",
              "      <td>6427012997733591237</td>\n",
              "      <td>1564638452</td>\n",
              "      <td>248</td>\n",
              "    </tr>\n",
              "    <tr>\n",
              "      <th>5875</th>\n",
              "      <td>PaymentScreenSuccessful</td>\n",
              "      <td>6427012997733591237</td>\n",
              "      <td>1564638452</td>\n",
              "      <td>248</td>\n",
              "    </tr>\n",
              "    <tr>\n",
              "      <th>7248</th>\n",
              "      <td>OffersScreenAppear</td>\n",
              "      <td>7224691986599895551</td>\n",
              "      <td>1564641846</td>\n",
              "      <td>246</td>\n",
              "    </tr>\n",
              "    <tr>\n",
              "      <th>7249</th>\n",
              "      <td>OffersScreenAppear</td>\n",
              "      <td>7224691986599895551</td>\n",
              "      <td>1564641846</td>\n",
              "      <td>246</td>\n",
              "    </tr>\n",
              "    <tr>\n",
              "      <th>8064</th>\n",
              "      <td>CartScreenAppear</td>\n",
              "      <td>8189122927585332969</td>\n",
              "      <td>1564643929</td>\n",
              "      <td>248</td>\n",
              "    </tr>\n",
              "    <tr>\n",
              "      <th>8065</th>\n",
              "      <td>CartScreenAppear</td>\n",
              "      <td>8189122927585332969</td>\n",
              "      <td>1564643929</td>\n",
              "      <td>248</td>\n",
              "    </tr>\n",
              "    <tr>\n",
              "      <th>9178</th>\n",
              "      <td>MainScreenAppear</td>\n",
              "      <td>2230705996155527339</td>\n",
              "      <td>1564646087</td>\n",
              "      <td>246</td>\n",
              "    </tr>\n",
              "    <tr>\n",
              "      <th>9179</th>\n",
              "      <td>MainScreenAppear</td>\n",
              "      <td>2230705996155527339</td>\n",
              "      <td>1564646087</td>\n",
              "      <td>246</td>\n",
              "    </tr>\n",
              "  </tbody>\n",
              "</table>\n",
              "</div>\n",
              "    <div class=\"colab-df-buttons\">\n",
              "\n",
              "  <div class=\"colab-df-container\">\n",
              "    <button class=\"colab-df-convert\" onclick=\"convertToInteractive('df-890a235c-2831-4c8c-84b0-18b1a9f26693')\"\n",
              "            title=\"Convert this dataframe to an interactive table.\"\n",
              "            style=\"display:none;\">\n",
              "\n",
              "  <svg xmlns=\"http://www.w3.org/2000/svg\" height=\"24px\" viewBox=\"0 -960 960 960\">\n",
              "    <path d=\"M120-120v-720h720v720H120Zm60-500h600v-160H180v160Zm220 220h160v-160H400v160Zm0 220h160v-160H400v160ZM180-400h160v-160H180v160Zm440 0h160v-160H620v160ZM180-180h160v-160H180v160Zm440 0h160v-160H620v160Z\"/>\n",
              "  </svg>\n",
              "    </button>\n",
              "\n",
              "  <style>\n",
              "    .colab-df-container {\n",
              "      display:flex;\n",
              "      gap: 12px;\n",
              "    }\n",
              "\n",
              "    .colab-df-convert {\n",
              "      background-color: #E8F0FE;\n",
              "      border: none;\n",
              "      border-radius: 50%;\n",
              "      cursor: pointer;\n",
              "      display: none;\n",
              "      fill: #1967D2;\n",
              "      height: 32px;\n",
              "      padding: 0 0 0 0;\n",
              "      width: 32px;\n",
              "    }\n",
              "\n",
              "    .colab-df-convert:hover {\n",
              "      background-color: #E2EBFA;\n",
              "      box-shadow: 0px 1px 2px rgba(60, 64, 67, 0.3), 0px 1px 3px 1px rgba(60, 64, 67, 0.15);\n",
              "      fill: #174EA6;\n",
              "    }\n",
              "\n",
              "    .colab-df-buttons div {\n",
              "      margin-bottom: 4px;\n",
              "    }\n",
              "\n",
              "    [theme=dark] .colab-df-convert {\n",
              "      background-color: #3B4455;\n",
              "      fill: #D2E3FC;\n",
              "    }\n",
              "\n",
              "    [theme=dark] .colab-df-convert:hover {\n",
              "      background-color: #434B5C;\n",
              "      box-shadow: 0px 1px 3px 1px rgba(0, 0, 0, 0.15);\n",
              "      filter: drop-shadow(0px 1px 2px rgba(0, 0, 0, 0.3));\n",
              "      fill: #FFFFFF;\n",
              "    }\n",
              "  </style>\n",
              "\n",
              "    <script>\n",
              "      const buttonEl =\n",
              "        document.querySelector('#df-890a235c-2831-4c8c-84b0-18b1a9f26693 button.colab-df-convert');\n",
              "      buttonEl.style.display =\n",
              "        google.colab.kernel.accessAllowed ? 'block' : 'none';\n",
              "\n",
              "      async function convertToInteractive(key) {\n",
              "        const element = document.querySelector('#df-890a235c-2831-4c8c-84b0-18b1a9f26693');\n",
              "        const dataTable =\n",
              "          await google.colab.kernel.invokeFunction('convertToInteractive',\n",
              "                                                    [key], {});\n",
              "        if (!dataTable) return;\n",
              "\n",
              "        const docLinkHtml = 'Like what you see? Visit the ' +\n",
              "          '<a target=\"_blank\" href=https://colab.research.google.com/notebooks/data_table.ipynb>data table notebook</a>'\n",
              "          + ' to learn more about interactive tables.';\n",
              "        element.innerHTML = '';\n",
              "        dataTable['output_type'] = 'display_data';\n",
              "        await google.colab.output.renderOutput(dataTable, element);\n",
              "        const docLink = document.createElement('div');\n",
              "        docLink.innerHTML = docLinkHtml;\n",
              "        element.appendChild(docLink);\n",
              "      }\n",
              "    </script>\n",
              "  </div>\n",
              "\n",
              "\n",
              "<div id=\"df-4c840cfe-ba37-4eb6-a91e-9abf79dd8fec\">\n",
              "  <button class=\"colab-df-quickchart\" onclick=\"quickchart('df-4c840cfe-ba37-4eb6-a91e-9abf79dd8fec')\"\n",
              "            title=\"Suggest charts\"\n",
              "            style=\"display:none;\">\n",
              "\n",
              "<svg xmlns=\"http://www.w3.org/2000/svg\" height=\"24px\"viewBox=\"0 0 24 24\"\n",
              "     width=\"24px\">\n",
              "    <g>\n",
              "        <path d=\"M19 3H5c-1.1 0-2 .9-2 2v14c0 1.1.9 2 2 2h14c1.1 0 2-.9 2-2V5c0-1.1-.9-2-2-2zM9 17H7v-7h2v7zm4 0h-2V7h2v10zm4 0h-2v-4h2v4z\"/>\n",
              "    </g>\n",
              "</svg>\n",
              "  </button>\n",
              "\n",
              "<style>\n",
              "  .colab-df-quickchart {\n",
              "      --bg-color: #E8F0FE;\n",
              "      --fill-color: #1967D2;\n",
              "      --hover-bg-color: #E2EBFA;\n",
              "      --hover-fill-color: #174EA6;\n",
              "      --disabled-fill-color: #AAA;\n",
              "      --disabled-bg-color: #DDD;\n",
              "  }\n",
              "\n",
              "  [theme=dark] .colab-df-quickchart {\n",
              "      --bg-color: #3B4455;\n",
              "      --fill-color: #D2E3FC;\n",
              "      --hover-bg-color: #434B5C;\n",
              "      --hover-fill-color: #FFFFFF;\n",
              "      --disabled-bg-color: #3B4455;\n",
              "      --disabled-fill-color: #666;\n",
              "  }\n",
              "\n",
              "  .colab-df-quickchart {\n",
              "    background-color: var(--bg-color);\n",
              "    border: none;\n",
              "    border-radius: 50%;\n",
              "    cursor: pointer;\n",
              "    display: none;\n",
              "    fill: var(--fill-color);\n",
              "    height: 32px;\n",
              "    padding: 0;\n",
              "    width: 32px;\n",
              "  }\n",
              "\n",
              "  .colab-df-quickchart:hover {\n",
              "    background-color: var(--hover-bg-color);\n",
              "    box-shadow: 0 1px 2px rgba(60, 64, 67, 0.3), 0 1px 3px 1px rgba(60, 64, 67, 0.15);\n",
              "    fill: var(--button-hover-fill-color);\n",
              "  }\n",
              "\n",
              "  .colab-df-quickchart-complete:disabled,\n",
              "  .colab-df-quickchart-complete:disabled:hover {\n",
              "    background-color: var(--disabled-bg-color);\n",
              "    fill: var(--disabled-fill-color);\n",
              "    box-shadow: none;\n",
              "  }\n",
              "\n",
              "  .colab-df-spinner {\n",
              "    border: 2px solid var(--fill-color);\n",
              "    border-color: transparent;\n",
              "    border-bottom-color: var(--fill-color);\n",
              "    animation:\n",
              "      spin 1s steps(1) infinite;\n",
              "  }\n",
              "\n",
              "  @keyframes spin {\n",
              "    0% {\n",
              "      border-color: transparent;\n",
              "      border-bottom-color: var(--fill-color);\n",
              "      border-left-color: var(--fill-color);\n",
              "    }\n",
              "    20% {\n",
              "      border-color: transparent;\n",
              "      border-left-color: var(--fill-color);\n",
              "      border-top-color: var(--fill-color);\n",
              "    }\n",
              "    30% {\n",
              "      border-color: transparent;\n",
              "      border-left-color: var(--fill-color);\n",
              "      border-top-color: var(--fill-color);\n",
              "      border-right-color: var(--fill-color);\n",
              "    }\n",
              "    40% {\n",
              "      border-color: transparent;\n",
              "      border-right-color: var(--fill-color);\n",
              "      border-top-color: var(--fill-color);\n",
              "    }\n",
              "    60% {\n",
              "      border-color: transparent;\n",
              "      border-right-color: var(--fill-color);\n",
              "    }\n",
              "    80% {\n",
              "      border-color: transparent;\n",
              "      border-right-color: var(--fill-color);\n",
              "      border-bottom-color: var(--fill-color);\n",
              "    }\n",
              "    90% {\n",
              "      border-color: transparent;\n",
              "      border-bottom-color: var(--fill-color);\n",
              "    }\n",
              "  }\n",
              "</style>\n",
              "\n",
              "  <script>\n",
              "    async function quickchart(key) {\n",
              "      const quickchartButtonEl =\n",
              "        document.querySelector('#' + key + ' button');\n",
              "      quickchartButtonEl.disabled = true;  // To prevent multiple clicks.\n",
              "      quickchartButtonEl.classList.add('colab-df-spinner');\n",
              "      try {\n",
              "        const charts = await google.colab.kernel.invokeFunction(\n",
              "            'suggestCharts', [key], {});\n",
              "      } catch (error) {\n",
              "        console.error('Error during call to suggestCharts:', error);\n",
              "      }\n",
              "      quickchartButtonEl.classList.remove('colab-df-spinner');\n",
              "      quickchartButtonEl.classList.add('colab-df-quickchart-complete');\n",
              "    }\n",
              "    (() => {\n",
              "      let quickchartButtonEl =\n",
              "        document.querySelector('#df-4c840cfe-ba37-4eb6-a91e-9abf79dd8fec button');\n",
              "      quickchartButtonEl.style.display =\n",
              "        google.colab.kernel.accessAllowed ? 'block' : 'none';\n",
              "    })();\n",
              "  </script>\n",
              "</div>\n",
              "    </div>\n",
              "  </div>\n"
            ],
            "application/vnd.google.colaboratory.intrinsic+json": {
              "type": "dataframe",
              "summary": "{\n  \"name\": \"df[df\",\n  \"rows\": 20,\n  \"fields\": [\n    {\n      \"column\": \"EventName\",\n      \"properties\": {\n        \"dtype\": \"category\",\n        \"num_unique_values\": 4,\n        \"samples\": [\n          \"CartScreenAppear\",\n          \"OffersScreenAppear\",\n          \"MainScreenAppear\"\n        ],\n        \"semantic_type\": \"\",\n        \"description\": \"\"\n      }\n    },\n    {\n      \"column\": \"DeviceIDHash\",\n      \"properties\": {\n        \"dtype\": \"number\",\n        \"std\": 2478713570485801472,\n        \"min\": 434103746454591587,\n        \"max\": 8189122927585332969,\n        \"num_unique_values\": 10,\n        \"samples\": [\n          8189122927585332969,\n          1694940645335807244,\n          4248762472840564256\n        ],\n        \"semantic_type\": \"\",\n        \"description\": \"\"\n      }\n    },\n    {\n      \"column\": \"EventTimestamp\",\n      \"properties\": {\n        \"dtype\": \"number\",\n        \"std\": 50231,\n        \"min\": 1564474784,\n        \"max\": 1564646087,\n        \"num_unique_values\": 10,\n        \"samples\": [\n          1564643929,\n          1564609899,\n          1564637764\n        ],\n        \"semantic_type\": \"\",\n        \"description\": \"\"\n      }\n    },\n    {\n      \"column\": \"ExpId\",\n      \"properties\": {\n        \"dtype\": \"number\",\n        \"std\": 0,\n        \"min\": 246,\n        \"max\": 248,\n        \"num_unique_values\": 3,\n        \"samples\": [\n          248,\n          247,\n          246\n        ],\n        \"semantic_type\": \"\",\n        \"description\": \"\"\n      }\n    }\n  ]\n}"
            }
          },
          "metadata": {},
          "execution_count": 8
        }
      ],
      "source": [
        "# смотрим дубликаты подробнее, чтобы убедится что это действительно они\n",
        "df[df.duplicated(keep=False)].head(20)"
      ]
    },
    {
      "cell_type": "code",
      "execution_count": null,
      "metadata": {
        "id": "CeBtV2bJye4E"
      },
      "outputs": [],
      "source": [
        "# удаляем дубликаты\n",
        "df.drop_duplicates(inplace=True)"
      ]
    },
    {
      "cell_type": "code",
      "execution_count": null,
      "metadata": {
        "id": "5a_2eOHkye4E"
      },
      "outputs": [],
      "source": [
        "# переименовываем колонки\n",
        "df = df.rename(columns={'EventName': 'event_name', 'DeviceIDHash': 'user_id', 'EventTimestamp': 'event_time', 'ExpId':'group_id'})"
      ]
    },
    {
      "cell_type": "code",
      "execution_count": null,
      "metadata": {
        "id": "GazOVQItye4F"
      },
      "outputs": [],
      "source": [
        "# создаем столбцы даты и времени\n",
        "df['event_time'] = pd.to_datetime(df['event_time'], unit='s')\n",
        "df['event_date'] = df['event_time'].dt.date"
      ]
    },
    {
      "cell_type": "code",
      "execution_count": null,
      "metadata": {
        "scrolled": true,
        "colab": {
          "base_uri": "https://localhost:8080/",
          "height": 206
        },
        "id": "JOCgxeymye4F",
        "outputId": "acbfb5dc-86f2-406d-d657-96d49da32720"
      },
      "outputs": [
        {
          "output_type": "execute_result",
          "data": {
            "text/plain": [
              "                event_name              user_id          event_time  group_id  \\\n",
              "0         MainScreenAppear  4575588528974610257 2019-07-25 04:43:36       246   \n",
              "1         MainScreenAppear  7416695313311560658 2019-07-25 11:11:42       246   \n",
              "2  PaymentScreenSuccessful  3518123091307005509 2019-07-25 11:28:47       248   \n",
              "3         CartScreenAppear  3518123091307005509 2019-07-25 11:28:47       248   \n",
              "4  PaymentScreenSuccessful  6217807653094995999 2019-07-25 11:48:42       248   \n",
              "\n",
              "   event_date  \n",
              "0  2019-07-25  \n",
              "1  2019-07-25  \n",
              "2  2019-07-25  \n",
              "3  2019-07-25  \n",
              "4  2019-07-25  "
            ],
            "text/html": [
              "\n",
              "  <div id=\"df-694b4132-4dc7-4fbc-9674-aff28eb3087c\" class=\"colab-df-container\">\n",
              "    <div>\n",
              "<style scoped>\n",
              "    .dataframe tbody tr th:only-of-type {\n",
              "        vertical-align: middle;\n",
              "    }\n",
              "\n",
              "    .dataframe tbody tr th {\n",
              "        vertical-align: top;\n",
              "    }\n",
              "\n",
              "    .dataframe thead th {\n",
              "        text-align: right;\n",
              "    }\n",
              "</style>\n",
              "<table border=\"1\" class=\"dataframe\">\n",
              "  <thead>\n",
              "    <tr style=\"text-align: right;\">\n",
              "      <th></th>\n",
              "      <th>event_name</th>\n",
              "      <th>user_id</th>\n",
              "      <th>event_time</th>\n",
              "      <th>group_id</th>\n",
              "      <th>event_date</th>\n",
              "    </tr>\n",
              "  </thead>\n",
              "  <tbody>\n",
              "    <tr>\n",
              "      <th>0</th>\n",
              "      <td>MainScreenAppear</td>\n",
              "      <td>4575588528974610257</td>\n",
              "      <td>2019-07-25 04:43:36</td>\n",
              "      <td>246</td>\n",
              "      <td>2019-07-25</td>\n",
              "    </tr>\n",
              "    <tr>\n",
              "      <th>1</th>\n",
              "      <td>MainScreenAppear</td>\n",
              "      <td>7416695313311560658</td>\n",
              "      <td>2019-07-25 11:11:42</td>\n",
              "      <td>246</td>\n",
              "      <td>2019-07-25</td>\n",
              "    </tr>\n",
              "    <tr>\n",
              "      <th>2</th>\n",
              "      <td>PaymentScreenSuccessful</td>\n",
              "      <td>3518123091307005509</td>\n",
              "      <td>2019-07-25 11:28:47</td>\n",
              "      <td>248</td>\n",
              "      <td>2019-07-25</td>\n",
              "    </tr>\n",
              "    <tr>\n",
              "      <th>3</th>\n",
              "      <td>CartScreenAppear</td>\n",
              "      <td>3518123091307005509</td>\n",
              "      <td>2019-07-25 11:28:47</td>\n",
              "      <td>248</td>\n",
              "      <td>2019-07-25</td>\n",
              "    </tr>\n",
              "    <tr>\n",
              "      <th>4</th>\n",
              "      <td>PaymentScreenSuccessful</td>\n",
              "      <td>6217807653094995999</td>\n",
              "      <td>2019-07-25 11:48:42</td>\n",
              "      <td>248</td>\n",
              "      <td>2019-07-25</td>\n",
              "    </tr>\n",
              "  </tbody>\n",
              "</table>\n",
              "</div>\n",
              "    <div class=\"colab-df-buttons\">\n",
              "\n",
              "  <div class=\"colab-df-container\">\n",
              "    <button class=\"colab-df-convert\" onclick=\"convertToInteractive('df-694b4132-4dc7-4fbc-9674-aff28eb3087c')\"\n",
              "            title=\"Convert this dataframe to an interactive table.\"\n",
              "            style=\"display:none;\">\n",
              "\n",
              "  <svg xmlns=\"http://www.w3.org/2000/svg\" height=\"24px\" viewBox=\"0 -960 960 960\">\n",
              "    <path d=\"M120-120v-720h720v720H120Zm60-500h600v-160H180v160Zm220 220h160v-160H400v160Zm0 220h160v-160H400v160ZM180-400h160v-160H180v160Zm440 0h160v-160H620v160ZM180-180h160v-160H180v160Zm440 0h160v-160H620v160Z\"/>\n",
              "  </svg>\n",
              "    </button>\n",
              "\n",
              "  <style>\n",
              "    .colab-df-container {\n",
              "      display:flex;\n",
              "      gap: 12px;\n",
              "    }\n",
              "\n",
              "    .colab-df-convert {\n",
              "      background-color: #E8F0FE;\n",
              "      border: none;\n",
              "      border-radius: 50%;\n",
              "      cursor: pointer;\n",
              "      display: none;\n",
              "      fill: #1967D2;\n",
              "      height: 32px;\n",
              "      padding: 0 0 0 0;\n",
              "      width: 32px;\n",
              "    }\n",
              "\n",
              "    .colab-df-convert:hover {\n",
              "      background-color: #E2EBFA;\n",
              "      box-shadow: 0px 1px 2px rgba(60, 64, 67, 0.3), 0px 1px 3px 1px rgba(60, 64, 67, 0.15);\n",
              "      fill: #174EA6;\n",
              "    }\n",
              "\n",
              "    .colab-df-buttons div {\n",
              "      margin-bottom: 4px;\n",
              "    }\n",
              "\n",
              "    [theme=dark] .colab-df-convert {\n",
              "      background-color: #3B4455;\n",
              "      fill: #D2E3FC;\n",
              "    }\n",
              "\n",
              "    [theme=dark] .colab-df-convert:hover {\n",
              "      background-color: #434B5C;\n",
              "      box-shadow: 0px 1px 3px 1px rgba(0, 0, 0, 0.15);\n",
              "      filter: drop-shadow(0px 1px 2px rgba(0, 0, 0, 0.3));\n",
              "      fill: #FFFFFF;\n",
              "    }\n",
              "  </style>\n",
              "\n",
              "    <script>\n",
              "      const buttonEl =\n",
              "        document.querySelector('#df-694b4132-4dc7-4fbc-9674-aff28eb3087c button.colab-df-convert');\n",
              "      buttonEl.style.display =\n",
              "        google.colab.kernel.accessAllowed ? 'block' : 'none';\n",
              "\n",
              "      async function convertToInteractive(key) {\n",
              "        const element = document.querySelector('#df-694b4132-4dc7-4fbc-9674-aff28eb3087c');\n",
              "        const dataTable =\n",
              "          await google.colab.kernel.invokeFunction('convertToInteractive',\n",
              "                                                    [key], {});\n",
              "        if (!dataTable) return;\n",
              "\n",
              "        const docLinkHtml = 'Like what you see? Visit the ' +\n",
              "          '<a target=\"_blank\" href=https://colab.research.google.com/notebooks/data_table.ipynb>data table notebook</a>'\n",
              "          + ' to learn more about interactive tables.';\n",
              "        element.innerHTML = '';\n",
              "        dataTable['output_type'] = 'display_data';\n",
              "        await google.colab.output.renderOutput(dataTable, element);\n",
              "        const docLink = document.createElement('div');\n",
              "        docLink.innerHTML = docLinkHtml;\n",
              "        element.appendChild(docLink);\n",
              "      }\n",
              "    </script>\n",
              "  </div>\n",
              "\n",
              "\n",
              "<div id=\"df-515abfda-6594-4c5c-802d-ca4bb94975ad\">\n",
              "  <button class=\"colab-df-quickchart\" onclick=\"quickchart('df-515abfda-6594-4c5c-802d-ca4bb94975ad')\"\n",
              "            title=\"Suggest charts\"\n",
              "            style=\"display:none;\">\n",
              "\n",
              "<svg xmlns=\"http://www.w3.org/2000/svg\" height=\"24px\"viewBox=\"0 0 24 24\"\n",
              "     width=\"24px\">\n",
              "    <g>\n",
              "        <path d=\"M19 3H5c-1.1 0-2 .9-2 2v14c0 1.1.9 2 2 2h14c1.1 0 2-.9 2-2V5c0-1.1-.9-2-2-2zM9 17H7v-7h2v7zm4 0h-2V7h2v10zm4 0h-2v-4h2v4z\"/>\n",
              "    </g>\n",
              "</svg>\n",
              "  </button>\n",
              "\n",
              "<style>\n",
              "  .colab-df-quickchart {\n",
              "      --bg-color: #E8F0FE;\n",
              "      --fill-color: #1967D2;\n",
              "      --hover-bg-color: #E2EBFA;\n",
              "      --hover-fill-color: #174EA6;\n",
              "      --disabled-fill-color: #AAA;\n",
              "      --disabled-bg-color: #DDD;\n",
              "  }\n",
              "\n",
              "  [theme=dark] .colab-df-quickchart {\n",
              "      --bg-color: #3B4455;\n",
              "      --fill-color: #D2E3FC;\n",
              "      --hover-bg-color: #434B5C;\n",
              "      --hover-fill-color: #FFFFFF;\n",
              "      --disabled-bg-color: #3B4455;\n",
              "      --disabled-fill-color: #666;\n",
              "  }\n",
              "\n",
              "  .colab-df-quickchart {\n",
              "    background-color: var(--bg-color);\n",
              "    border: none;\n",
              "    border-radius: 50%;\n",
              "    cursor: pointer;\n",
              "    display: none;\n",
              "    fill: var(--fill-color);\n",
              "    height: 32px;\n",
              "    padding: 0;\n",
              "    width: 32px;\n",
              "  }\n",
              "\n",
              "  .colab-df-quickchart:hover {\n",
              "    background-color: var(--hover-bg-color);\n",
              "    box-shadow: 0 1px 2px rgba(60, 64, 67, 0.3), 0 1px 3px 1px rgba(60, 64, 67, 0.15);\n",
              "    fill: var(--button-hover-fill-color);\n",
              "  }\n",
              "\n",
              "  .colab-df-quickchart-complete:disabled,\n",
              "  .colab-df-quickchart-complete:disabled:hover {\n",
              "    background-color: var(--disabled-bg-color);\n",
              "    fill: var(--disabled-fill-color);\n",
              "    box-shadow: none;\n",
              "  }\n",
              "\n",
              "  .colab-df-spinner {\n",
              "    border: 2px solid var(--fill-color);\n",
              "    border-color: transparent;\n",
              "    border-bottom-color: var(--fill-color);\n",
              "    animation:\n",
              "      spin 1s steps(1) infinite;\n",
              "  }\n",
              "\n",
              "  @keyframes spin {\n",
              "    0% {\n",
              "      border-color: transparent;\n",
              "      border-bottom-color: var(--fill-color);\n",
              "      border-left-color: var(--fill-color);\n",
              "    }\n",
              "    20% {\n",
              "      border-color: transparent;\n",
              "      border-left-color: var(--fill-color);\n",
              "      border-top-color: var(--fill-color);\n",
              "    }\n",
              "    30% {\n",
              "      border-color: transparent;\n",
              "      border-left-color: var(--fill-color);\n",
              "      border-top-color: var(--fill-color);\n",
              "      border-right-color: var(--fill-color);\n",
              "    }\n",
              "    40% {\n",
              "      border-color: transparent;\n",
              "      border-right-color: var(--fill-color);\n",
              "      border-top-color: var(--fill-color);\n",
              "    }\n",
              "    60% {\n",
              "      border-color: transparent;\n",
              "      border-right-color: var(--fill-color);\n",
              "    }\n",
              "    80% {\n",
              "      border-color: transparent;\n",
              "      border-right-color: var(--fill-color);\n",
              "      border-bottom-color: var(--fill-color);\n",
              "    }\n",
              "    90% {\n",
              "      border-color: transparent;\n",
              "      border-bottom-color: var(--fill-color);\n",
              "    }\n",
              "  }\n",
              "</style>\n",
              "\n",
              "  <script>\n",
              "    async function quickchart(key) {\n",
              "      const quickchartButtonEl =\n",
              "        document.querySelector('#' + key + ' button');\n",
              "      quickchartButtonEl.disabled = true;  // To prevent multiple clicks.\n",
              "      quickchartButtonEl.classList.add('colab-df-spinner');\n",
              "      try {\n",
              "        const charts = await google.colab.kernel.invokeFunction(\n",
              "            'suggestCharts', [key], {});\n",
              "      } catch (error) {\n",
              "        console.error('Error during call to suggestCharts:', error);\n",
              "      }\n",
              "      quickchartButtonEl.classList.remove('colab-df-spinner');\n",
              "      quickchartButtonEl.classList.add('colab-df-quickchart-complete');\n",
              "    }\n",
              "    (() => {\n",
              "      let quickchartButtonEl =\n",
              "        document.querySelector('#df-515abfda-6594-4c5c-802d-ca4bb94975ad button');\n",
              "      quickchartButtonEl.style.display =\n",
              "        google.colab.kernel.accessAllowed ? 'block' : 'none';\n",
              "    })();\n",
              "  </script>\n",
              "</div>\n",
              "    </div>\n",
              "  </div>\n"
            ],
            "application/vnd.google.colaboratory.intrinsic+json": {
              "type": "dataframe",
              "variable_name": "df"
            }
          },
          "metadata": {},
          "execution_count": 12
        }
      ],
      "source": [
        "df.head()"
      ]
    },
    {
      "cell_type": "code",
      "execution_count": null,
      "metadata": {
        "colab": {
          "base_uri": "https://localhost:8080/"
        },
        "id": "U9aQOn9Xye4F",
        "outputId": "073133c7-9ef6-4388-cadd-b1121973d026"
      },
      "outputs": [
        {
          "output_type": "execute_result",
          "data": {
            "text/plain": [
              "group_id\n",
              "248    85582\n",
              "246    80181\n",
              "247    77950\n",
              "Name: count, dtype: int64"
            ]
          },
          "metadata": {},
          "execution_count": 13
        }
      ],
      "source": [
        "# смотрим распределение пользователей по группам\n",
        "df['group_id'].value_counts()"
      ]
    },
    {
      "cell_type": "code",
      "execution_count": null,
      "metadata": {
        "colab": {
          "base_uri": "https://localhost:8080/"
        },
        "id": "eKoVVVScye4F",
        "outputId": "7af2ba61-6d3c-4d5b-9a78-9d5108c3b95c"
      },
      "outputs": [
        {
          "output_type": "execute_result",
          "data": {
            "text/plain": [
              "event_name\n",
              "MainScreenAppear           119101\n",
              "OffersScreenAppear          46808\n",
              "CartScreenAppear            42668\n",
              "PaymentScreenSuccessful     34118\n",
              "Tutorial                     1018\n",
              "Name: count, dtype: int64"
            ]
          },
          "metadata": {},
          "execution_count": 14
        }
      ],
      "source": [
        "# смотрим распределение по действиям\n",
        "df['event_name'].value_counts()"
      ]
    },
    {
      "cell_type": "code",
      "execution_count": null,
      "metadata": {
        "colab": {
          "base_uri": "https://localhost:8080/"
        },
        "id": "lb0MKT37ye4G",
        "outputId": "ccf0ddb2-e556-43f4-d9a9-24010cd8ec6f"
      },
      "outputs": [
        {
          "output_type": "execute_result",
          "data": {
            "text/plain": [
              "7551"
            ]
          },
          "metadata": {},
          "execution_count": 15
        }
      ],
      "source": [
        "# смотрим число уникальных пользователей\n",
        "df['user_id'].nunique()"
      ]
    },
    {
      "cell_type": "markdown",
      "metadata": {
        "id": "H6qEfaHxye4G"
      },
      "source": [
        "**Вывод после предобработки:**  \n",
        "При более детальном рассмотрении было найдено 413 дубликатов, которые были удалены нами. В наших даных 7551 уникальных пользователей, разбитых на 3 группы: 246, 247 и 248. Распределение всех активностей и событй по группам немного неравномерное. Для группы 248 - 85 тысяч наблюдений, для 247 - 77 тысяч, для 246 - 80 тысяч. Пропусков в данных нет. Нами переименованы столбцы датафрейма, для удобства, а также добавлен один столбец.  \n",
        "   \n",
        "Новые названия столбцов с описанием:\n",
        "- event_name - название активности или события;\n",
        "- user_id - уникальный идентификатор пользователя;\n",
        "- event_time - дата и время произошедшего события;\n",
        "- group_id - группа пользователя совершившего событие;\n",
        "- event_date - дата произошедшего события, без времени."
      ]
    },
    {
      "cell_type": "markdown",
      "metadata": {
        "id": "Ps03Wld3ye4G"
      },
      "source": [
        "#### Изучение данных"
      ]
    },
    {
      "cell_type": "markdown",
      "metadata": {
        "id": "JGuB_AbHye4G"
      },
      "source": [
        "Задачи от бизнес заказчика:\n",
        "- Сколько всего событий в логе?\n",
        "- Сколько всего пользователей в логе?\n",
        "- Сколько в среднем событий приходится на пользователя?\n",
        "- Данными за какой период мы располагаем? Найдем максимальную и минимальную дату. Изучим, как меняется количество данных: построим столбчатую диаграмму, которая отобразит количество событий в зависимости от времени в разрезе групп. Можно ли быть уверенным, что у нас одинаково полные данные за весь период?\n",
        "- Технически в логи новых дней по некоторым пользователям могут «доезжать» события из прошлого — это может «перекашивать данные». Определим, с какого момента данные полные и отбросим более старые. Данными за какой период времени мы располагаем на самом деле?\n",
        "- Много ли событий и пользователей мы потеряем, отбросив старые данные?\n",
        "- Проверим, что у нас есть пользователи из всех трёх экспериментальных групп."
      ]
    },
    {
      "cell_type": "markdown",
      "metadata": {
        "id": "aC9NxXEWye4G"
      },
      "source": [
        "**Проверим что все пользователи принадлежат только к одной группе**"
      ]
    },
    {
      "cell_type": "code",
      "execution_count": null,
      "metadata": {
        "colab": {
          "base_uri": "https://localhost:8080/",
          "height": 424
        },
        "id": "7gtPquw5ye4G",
        "outputId": "59f08b1b-a549-46db-8d7b-ef21507cbf4e"
      },
      "outputs": [
        {
          "output_type": "execute_result",
          "data": {
            "text/plain": [
              "                  user_id  group_id\n",
              "0        6888746892508752         1\n",
              "5030  6207768971558512760         1\n",
              "5042  6217807653094995999         1\n",
              "5041  6217295124800833842         1\n",
              "5040  6216080220799726690         1\n",
              "...                   ...       ...\n",
              "2513  3175239243679501019         1\n",
              "2512  3171891164497446149         1\n",
              "2511  3171454373076660766         1\n",
              "2510  3170212200647575044         1\n",
              "7550  9222603179720523844         1\n",
              "\n",
              "[7551 rows x 2 columns]"
            ],
            "text/html": [
              "\n",
              "  <div id=\"df-1e407a4d-4e76-468e-938d-d473bf7eb52b\" class=\"colab-df-container\">\n",
              "    <div>\n",
              "<style scoped>\n",
              "    .dataframe tbody tr th:only-of-type {\n",
              "        vertical-align: middle;\n",
              "    }\n",
              "\n",
              "    .dataframe tbody tr th {\n",
              "        vertical-align: top;\n",
              "    }\n",
              "\n",
              "    .dataframe thead th {\n",
              "        text-align: right;\n",
              "    }\n",
              "</style>\n",
              "<table border=\"1\" class=\"dataframe\">\n",
              "  <thead>\n",
              "    <tr style=\"text-align: right;\">\n",
              "      <th></th>\n",
              "      <th>user_id</th>\n",
              "      <th>group_id</th>\n",
              "    </tr>\n",
              "  </thead>\n",
              "  <tbody>\n",
              "    <tr>\n",
              "      <th>0</th>\n",
              "      <td>6888746892508752</td>\n",
              "      <td>1</td>\n",
              "    </tr>\n",
              "    <tr>\n",
              "      <th>5030</th>\n",
              "      <td>6207768971558512760</td>\n",
              "      <td>1</td>\n",
              "    </tr>\n",
              "    <tr>\n",
              "      <th>5042</th>\n",
              "      <td>6217807653094995999</td>\n",
              "      <td>1</td>\n",
              "    </tr>\n",
              "    <tr>\n",
              "      <th>5041</th>\n",
              "      <td>6217295124800833842</td>\n",
              "      <td>1</td>\n",
              "    </tr>\n",
              "    <tr>\n",
              "      <th>5040</th>\n",
              "      <td>6216080220799726690</td>\n",
              "      <td>1</td>\n",
              "    </tr>\n",
              "    <tr>\n",
              "      <th>...</th>\n",
              "      <td>...</td>\n",
              "      <td>...</td>\n",
              "    </tr>\n",
              "    <tr>\n",
              "      <th>2513</th>\n",
              "      <td>3175239243679501019</td>\n",
              "      <td>1</td>\n",
              "    </tr>\n",
              "    <tr>\n",
              "      <th>2512</th>\n",
              "      <td>3171891164497446149</td>\n",
              "      <td>1</td>\n",
              "    </tr>\n",
              "    <tr>\n",
              "      <th>2511</th>\n",
              "      <td>3171454373076660766</td>\n",
              "      <td>1</td>\n",
              "    </tr>\n",
              "    <tr>\n",
              "      <th>2510</th>\n",
              "      <td>3170212200647575044</td>\n",
              "      <td>1</td>\n",
              "    </tr>\n",
              "    <tr>\n",
              "      <th>7550</th>\n",
              "      <td>9222603179720523844</td>\n",
              "      <td>1</td>\n",
              "    </tr>\n",
              "  </tbody>\n",
              "</table>\n",
              "<p>7551 rows × 2 columns</p>\n",
              "</div>\n",
              "    <div class=\"colab-df-buttons\">\n",
              "\n",
              "  <div class=\"colab-df-container\">\n",
              "    <button class=\"colab-df-convert\" onclick=\"convertToInteractive('df-1e407a4d-4e76-468e-938d-d473bf7eb52b')\"\n",
              "            title=\"Convert this dataframe to an interactive table.\"\n",
              "            style=\"display:none;\">\n",
              "\n",
              "  <svg xmlns=\"http://www.w3.org/2000/svg\" height=\"24px\" viewBox=\"0 -960 960 960\">\n",
              "    <path d=\"M120-120v-720h720v720H120Zm60-500h600v-160H180v160Zm220 220h160v-160H400v160Zm0 220h160v-160H400v160ZM180-400h160v-160H180v160Zm440 0h160v-160H620v160ZM180-180h160v-160H180v160Zm440 0h160v-160H620v160Z\"/>\n",
              "  </svg>\n",
              "    </button>\n",
              "\n",
              "  <style>\n",
              "    .colab-df-container {\n",
              "      display:flex;\n",
              "      gap: 12px;\n",
              "    }\n",
              "\n",
              "    .colab-df-convert {\n",
              "      background-color: #E8F0FE;\n",
              "      border: none;\n",
              "      border-radius: 50%;\n",
              "      cursor: pointer;\n",
              "      display: none;\n",
              "      fill: #1967D2;\n",
              "      height: 32px;\n",
              "      padding: 0 0 0 0;\n",
              "      width: 32px;\n",
              "    }\n",
              "\n",
              "    .colab-df-convert:hover {\n",
              "      background-color: #E2EBFA;\n",
              "      box-shadow: 0px 1px 2px rgba(60, 64, 67, 0.3), 0px 1px 3px 1px rgba(60, 64, 67, 0.15);\n",
              "      fill: #174EA6;\n",
              "    }\n",
              "\n",
              "    .colab-df-buttons div {\n",
              "      margin-bottom: 4px;\n",
              "    }\n",
              "\n",
              "    [theme=dark] .colab-df-convert {\n",
              "      background-color: #3B4455;\n",
              "      fill: #D2E3FC;\n",
              "    }\n",
              "\n",
              "    [theme=dark] .colab-df-convert:hover {\n",
              "      background-color: #434B5C;\n",
              "      box-shadow: 0px 1px 3px 1px rgba(0, 0, 0, 0.15);\n",
              "      filter: drop-shadow(0px 1px 2px rgba(0, 0, 0, 0.3));\n",
              "      fill: #FFFFFF;\n",
              "    }\n",
              "  </style>\n",
              "\n",
              "    <script>\n",
              "      const buttonEl =\n",
              "        document.querySelector('#df-1e407a4d-4e76-468e-938d-d473bf7eb52b button.colab-df-convert');\n",
              "      buttonEl.style.display =\n",
              "        google.colab.kernel.accessAllowed ? 'block' : 'none';\n",
              "\n",
              "      async function convertToInteractive(key) {\n",
              "        const element = document.querySelector('#df-1e407a4d-4e76-468e-938d-d473bf7eb52b');\n",
              "        const dataTable =\n",
              "          await google.colab.kernel.invokeFunction('convertToInteractive',\n",
              "                                                    [key], {});\n",
              "        if (!dataTable) return;\n",
              "\n",
              "        const docLinkHtml = 'Like what you see? Visit the ' +\n",
              "          '<a target=\"_blank\" href=https://colab.research.google.com/notebooks/data_table.ipynb>data table notebook</a>'\n",
              "          + ' to learn more about interactive tables.';\n",
              "        element.innerHTML = '';\n",
              "        dataTable['output_type'] = 'display_data';\n",
              "        await google.colab.output.renderOutput(dataTable, element);\n",
              "        const docLink = document.createElement('div');\n",
              "        docLink.innerHTML = docLinkHtml;\n",
              "        element.appendChild(docLink);\n",
              "      }\n",
              "    </script>\n",
              "  </div>\n",
              "\n",
              "\n",
              "<div id=\"df-828de109-4acf-498e-a063-d1e7d70f0dd4\">\n",
              "  <button class=\"colab-df-quickchart\" onclick=\"quickchart('df-828de109-4acf-498e-a063-d1e7d70f0dd4')\"\n",
              "            title=\"Suggest charts\"\n",
              "            style=\"display:none;\">\n",
              "\n",
              "<svg xmlns=\"http://www.w3.org/2000/svg\" height=\"24px\"viewBox=\"0 0 24 24\"\n",
              "     width=\"24px\">\n",
              "    <g>\n",
              "        <path d=\"M19 3H5c-1.1 0-2 .9-2 2v14c0 1.1.9 2 2 2h14c1.1 0 2-.9 2-2V5c0-1.1-.9-2-2-2zM9 17H7v-7h2v7zm4 0h-2V7h2v10zm4 0h-2v-4h2v4z\"/>\n",
              "    </g>\n",
              "</svg>\n",
              "  </button>\n",
              "\n",
              "<style>\n",
              "  .colab-df-quickchart {\n",
              "      --bg-color: #E8F0FE;\n",
              "      --fill-color: #1967D2;\n",
              "      --hover-bg-color: #E2EBFA;\n",
              "      --hover-fill-color: #174EA6;\n",
              "      --disabled-fill-color: #AAA;\n",
              "      --disabled-bg-color: #DDD;\n",
              "  }\n",
              "\n",
              "  [theme=dark] .colab-df-quickchart {\n",
              "      --bg-color: #3B4455;\n",
              "      --fill-color: #D2E3FC;\n",
              "      --hover-bg-color: #434B5C;\n",
              "      --hover-fill-color: #FFFFFF;\n",
              "      --disabled-bg-color: #3B4455;\n",
              "      --disabled-fill-color: #666;\n",
              "  }\n",
              "\n",
              "  .colab-df-quickchart {\n",
              "    background-color: var(--bg-color);\n",
              "    border: none;\n",
              "    border-radius: 50%;\n",
              "    cursor: pointer;\n",
              "    display: none;\n",
              "    fill: var(--fill-color);\n",
              "    height: 32px;\n",
              "    padding: 0;\n",
              "    width: 32px;\n",
              "  }\n",
              "\n",
              "  .colab-df-quickchart:hover {\n",
              "    background-color: var(--hover-bg-color);\n",
              "    box-shadow: 0 1px 2px rgba(60, 64, 67, 0.3), 0 1px 3px 1px rgba(60, 64, 67, 0.15);\n",
              "    fill: var(--button-hover-fill-color);\n",
              "  }\n",
              "\n",
              "  .colab-df-quickchart-complete:disabled,\n",
              "  .colab-df-quickchart-complete:disabled:hover {\n",
              "    background-color: var(--disabled-bg-color);\n",
              "    fill: var(--disabled-fill-color);\n",
              "    box-shadow: none;\n",
              "  }\n",
              "\n",
              "  .colab-df-spinner {\n",
              "    border: 2px solid var(--fill-color);\n",
              "    border-color: transparent;\n",
              "    border-bottom-color: var(--fill-color);\n",
              "    animation:\n",
              "      spin 1s steps(1) infinite;\n",
              "  }\n",
              "\n",
              "  @keyframes spin {\n",
              "    0% {\n",
              "      border-color: transparent;\n",
              "      border-bottom-color: var(--fill-color);\n",
              "      border-left-color: var(--fill-color);\n",
              "    }\n",
              "    20% {\n",
              "      border-color: transparent;\n",
              "      border-left-color: var(--fill-color);\n",
              "      border-top-color: var(--fill-color);\n",
              "    }\n",
              "    30% {\n",
              "      border-color: transparent;\n",
              "      border-left-color: var(--fill-color);\n",
              "      border-top-color: var(--fill-color);\n",
              "      border-right-color: var(--fill-color);\n",
              "    }\n",
              "    40% {\n",
              "      border-color: transparent;\n",
              "      border-right-color: var(--fill-color);\n",
              "      border-top-color: var(--fill-color);\n",
              "    }\n",
              "    60% {\n",
              "      border-color: transparent;\n",
              "      border-right-color: var(--fill-color);\n",
              "    }\n",
              "    80% {\n",
              "      border-color: transparent;\n",
              "      border-right-color: var(--fill-color);\n",
              "      border-bottom-color: var(--fill-color);\n",
              "    }\n",
              "    90% {\n",
              "      border-color: transparent;\n",
              "      border-bottom-color: var(--fill-color);\n",
              "    }\n",
              "  }\n",
              "</style>\n",
              "\n",
              "  <script>\n",
              "    async function quickchart(key) {\n",
              "      const quickchartButtonEl =\n",
              "        document.querySelector('#' + key + ' button');\n",
              "      quickchartButtonEl.disabled = true;  // To prevent multiple clicks.\n",
              "      quickchartButtonEl.classList.add('colab-df-spinner');\n",
              "      try {\n",
              "        const charts = await google.colab.kernel.invokeFunction(\n",
              "            'suggestCharts', [key], {});\n",
              "      } catch (error) {\n",
              "        console.error('Error during call to suggestCharts:', error);\n",
              "      }\n",
              "      quickchartButtonEl.classList.remove('colab-df-spinner');\n",
              "      quickchartButtonEl.classList.add('colab-df-quickchart-complete');\n",
              "    }\n",
              "    (() => {\n",
              "      let quickchartButtonEl =\n",
              "        document.querySelector('#df-828de109-4acf-498e-a063-d1e7d70f0dd4 button');\n",
              "      quickchartButtonEl.style.display =\n",
              "        google.colab.kernel.accessAllowed ? 'block' : 'none';\n",
              "    })();\n",
              "  </script>\n",
              "</div>\n",
              "    </div>\n",
              "  </div>\n"
            ],
            "application/vnd.google.colaboratory.intrinsic+json": {
              "type": "dataframe",
              "summary": "{\n  \"name\": \"df\",\n  \"rows\": 7551,\n  \"fields\": [\n    {\n      \"column\": \"user_id\",\n      \"properties\": {\n        \"dtype\": \"number\",\n        \"std\": 2655343100552020992,\n        \"min\": 6888746892508752,\n        \"max\": 9222603179720523844,\n        \"num_unique_values\": 7551,\n        \"samples\": [\n          1484424169149798459,\n          6117186100539763706,\n          2674114088713385075\n        ],\n        \"semantic_type\": \"\",\n        \"description\": \"\"\n      }\n    },\n    {\n      \"column\": \"group_id\",\n      \"properties\": {\n        \"dtype\": \"number\",\n        \"std\": 0,\n        \"min\": 1,\n        \"max\": 1,\n        \"num_unique_values\": 1,\n        \"samples\": [\n          1\n        ],\n        \"semantic_type\": \"\",\n        \"description\": \"\"\n      }\n    }\n  ]\n}"
            }
          },
          "metadata": {},
          "execution_count": 16
        }
      ],
      "source": [
        "# группируем по пользователям и проверяем что каждый принадлежит только к одной уникальной группе\n",
        "df.groupby('user_id', as_index=False).agg({'group_id':'nunique'}).sort_values(by='group_id', ascending=False)"
      ]
    },
    {
      "cell_type": "markdown",
      "metadata": {
        "id": "tDBsveKSye4H"
      },
      "source": [
        "**Сколько всего событий в логе?**"
      ]
    },
    {
      "cell_type": "code",
      "execution_count": null,
      "metadata": {
        "colab": {
          "base_uri": "https://localhost:8080/"
        },
        "id": "yNL99vGHye4H",
        "outputId": "5e676a91-de6a-4b29-939a-9f4b0a34ab0b"
      },
      "outputs": [
        {
          "output_type": "execute_result",
          "data": {
            "text/plain": [
              "event_name\n",
              "MainScreenAppear           119101\n",
              "OffersScreenAppear          46808\n",
              "CartScreenAppear            42668\n",
              "PaymentScreenSuccessful     34118\n",
              "Tutorial                     1018\n",
              "Name: count, dtype: int64"
            ]
          },
          "metadata": {},
          "execution_count": 17
        }
      ],
      "source": [
        "# подсчет уникальных событий\n",
        "df['event_name'].value_counts()"
      ]
    },
    {
      "cell_type": "markdown",
      "metadata": {
        "id": "hnOrgj5Oye4I"
      },
      "source": [
        "В логе 5 уникальных событий.\n",
        "- MainScreenAppear - открыт главный экран\n",
        "- OffersScreenAppear - открыт экран с товарами\n",
        "- CartScreenAppear - открыт экран корзины\n",
        "- PaymentScreenSuccessful - открыт экран успешной оплаты\n",
        "- Tutorial - открыт экран подсказки"
      ]
    },
    {
      "cell_type": "markdown",
      "metadata": {
        "id": "7SnYpT0_ye4I"
      },
      "source": [
        "**Сколько всего пользователей в логе?**"
      ]
    },
    {
      "cell_type": "code",
      "execution_count": null,
      "metadata": {
        "colab": {
          "base_uri": "https://localhost:8080/"
        },
        "id": "EguF_Exdye4I",
        "outputId": "77877e1d-1ad5-4860-ef0c-8a986a2eb299"
      },
      "outputs": [
        {
          "output_type": "execute_result",
          "data": {
            "text/plain": [
              "7551"
            ]
          },
          "metadata": {},
          "execution_count": 18
        }
      ],
      "source": [
        "# подсчет уникальных пользователей\n",
        "df['user_id'].nunique()"
      ]
    },
    {
      "cell_type": "markdown",
      "metadata": {
        "id": "L9Toi5tGye4I"
      },
      "source": [
        "В логе 7551 уникальный пользователь."
      ]
    },
    {
      "cell_type": "markdown",
      "metadata": {
        "id": "zJHKe1Sjye4I"
      },
      "source": [
        "**Сколько в среднем событий приходится на пользователя?**"
      ]
    },
    {
      "cell_type": "code",
      "execution_count": null,
      "metadata": {
        "colab": {
          "base_uri": "https://localhost:8080/"
        },
        "id": "wpHmgnngye4I",
        "outputId": "d101c1ae-d00f-4e99-efa2-b8e2fad98a4b"
      },
      "outputs": [
        {
          "output_type": "execute_result",
          "data": {
            "text/plain": [
              "event_name    32.0\n",
              "dtype: float64"
            ]
          },
          "metadata": {},
          "execution_count": 19
        }
      ],
      "source": [
        "# считаем окгругленное среднее количество действий на каждого пользователя\n",
        "df.groupby('user_id').agg({'event_name':'count'}).mean().round()"
      ]
    },
    {
      "cell_type": "code",
      "execution_count": null,
      "metadata": {
        "colab": {
          "base_uri": "https://localhost:8080/",
          "height": 363
        },
        "id": "VmEjmCa4ye4I",
        "outputId": "81a2b5cb-6f22-4db2-877c-2afcf70c37b0"
      },
      "outputs": [
        {
          "output_type": "execute_result",
          "data": {
            "text/plain": [
              "                  user_id  event_name\n",
              "5116  6304868067479728361        2307\n",
              "147    197027893265565660        1998\n",
              "3714  4623191541214045580        1768\n",
              "5590  6932517045703054087        1439\n",
              "1391  1754140665440434215        1221\n",
              "2641  3337471580007169353        1186\n",
              "6294  7738058666231999878         888\n",
              "822   1055544042902443290         854\n",
              "3801  4713748699910253089         824\n",
              "6617  8118046800480174342         755"
            ],
            "text/html": [
              "\n",
              "  <div id=\"df-57f08614-76c9-42db-bca3-d5881b0660a8\" class=\"colab-df-container\">\n",
              "    <div>\n",
              "<style scoped>\n",
              "    .dataframe tbody tr th:only-of-type {\n",
              "        vertical-align: middle;\n",
              "    }\n",
              "\n",
              "    .dataframe tbody tr th {\n",
              "        vertical-align: top;\n",
              "    }\n",
              "\n",
              "    .dataframe thead th {\n",
              "        text-align: right;\n",
              "    }\n",
              "</style>\n",
              "<table border=\"1\" class=\"dataframe\">\n",
              "  <thead>\n",
              "    <tr style=\"text-align: right;\">\n",
              "      <th></th>\n",
              "      <th>user_id</th>\n",
              "      <th>event_name</th>\n",
              "    </tr>\n",
              "  </thead>\n",
              "  <tbody>\n",
              "    <tr>\n",
              "      <th>5116</th>\n",
              "      <td>6304868067479728361</td>\n",
              "      <td>2307</td>\n",
              "    </tr>\n",
              "    <tr>\n",
              "      <th>147</th>\n",
              "      <td>197027893265565660</td>\n",
              "      <td>1998</td>\n",
              "    </tr>\n",
              "    <tr>\n",
              "      <th>3714</th>\n",
              "      <td>4623191541214045580</td>\n",
              "      <td>1768</td>\n",
              "    </tr>\n",
              "    <tr>\n",
              "      <th>5590</th>\n",
              "      <td>6932517045703054087</td>\n",
              "      <td>1439</td>\n",
              "    </tr>\n",
              "    <tr>\n",
              "      <th>1391</th>\n",
              "      <td>1754140665440434215</td>\n",
              "      <td>1221</td>\n",
              "    </tr>\n",
              "    <tr>\n",
              "      <th>2641</th>\n",
              "      <td>3337471580007169353</td>\n",
              "      <td>1186</td>\n",
              "    </tr>\n",
              "    <tr>\n",
              "      <th>6294</th>\n",
              "      <td>7738058666231999878</td>\n",
              "      <td>888</td>\n",
              "    </tr>\n",
              "    <tr>\n",
              "      <th>822</th>\n",
              "      <td>1055544042902443290</td>\n",
              "      <td>854</td>\n",
              "    </tr>\n",
              "    <tr>\n",
              "      <th>3801</th>\n",
              "      <td>4713748699910253089</td>\n",
              "      <td>824</td>\n",
              "    </tr>\n",
              "    <tr>\n",
              "      <th>6617</th>\n",
              "      <td>8118046800480174342</td>\n",
              "      <td>755</td>\n",
              "    </tr>\n",
              "  </tbody>\n",
              "</table>\n",
              "</div>\n",
              "    <div class=\"colab-df-buttons\">\n",
              "\n",
              "  <div class=\"colab-df-container\">\n",
              "    <button class=\"colab-df-convert\" onclick=\"convertToInteractive('df-57f08614-76c9-42db-bca3-d5881b0660a8')\"\n",
              "            title=\"Convert this dataframe to an interactive table.\"\n",
              "            style=\"display:none;\">\n",
              "\n",
              "  <svg xmlns=\"http://www.w3.org/2000/svg\" height=\"24px\" viewBox=\"0 -960 960 960\">\n",
              "    <path d=\"M120-120v-720h720v720H120Zm60-500h600v-160H180v160Zm220 220h160v-160H400v160Zm0 220h160v-160H400v160ZM180-400h160v-160H180v160Zm440 0h160v-160H620v160ZM180-180h160v-160H180v160Zm440 0h160v-160H620v160Z\"/>\n",
              "  </svg>\n",
              "    </button>\n",
              "\n",
              "  <style>\n",
              "    .colab-df-container {\n",
              "      display:flex;\n",
              "      gap: 12px;\n",
              "    }\n",
              "\n",
              "    .colab-df-convert {\n",
              "      background-color: #E8F0FE;\n",
              "      border: none;\n",
              "      border-radius: 50%;\n",
              "      cursor: pointer;\n",
              "      display: none;\n",
              "      fill: #1967D2;\n",
              "      height: 32px;\n",
              "      padding: 0 0 0 0;\n",
              "      width: 32px;\n",
              "    }\n",
              "\n",
              "    .colab-df-convert:hover {\n",
              "      background-color: #E2EBFA;\n",
              "      box-shadow: 0px 1px 2px rgba(60, 64, 67, 0.3), 0px 1px 3px 1px rgba(60, 64, 67, 0.15);\n",
              "      fill: #174EA6;\n",
              "    }\n",
              "\n",
              "    .colab-df-buttons div {\n",
              "      margin-bottom: 4px;\n",
              "    }\n",
              "\n",
              "    [theme=dark] .colab-df-convert {\n",
              "      background-color: #3B4455;\n",
              "      fill: #D2E3FC;\n",
              "    }\n",
              "\n",
              "    [theme=dark] .colab-df-convert:hover {\n",
              "      background-color: #434B5C;\n",
              "      box-shadow: 0px 1px 3px 1px rgba(0, 0, 0, 0.15);\n",
              "      filter: drop-shadow(0px 1px 2px rgba(0, 0, 0, 0.3));\n",
              "      fill: #FFFFFF;\n",
              "    }\n",
              "  </style>\n",
              "\n",
              "    <script>\n",
              "      const buttonEl =\n",
              "        document.querySelector('#df-57f08614-76c9-42db-bca3-d5881b0660a8 button.colab-df-convert');\n",
              "      buttonEl.style.display =\n",
              "        google.colab.kernel.accessAllowed ? 'block' : 'none';\n",
              "\n",
              "      async function convertToInteractive(key) {\n",
              "        const element = document.querySelector('#df-57f08614-76c9-42db-bca3-d5881b0660a8');\n",
              "        const dataTable =\n",
              "          await google.colab.kernel.invokeFunction('convertToInteractive',\n",
              "                                                    [key], {});\n",
              "        if (!dataTable) return;\n",
              "\n",
              "        const docLinkHtml = 'Like what you see? Visit the ' +\n",
              "          '<a target=\"_blank\" href=https://colab.research.google.com/notebooks/data_table.ipynb>data table notebook</a>'\n",
              "          + ' to learn more about interactive tables.';\n",
              "        element.innerHTML = '';\n",
              "        dataTable['output_type'] = 'display_data';\n",
              "        await google.colab.output.renderOutput(dataTable, element);\n",
              "        const docLink = document.createElement('div');\n",
              "        docLink.innerHTML = docLinkHtml;\n",
              "        element.appendChild(docLink);\n",
              "      }\n",
              "    </script>\n",
              "  </div>\n",
              "\n",
              "\n",
              "<div id=\"df-86c335f3-b52c-41ea-95c6-258b962a8139\">\n",
              "  <button class=\"colab-df-quickchart\" onclick=\"quickchart('df-86c335f3-b52c-41ea-95c6-258b962a8139')\"\n",
              "            title=\"Suggest charts\"\n",
              "            style=\"display:none;\">\n",
              "\n",
              "<svg xmlns=\"http://www.w3.org/2000/svg\" height=\"24px\"viewBox=\"0 0 24 24\"\n",
              "     width=\"24px\">\n",
              "    <g>\n",
              "        <path d=\"M19 3H5c-1.1 0-2 .9-2 2v14c0 1.1.9 2 2 2h14c1.1 0 2-.9 2-2V5c0-1.1-.9-2-2-2zM9 17H7v-7h2v7zm4 0h-2V7h2v10zm4 0h-2v-4h2v4z\"/>\n",
              "    </g>\n",
              "</svg>\n",
              "  </button>\n",
              "\n",
              "<style>\n",
              "  .colab-df-quickchart {\n",
              "      --bg-color: #E8F0FE;\n",
              "      --fill-color: #1967D2;\n",
              "      --hover-bg-color: #E2EBFA;\n",
              "      --hover-fill-color: #174EA6;\n",
              "      --disabled-fill-color: #AAA;\n",
              "      --disabled-bg-color: #DDD;\n",
              "  }\n",
              "\n",
              "  [theme=dark] .colab-df-quickchart {\n",
              "      --bg-color: #3B4455;\n",
              "      --fill-color: #D2E3FC;\n",
              "      --hover-bg-color: #434B5C;\n",
              "      --hover-fill-color: #FFFFFF;\n",
              "      --disabled-bg-color: #3B4455;\n",
              "      --disabled-fill-color: #666;\n",
              "  }\n",
              "\n",
              "  .colab-df-quickchart {\n",
              "    background-color: var(--bg-color);\n",
              "    border: none;\n",
              "    border-radius: 50%;\n",
              "    cursor: pointer;\n",
              "    display: none;\n",
              "    fill: var(--fill-color);\n",
              "    height: 32px;\n",
              "    padding: 0;\n",
              "    width: 32px;\n",
              "  }\n",
              "\n",
              "  .colab-df-quickchart:hover {\n",
              "    background-color: var(--hover-bg-color);\n",
              "    box-shadow: 0 1px 2px rgba(60, 64, 67, 0.3), 0 1px 3px 1px rgba(60, 64, 67, 0.15);\n",
              "    fill: var(--button-hover-fill-color);\n",
              "  }\n",
              "\n",
              "  .colab-df-quickchart-complete:disabled,\n",
              "  .colab-df-quickchart-complete:disabled:hover {\n",
              "    background-color: var(--disabled-bg-color);\n",
              "    fill: var(--disabled-fill-color);\n",
              "    box-shadow: none;\n",
              "  }\n",
              "\n",
              "  .colab-df-spinner {\n",
              "    border: 2px solid var(--fill-color);\n",
              "    border-color: transparent;\n",
              "    border-bottom-color: var(--fill-color);\n",
              "    animation:\n",
              "      spin 1s steps(1) infinite;\n",
              "  }\n",
              "\n",
              "  @keyframes spin {\n",
              "    0% {\n",
              "      border-color: transparent;\n",
              "      border-bottom-color: var(--fill-color);\n",
              "      border-left-color: var(--fill-color);\n",
              "    }\n",
              "    20% {\n",
              "      border-color: transparent;\n",
              "      border-left-color: var(--fill-color);\n",
              "      border-top-color: var(--fill-color);\n",
              "    }\n",
              "    30% {\n",
              "      border-color: transparent;\n",
              "      border-left-color: var(--fill-color);\n",
              "      border-top-color: var(--fill-color);\n",
              "      border-right-color: var(--fill-color);\n",
              "    }\n",
              "    40% {\n",
              "      border-color: transparent;\n",
              "      border-right-color: var(--fill-color);\n",
              "      border-top-color: var(--fill-color);\n",
              "    }\n",
              "    60% {\n",
              "      border-color: transparent;\n",
              "      border-right-color: var(--fill-color);\n",
              "    }\n",
              "    80% {\n",
              "      border-color: transparent;\n",
              "      border-right-color: var(--fill-color);\n",
              "      border-bottom-color: var(--fill-color);\n",
              "    }\n",
              "    90% {\n",
              "      border-color: transparent;\n",
              "      border-bottom-color: var(--fill-color);\n",
              "    }\n",
              "  }\n",
              "</style>\n",
              "\n",
              "  <script>\n",
              "    async function quickchart(key) {\n",
              "      const quickchartButtonEl =\n",
              "        document.querySelector('#' + key + ' button');\n",
              "      quickchartButtonEl.disabled = true;  // To prevent multiple clicks.\n",
              "      quickchartButtonEl.classList.add('colab-df-spinner');\n",
              "      try {\n",
              "        const charts = await google.colab.kernel.invokeFunction(\n",
              "            'suggestCharts', [key], {});\n",
              "      } catch (error) {\n",
              "        console.error('Error during call to suggestCharts:', error);\n",
              "      }\n",
              "      quickchartButtonEl.classList.remove('colab-df-spinner');\n",
              "      quickchartButtonEl.classList.add('colab-df-quickchart-complete');\n",
              "    }\n",
              "    (() => {\n",
              "      let quickchartButtonEl =\n",
              "        document.querySelector('#df-86c335f3-b52c-41ea-95c6-258b962a8139 button');\n",
              "      quickchartButtonEl.style.display =\n",
              "        google.colab.kernel.accessAllowed ? 'block' : 'none';\n",
              "    })();\n",
              "  </script>\n",
              "</div>\n",
              "    </div>\n",
              "  </div>\n"
            ],
            "application/vnd.google.colaboratory.intrinsic+json": {
              "type": "dataframe",
              "summary": "{\n  \"name\": \"df\",\n  \"rows\": 10,\n  \"fields\": [\n    {\n      \"column\": \"user_id\",\n      \"properties\": {\n        \"dtype\": \"number\",\n        \"std\": 2829935627891826176,\n        \"min\": 197027893265565660,\n        \"max\": 8118046800480174342,\n        \"num_unique_values\": 10,\n        \"samples\": [\n          4713748699910253089,\n          197027893265565660,\n          3337471580007169353\n        ],\n        \"semantic_type\": \"\",\n        \"description\": \"\"\n      }\n    },\n    {\n      \"column\": \"event_name\",\n      \"properties\": {\n        \"dtype\": \"number\",\n        \"std\": 542,\n        \"min\": 755,\n        \"max\": 2307,\n        \"num_unique_values\": 10,\n        \"samples\": [\n          824,\n          1998,\n          1186\n        ],\n        \"semantic_type\": \"\",\n        \"description\": \"\"\n      }\n    }\n  ]\n}"
            }
          },
          "metadata": {},
          "execution_count": 20
        }
      ],
      "source": [
        "# смотрим пользователей с максимальным кол-вом действий\n",
        "df.groupby('user_id', as_index=False).agg({'event_name':'count'}).sort_values(by='event_name', ascending=False).head(10)"
      ]
    },
    {
      "cell_type": "code",
      "execution_count": null,
      "metadata": {
        "colab": {
          "base_uri": "https://localhost:8080/",
          "height": 363
        },
        "id": "H6gTb9TAye4J",
        "outputId": "bf490b9b-da3d-432b-cdf8-eaad246da015"
      },
      "outputs": [
        {
          "output_type": "execute_result",
          "data": {
            "text/plain": [
              "                  user_id  event_name\n",
              "0        6888746892508752           1\n",
              "3224  4033444713489412517           1\n",
              "6489  7962370797737085275           1\n",
              "480    636273053050387468           1\n",
              "1529  1918918598819548986           1\n",
              "131    176222176030858478           1\n",
              "4611  5712952270342213514           1\n",
              "3829  4738501680785639562           1\n",
              "5817  7191374641631621327           1\n",
              "950   1223708690315846789           1"
            ],
            "text/html": [
              "\n",
              "  <div id=\"df-99f8def5-0d99-48f7-99d4-a58628df1576\" class=\"colab-df-container\">\n",
              "    <div>\n",
              "<style scoped>\n",
              "    .dataframe tbody tr th:only-of-type {\n",
              "        vertical-align: middle;\n",
              "    }\n",
              "\n",
              "    .dataframe tbody tr th {\n",
              "        vertical-align: top;\n",
              "    }\n",
              "\n",
              "    .dataframe thead th {\n",
              "        text-align: right;\n",
              "    }\n",
              "</style>\n",
              "<table border=\"1\" class=\"dataframe\">\n",
              "  <thead>\n",
              "    <tr style=\"text-align: right;\">\n",
              "      <th></th>\n",
              "      <th>user_id</th>\n",
              "      <th>event_name</th>\n",
              "    </tr>\n",
              "  </thead>\n",
              "  <tbody>\n",
              "    <tr>\n",
              "      <th>0</th>\n",
              "      <td>6888746892508752</td>\n",
              "      <td>1</td>\n",
              "    </tr>\n",
              "    <tr>\n",
              "      <th>3224</th>\n",
              "      <td>4033444713489412517</td>\n",
              "      <td>1</td>\n",
              "    </tr>\n",
              "    <tr>\n",
              "      <th>6489</th>\n",
              "      <td>7962370797737085275</td>\n",
              "      <td>1</td>\n",
              "    </tr>\n",
              "    <tr>\n",
              "      <th>480</th>\n",
              "      <td>636273053050387468</td>\n",
              "      <td>1</td>\n",
              "    </tr>\n",
              "    <tr>\n",
              "      <th>1529</th>\n",
              "      <td>1918918598819548986</td>\n",
              "      <td>1</td>\n",
              "    </tr>\n",
              "    <tr>\n",
              "      <th>131</th>\n",
              "      <td>176222176030858478</td>\n",
              "      <td>1</td>\n",
              "    </tr>\n",
              "    <tr>\n",
              "      <th>4611</th>\n",
              "      <td>5712952270342213514</td>\n",
              "      <td>1</td>\n",
              "    </tr>\n",
              "    <tr>\n",
              "      <th>3829</th>\n",
              "      <td>4738501680785639562</td>\n",
              "      <td>1</td>\n",
              "    </tr>\n",
              "    <tr>\n",
              "      <th>5817</th>\n",
              "      <td>7191374641631621327</td>\n",
              "      <td>1</td>\n",
              "    </tr>\n",
              "    <tr>\n",
              "      <th>950</th>\n",
              "      <td>1223708690315846789</td>\n",
              "      <td>1</td>\n",
              "    </tr>\n",
              "  </tbody>\n",
              "</table>\n",
              "</div>\n",
              "    <div class=\"colab-df-buttons\">\n",
              "\n",
              "  <div class=\"colab-df-container\">\n",
              "    <button class=\"colab-df-convert\" onclick=\"convertToInteractive('df-99f8def5-0d99-48f7-99d4-a58628df1576')\"\n",
              "            title=\"Convert this dataframe to an interactive table.\"\n",
              "            style=\"display:none;\">\n",
              "\n",
              "  <svg xmlns=\"http://www.w3.org/2000/svg\" height=\"24px\" viewBox=\"0 -960 960 960\">\n",
              "    <path d=\"M120-120v-720h720v720H120Zm60-500h600v-160H180v160Zm220 220h160v-160H400v160Zm0 220h160v-160H400v160ZM180-400h160v-160H180v160Zm440 0h160v-160H620v160ZM180-180h160v-160H180v160Zm440 0h160v-160H620v160Z\"/>\n",
              "  </svg>\n",
              "    </button>\n",
              "\n",
              "  <style>\n",
              "    .colab-df-container {\n",
              "      display:flex;\n",
              "      gap: 12px;\n",
              "    }\n",
              "\n",
              "    .colab-df-convert {\n",
              "      background-color: #E8F0FE;\n",
              "      border: none;\n",
              "      border-radius: 50%;\n",
              "      cursor: pointer;\n",
              "      display: none;\n",
              "      fill: #1967D2;\n",
              "      height: 32px;\n",
              "      padding: 0 0 0 0;\n",
              "      width: 32px;\n",
              "    }\n",
              "\n",
              "    .colab-df-convert:hover {\n",
              "      background-color: #E2EBFA;\n",
              "      box-shadow: 0px 1px 2px rgba(60, 64, 67, 0.3), 0px 1px 3px 1px rgba(60, 64, 67, 0.15);\n",
              "      fill: #174EA6;\n",
              "    }\n",
              "\n",
              "    .colab-df-buttons div {\n",
              "      margin-bottom: 4px;\n",
              "    }\n",
              "\n",
              "    [theme=dark] .colab-df-convert {\n",
              "      background-color: #3B4455;\n",
              "      fill: #D2E3FC;\n",
              "    }\n",
              "\n",
              "    [theme=dark] .colab-df-convert:hover {\n",
              "      background-color: #434B5C;\n",
              "      box-shadow: 0px 1px 3px 1px rgba(0, 0, 0, 0.15);\n",
              "      filter: drop-shadow(0px 1px 2px rgba(0, 0, 0, 0.3));\n",
              "      fill: #FFFFFF;\n",
              "    }\n",
              "  </style>\n",
              "\n",
              "    <script>\n",
              "      const buttonEl =\n",
              "        document.querySelector('#df-99f8def5-0d99-48f7-99d4-a58628df1576 button.colab-df-convert');\n",
              "      buttonEl.style.display =\n",
              "        google.colab.kernel.accessAllowed ? 'block' : 'none';\n",
              "\n",
              "      async function convertToInteractive(key) {\n",
              "        const element = document.querySelector('#df-99f8def5-0d99-48f7-99d4-a58628df1576');\n",
              "        const dataTable =\n",
              "          await google.colab.kernel.invokeFunction('convertToInteractive',\n",
              "                                                    [key], {});\n",
              "        if (!dataTable) return;\n",
              "\n",
              "        const docLinkHtml = 'Like what you see? Visit the ' +\n",
              "          '<a target=\"_blank\" href=https://colab.research.google.com/notebooks/data_table.ipynb>data table notebook</a>'\n",
              "          + ' to learn more about interactive tables.';\n",
              "        element.innerHTML = '';\n",
              "        dataTable['output_type'] = 'display_data';\n",
              "        await google.colab.output.renderOutput(dataTable, element);\n",
              "        const docLink = document.createElement('div');\n",
              "        docLink.innerHTML = docLinkHtml;\n",
              "        element.appendChild(docLink);\n",
              "      }\n",
              "    </script>\n",
              "  </div>\n",
              "\n",
              "\n",
              "<div id=\"df-3f3b1de1-0644-43c0-b523-8e12dc141a1f\">\n",
              "  <button class=\"colab-df-quickchart\" onclick=\"quickchart('df-3f3b1de1-0644-43c0-b523-8e12dc141a1f')\"\n",
              "            title=\"Suggest charts\"\n",
              "            style=\"display:none;\">\n",
              "\n",
              "<svg xmlns=\"http://www.w3.org/2000/svg\" height=\"24px\"viewBox=\"0 0 24 24\"\n",
              "     width=\"24px\">\n",
              "    <g>\n",
              "        <path d=\"M19 3H5c-1.1 0-2 .9-2 2v14c0 1.1.9 2 2 2h14c1.1 0 2-.9 2-2V5c0-1.1-.9-2-2-2zM9 17H7v-7h2v7zm4 0h-2V7h2v10zm4 0h-2v-4h2v4z\"/>\n",
              "    </g>\n",
              "</svg>\n",
              "  </button>\n",
              "\n",
              "<style>\n",
              "  .colab-df-quickchart {\n",
              "      --bg-color: #E8F0FE;\n",
              "      --fill-color: #1967D2;\n",
              "      --hover-bg-color: #E2EBFA;\n",
              "      --hover-fill-color: #174EA6;\n",
              "      --disabled-fill-color: #AAA;\n",
              "      --disabled-bg-color: #DDD;\n",
              "  }\n",
              "\n",
              "  [theme=dark] .colab-df-quickchart {\n",
              "      --bg-color: #3B4455;\n",
              "      --fill-color: #D2E3FC;\n",
              "      --hover-bg-color: #434B5C;\n",
              "      --hover-fill-color: #FFFFFF;\n",
              "      --disabled-bg-color: #3B4455;\n",
              "      --disabled-fill-color: #666;\n",
              "  }\n",
              "\n",
              "  .colab-df-quickchart {\n",
              "    background-color: var(--bg-color);\n",
              "    border: none;\n",
              "    border-radius: 50%;\n",
              "    cursor: pointer;\n",
              "    display: none;\n",
              "    fill: var(--fill-color);\n",
              "    height: 32px;\n",
              "    padding: 0;\n",
              "    width: 32px;\n",
              "  }\n",
              "\n",
              "  .colab-df-quickchart:hover {\n",
              "    background-color: var(--hover-bg-color);\n",
              "    box-shadow: 0 1px 2px rgba(60, 64, 67, 0.3), 0 1px 3px 1px rgba(60, 64, 67, 0.15);\n",
              "    fill: var(--button-hover-fill-color);\n",
              "  }\n",
              "\n",
              "  .colab-df-quickchart-complete:disabled,\n",
              "  .colab-df-quickchart-complete:disabled:hover {\n",
              "    background-color: var(--disabled-bg-color);\n",
              "    fill: var(--disabled-fill-color);\n",
              "    box-shadow: none;\n",
              "  }\n",
              "\n",
              "  .colab-df-spinner {\n",
              "    border: 2px solid var(--fill-color);\n",
              "    border-color: transparent;\n",
              "    border-bottom-color: var(--fill-color);\n",
              "    animation:\n",
              "      spin 1s steps(1) infinite;\n",
              "  }\n",
              "\n",
              "  @keyframes spin {\n",
              "    0% {\n",
              "      border-color: transparent;\n",
              "      border-bottom-color: var(--fill-color);\n",
              "      border-left-color: var(--fill-color);\n",
              "    }\n",
              "    20% {\n",
              "      border-color: transparent;\n",
              "      border-left-color: var(--fill-color);\n",
              "      border-top-color: var(--fill-color);\n",
              "    }\n",
              "    30% {\n",
              "      border-color: transparent;\n",
              "      border-left-color: var(--fill-color);\n",
              "      border-top-color: var(--fill-color);\n",
              "      border-right-color: var(--fill-color);\n",
              "    }\n",
              "    40% {\n",
              "      border-color: transparent;\n",
              "      border-right-color: var(--fill-color);\n",
              "      border-top-color: var(--fill-color);\n",
              "    }\n",
              "    60% {\n",
              "      border-color: transparent;\n",
              "      border-right-color: var(--fill-color);\n",
              "    }\n",
              "    80% {\n",
              "      border-color: transparent;\n",
              "      border-right-color: var(--fill-color);\n",
              "      border-bottom-color: var(--fill-color);\n",
              "    }\n",
              "    90% {\n",
              "      border-color: transparent;\n",
              "      border-bottom-color: var(--fill-color);\n",
              "    }\n",
              "  }\n",
              "</style>\n",
              "\n",
              "  <script>\n",
              "    async function quickchart(key) {\n",
              "      const quickchartButtonEl =\n",
              "        document.querySelector('#' + key + ' button');\n",
              "      quickchartButtonEl.disabled = true;  // To prevent multiple clicks.\n",
              "      quickchartButtonEl.classList.add('colab-df-spinner');\n",
              "      try {\n",
              "        const charts = await google.colab.kernel.invokeFunction(\n",
              "            'suggestCharts', [key], {});\n",
              "      } catch (error) {\n",
              "        console.error('Error during call to suggestCharts:', error);\n",
              "      }\n",
              "      quickchartButtonEl.classList.remove('colab-df-spinner');\n",
              "      quickchartButtonEl.classList.add('colab-df-quickchart-complete');\n",
              "    }\n",
              "    (() => {\n",
              "      let quickchartButtonEl =\n",
              "        document.querySelector('#df-3f3b1de1-0644-43c0-b523-8e12dc141a1f button');\n",
              "      quickchartButtonEl.style.display =\n",
              "        google.colab.kernel.accessAllowed ? 'block' : 'none';\n",
              "    })();\n",
              "  </script>\n",
              "</div>\n",
              "    </div>\n",
              "  </div>\n"
            ],
            "application/vnd.google.colaboratory.intrinsic+json": {
              "type": "dataframe",
              "summary": "{\n  \"name\": \"df\",\n  \"rows\": 10,\n  \"fields\": [\n    {\n      \"column\": \"user_id\",\n      \"properties\": {\n        \"dtype\": \"number\",\n        \"std\": 2966299014078875648,\n        \"min\": 6888746892508752,\n        \"max\": 7962370797737085275,\n        \"num_unique_values\": 10,\n        \"samples\": [\n          7191374641631621327,\n          4033444713489412517,\n          176222176030858478\n        ],\n        \"semantic_type\": \"\",\n        \"description\": \"\"\n      }\n    },\n    {\n      \"column\": \"event_name\",\n      \"properties\": {\n        \"dtype\": \"number\",\n        \"std\": 0,\n        \"min\": 1,\n        \"max\": 1,\n        \"num_unique_values\": 1,\n        \"samples\": [\n          1\n        ],\n        \"semantic_type\": \"\",\n        \"description\": \"\"\n      }\n    }\n  ]\n}"
            }
          },
          "metadata": {},
          "execution_count": 21
        }
      ],
      "source": [
        "# смотрим пользователей с минимальным кол-вом действий\n",
        "df.groupby('user_id', as_index=False).agg({'event_name':'count'}).sort_values(by='event_name', ascending=True).head(10)"
      ]
    },
    {
      "cell_type": "markdown",
      "metadata": {
        "id": "Xp6u6Za7ye4J"
      },
      "source": [
        "В среднем на пользователя приходится 32 события. Максимальное количество событий на пользователя - 2307, минимальное - одно событие."
      ]
    },
    {
      "cell_type": "markdown",
      "metadata": {
        "id": "5VOj5xzdye4J"
      },
      "source": [
        "**Данными за какой период мы располагаем? Найдем максимальную и минимальную дату. Изучим, как меняется количество данных: построим столбчатую диаграмму, которая отобразит количество событий в зависимости от времени в разрезе групп. Можно ли быть уверенным, что у нас одинаково полные данные за весь период?**"
      ]
    },
    {
      "cell_type": "code",
      "execution_count": null,
      "metadata": {
        "colab": {
          "base_uri": "https://localhost:8080/"
        },
        "id": "Lqq05l5Kye4J",
        "outputId": "b1094e06-eee5-4851-a2a9-8e24ee9ab7c5"
      },
      "outputs": [
        {
          "output_type": "execute_result",
          "data": {
            "text/plain": [
              "datetime.date(2019, 7, 25)"
            ]
          },
          "metadata": {},
          "execution_count": 22
        }
      ],
      "source": [
        "# находим минимальную дату в данных\n",
        "df['event_date'].min()"
      ]
    },
    {
      "cell_type": "code",
      "execution_count": null,
      "metadata": {
        "colab": {
          "base_uri": "https://localhost:8080/"
        },
        "id": "9fRD6Mdjye4J",
        "outputId": "22cc0d5d-091f-4d78-9ac8-a4cfccc9917e"
      },
      "outputs": [
        {
          "output_type": "execute_result",
          "data": {
            "text/plain": [
              "datetime.date(2019, 8, 7)"
            ]
          },
          "metadata": {},
          "execution_count": 23
        }
      ],
      "source": [
        "# находим максимальную дату в данных\n",
        "df['event_date'].max()"
      ]
    },
    {
      "cell_type": "code",
      "execution_count": null,
      "metadata": {
        "id": "uJiTSnznye4K"
      },
      "outputs": [],
      "source": [
        "# готовим данные для графика\n",
        "group = df.groupby(['event_date', 'group_id'], as_index=False).agg({'event_name':'count'})"
      ]
    },
    {
      "cell_type": "code",
      "execution_count": null,
      "metadata": {
        "colab": {
          "base_uri": "https://localhost:8080/",
          "height": 618
        },
        "id": "6ezrf51Fye4K",
        "outputId": "54ab5218-541e-4258-ca9c-9273b08e5fc9"
      },
      "outputs": [
        {
          "output_type": "display_data",
          "data": {
            "text/plain": [
              "<Figure size 1200x600 with 1 Axes>"
            ],
            "image/png": "[encoded data removed]"
          },
          "metadata": {}
        }
      ],
      "source": [
        "# строим график\n",
        "plt.figure(figsize=(12, 6), dpi=100)\n",
        "\n",
        "sb.barplot(x = 'event_date', y = 'event_name', hue = \"group_id\", data = group, edgecolor='black')\n",
        "\n",
        "sb.set()\n",
        "\n",
        "sb.set_style('darkgrid')\n",
        "\n",
        "plt.grid(True)\n",
        "\n",
        "plt.title('Количество событий для каждой группы по дням', fontsize=14, color='black')\n",
        "\n",
        "plt.xlabel('Даты')\n",
        "\n",
        "plt.ylabel('Количество заказов')\n",
        "\n",
        "plt.xticks(rotation=45)\n",
        "\n",
        "plt.show()"
      ]
    },
    {
      "cell_type": "markdown",
      "metadata": {
        "id": "efCTrbKDye4L"
      },
      "source": [
        "Минимальная дата в наших данных - 25.07.2019 года, максимальная - 07.08.2019 года. На графике вы видим значительную разницу между данныи до 31.07.2019 и данными после этой даты. До 31.07.2023 количество событий по группам держалось до 500, показывая небольшой рост с 29.07. по 31.07. Начиная с 01.08. количество событий резко возросло и держится в диапазоне от 10 до 14 тысяч, до конца наблюдений."
      ]
    },
    {
      "cell_type": "markdown",
      "metadata": {
        "id": "X4Jo7giaye4L"
      },
      "source": [
        "**Технически в логи новых дней по некоторым пользователям могут «доезжать» события из прошлого — это может «перекашивать данные». Определим, с какого момента данные полные и отбросим более старые. Данными за какой период времени мы располагаем на самом деле?**"
      ]
    },
    {
      "cell_type": "code",
      "execution_count": null,
      "metadata": {
        "colab": {
          "base_uri": "https://localhost:8080/",
          "height": 520
        },
        "id": "NyJwUCgaye4L",
        "outputId": "b6463fa5-f76e-404d-97cf-4e457b03f35c"
      },
      "outputs": [
        {
          "output_type": "execute_result",
          "data": {
            "text/plain": [
              "            event_name\n",
              "event_date            \n",
              "2019-07-25           9\n",
              "2019-07-26          31\n",
              "2019-07-27          55\n",
              "2019-07-28         105\n",
              "2019-07-29         184\n",
              "2019-07-30         412\n",
              "2019-07-31        2030\n",
              "2019-08-01       36141\n",
              "2019-08-02       35554\n",
              "2019-08-03       33282\n",
              "2019-08-04       32968\n",
              "2019-08-05       36058\n",
              "2019-08-06       35788\n",
              "2019-08-07       31096"
            ],
            "text/html": [
              "\n",
              "  <div id=\"df-31ef5c52-faed-44f8-9b79-e43526ec8952\" class=\"colab-df-container\">\n",
              "    <div>\n",
              "<style scoped>\n",
              "    .dataframe tbody tr th:only-of-type {\n",
              "        vertical-align: middle;\n",
              "    }\n",
              "\n",
              "    .dataframe tbody tr th {\n",
              "        vertical-align: top;\n",
              "    }\n",
              "\n",
              "    .dataframe thead th {\n",
              "        text-align: right;\n",
              "    }\n",
              "</style>\n",
              "<table border=\"1\" class=\"dataframe\">\n",
              "  <thead>\n",
              "    <tr style=\"text-align: right;\">\n",
              "      <th></th>\n",
              "      <th>event_name</th>\n",
              "    </tr>\n",
              "    <tr>\n",
              "      <th>event_date</th>\n",
              "      <th></th>\n",
              "    </tr>\n",
              "  </thead>\n",
              "  <tbody>\n",
              "    <tr>\n",
              "      <th>2019-07-25</th>\n",
              "      <td>9</td>\n",
              "    </tr>\n",
              "    <tr>\n",
              "      <th>2019-07-26</th>\n",
              "      <td>31</td>\n",
              "    </tr>\n",
              "    <tr>\n",
              "      <th>2019-07-27</th>\n",
              "      <td>55</td>\n",
              "    </tr>\n",
              "    <tr>\n",
              "      <th>2019-07-28</th>\n",
              "      <td>105</td>\n",
              "    </tr>\n",
              "    <tr>\n",
              "      <th>2019-07-29</th>\n",
              "      <td>184</td>\n",
              "    </tr>\n",
              "    <tr>\n",
              "      <th>2019-07-30</th>\n",
              "      <td>412</td>\n",
              "    </tr>\n",
              "    <tr>\n",
              "      <th>2019-07-31</th>\n",
              "      <td>2030</td>\n",
              "    </tr>\n",
              "    <tr>\n",
              "      <th>2019-08-01</th>\n",
              "      <td>36141</td>\n",
              "    </tr>\n",
              "    <tr>\n",
              "      <th>2019-08-02</th>\n",
              "      <td>35554</td>\n",
              "    </tr>\n",
              "    <tr>\n",
              "      <th>2019-08-03</th>\n",
              "      <td>33282</td>\n",
              "    </tr>\n",
              "    <tr>\n",
              "      <th>2019-08-04</th>\n",
              "      <td>32968</td>\n",
              "    </tr>\n",
              "    <tr>\n",
              "      <th>2019-08-05</th>\n",
              "      <td>36058</td>\n",
              "    </tr>\n",
              "    <tr>\n",
              "      <th>2019-08-06</th>\n",
              "      <td>35788</td>\n",
              "    </tr>\n",
              "    <tr>\n",
              "      <th>2019-08-07</th>\n",
              "      <td>31096</td>\n",
              "    </tr>\n",
              "  </tbody>\n",
              "</table>\n",
              "</div>\n",
              "    <div class=\"colab-df-buttons\">\n",
              "\n",
              "  <div class=\"colab-df-container\">\n",
              "    <button class=\"colab-df-convert\" onclick=\"convertToInteractive('df-31ef5c52-faed-44f8-9b79-e43526ec8952')\"\n",
              "            title=\"Convert this dataframe to an interactive table.\"\n",
              "            style=\"display:none;\">\n",
              "\n",
              "  <svg xmlns=\"http://www.w3.org/2000/svg\" height=\"24px\" viewBox=\"0 -960 960 960\">\n",
              "    <path d=\"M120-120v-720h720v720H120Zm60-500h600v-160H180v160Zm220 220h160v-160H400v160Zm0 220h160v-160H400v160ZM180-400h160v-160H180v160Zm440 0h160v-160H620v160ZM180-180h160v-160H180v160Zm440 0h160v-160H620v160Z\"/>\n",
              "  </svg>\n",
              "    </button>\n",
              "\n",
              "  <style>\n",
              "    .colab-df-container {\n",
              "      display:flex;\n",
              "      gap: 12px;\n",
              "    }\n",
              "\n",
              "    .colab-df-convert {\n",
              "      background-color: #E8F0FE;\n",
              "      border: none;\n",
              "      border-radius: 50%;\n",
              "      cursor: pointer;\n",
              "      display: none;\n",
              "      fill: #1967D2;\n",
              "      height: 32px;\n",
              "      padding: 0 0 0 0;\n",
              "      width: 32px;\n",
              "    }\n",
              "\n",
              "    .colab-df-convert:hover {\n",
              "      background-color: #E2EBFA;\n",
              "      box-shadow: 0px 1px 2px rgba(60, 64, 67, 0.3), 0px 1px 3px 1px rgba(60, 64, 67, 0.15);\n",
              "      fill: #174EA6;\n",
              "    }\n",
              "\n",
              "    .colab-df-buttons div {\n",
              "      margin-bottom: 4px;\n",
              "    }\n",
              "\n",
              "    [theme=dark] .colab-df-convert {\n",
              "      background-color: #3B4455;\n",
              "      fill: #D2E3FC;\n",
              "    }\n",
              "\n",
              "    [theme=dark] .colab-df-convert:hover {\n",
              "      background-color: #434B5C;\n",
              "      box-shadow: 0px 1px 3px 1px rgba(0, 0, 0, 0.15);\n",
              "      filter: drop-shadow(0px 1px 2px rgba(0, 0, 0, 0.3));\n",
              "      fill: #FFFFFF;\n",
              "    }\n",
              "  </style>\n",
              "\n",
              "    <script>\n",
              "      const buttonEl =\n",
              "        document.querySelector('#df-31ef5c52-faed-44f8-9b79-e43526ec8952 button.colab-df-convert');\n",
              "      buttonEl.style.display =\n",
              "        google.colab.kernel.accessAllowed ? 'block' : 'none';\n",
              "\n",
              "      async function convertToInteractive(key) {\n",
              "        const element = document.querySelector('#df-31ef5c52-faed-44f8-9b79-e43526ec8952');\n",
              "        const dataTable =\n",
              "          await google.colab.kernel.invokeFunction('convertToInteractive',\n",
              "                                                    [key], {});\n",
              "        if (!dataTable) return;\n",
              "\n",
              "        const docLinkHtml = 'Like what you see? Visit the ' +\n",
              "          '<a target=\"_blank\" href=https://colab.research.google.com/notebooks/data_table.ipynb>data table notebook</a>'\n",
              "          + ' to learn more about interactive tables.';\n",
              "        element.innerHTML = '';\n",
              "        dataTable['output_type'] = 'display_data';\n",
              "        await google.colab.output.renderOutput(dataTable, element);\n",
              "        const docLink = document.createElement('div');\n",
              "        docLink.innerHTML = docLinkHtml;\n",
              "        element.appendChild(docLink);\n",
              "      }\n",
              "    </script>\n",
              "  </div>\n",
              "\n",
              "\n",
              "<div id=\"df-a03f7cd0-9586-4c42-8ca2-73ce76985e27\">\n",
              "  <button class=\"colab-df-quickchart\" onclick=\"quickchart('df-a03f7cd0-9586-4c42-8ca2-73ce76985e27')\"\n",
              "            title=\"Suggest charts\"\n",
              "            style=\"display:none;\">\n",
              "\n",
              "<svg xmlns=\"http://www.w3.org/2000/svg\" height=\"24px\"viewBox=\"0 0 24 24\"\n",
              "     width=\"24px\">\n",
              "    <g>\n",
              "        <path d=\"M19 3H5c-1.1 0-2 .9-2 2v14c0 1.1.9 2 2 2h14c1.1 0 2-.9 2-2V5c0-1.1-.9-2-2-2zM9 17H7v-7h2v7zm4 0h-2V7h2v10zm4 0h-2v-4h2v4z\"/>\n",
              "    </g>\n",
              "</svg>\n",
              "  </button>\n",
              "\n",
              "<style>\n",
              "  .colab-df-quickchart {\n",
              "      --bg-color: #E8F0FE;\n",
              "      --fill-color: #1967D2;\n",
              "      --hover-bg-color: #E2EBFA;\n",
              "      --hover-fill-color: #174EA6;\n",
              "      --disabled-fill-color: #AAA;\n",
              "      --disabled-bg-color: #DDD;\n",
              "  }\n",
              "\n",
              "  [theme=dark] .colab-df-quickchart {\n",
              "      --bg-color: #3B4455;\n",
              "      --fill-color: #D2E3FC;\n",
              "      --hover-bg-color: #434B5C;\n",
              "      --hover-fill-color: #FFFFFF;\n",
              "      --disabled-bg-color: #3B4455;\n",
              "      --disabled-fill-color: #666;\n",
              "  }\n",
              "\n",
              "  .colab-df-quickchart {\n",
              "    background-color: var(--bg-color);\n",
              "    border: none;\n",
              "    border-radius: 50%;\n",
              "    cursor: pointer;\n",
              "    display: none;\n",
              "    fill: var(--fill-color);\n",
              "    height: 32px;\n",
              "    padding: 0;\n",
              "    width: 32px;\n",
              "  }\n",
              "\n",
              "  .colab-df-quickchart:hover {\n",
              "    background-color: var(--hover-bg-color);\n",
              "    box-shadow: 0 1px 2px rgba(60, 64, 67, 0.3), 0 1px 3px 1px rgba(60, 64, 67, 0.15);\n",
              "    fill: var(--button-hover-fill-color);\n",
              "  }\n",
              "\n",
              "  .colab-df-quickchart-complete:disabled,\n",
              "  .colab-df-quickchart-complete:disabled:hover {\n",
              "    background-color: var(--disabled-bg-color);\n",
              "    fill: var(--disabled-fill-color);\n",
              "    box-shadow: none;\n",
              "  }\n",
              "\n",
              "  .colab-df-spinner {\n",
              "    border: 2px solid var(--fill-color);\n",
              "    border-color: transparent;\n",
              "    border-bottom-color: var(--fill-color);\n",
              "    animation:\n",
              "      spin 1s steps(1) infinite;\n",
              "  }\n",
              "\n",
              "  @keyframes spin {\n",
              "    0% {\n",
              "      border-color: transparent;\n",
              "      border-bottom-color: var(--fill-color);\n",
              "      border-left-color: var(--fill-color);\n",
              "    }\n",
              "    20% {\n",
              "      border-color: transparent;\n",
              "      border-left-color: var(--fill-color);\n",
              "      border-top-color: var(--fill-color);\n",
              "    }\n",
              "    30% {\n",
              "      border-color: transparent;\n",
              "      border-left-color: var(--fill-color);\n",
              "      border-top-color: var(--fill-color);\n",
              "      border-right-color: var(--fill-color);\n",
              "    }\n",
              "    40% {\n",
              "      border-color: transparent;\n",
              "      border-right-color: var(--fill-color);\n",
              "      border-top-color: var(--fill-color);\n",
              "    }\n",
              "    60% {\n",
              "      border-color: transparent;\n",
              "      border-right-color: var(--fill-color);\n",
              "    }\n",
              "    80% {\n",
              "      border-color: transparent;\n",
              "      border-right-color: var(--fill-color);\n",
              "      border-bottom-color: var(--fill-color);\n",
              "    }\n",
              "    90% {\n",
              "      border-color: transparent;\n",
              "      border-bottom-color: var(--fill-color);\n",
              "    }\n",
              "  }\n",
              "</style>\n",
              "\n",
              "  <script>\n",
              "    async function quickchart(key) {\n",
              "      const quickchartButtonEl =\n",
              "        document.querySelector('#' + key + ' button');\n",
              "      quickchartButtonEl.disabled = true;  // To prevent multiple clicks.\n",
              "      quickchartButtonEl.classList.add('colab-df-spinner');\n",
              "      try {\n",
              "        const charts = await google.colab.kernel.invokeFunction(\n",
              "            'suggestCharts', [key], {});\n",
              "      } catch (error) {\n",
              "        console.error('Error during call to suggestCharts:', error);\n",
              "      }\n",
              "      quickchartButtonEl.classList.remove('colab-df-spinner');\n",
              "      quickchartButtonEl.classList.add('colab-df-quickchart-complete');\n",
              "    }\n",
              "    (() => {\n",
              "      let quickchartButtonEl =\n",
              "        document.querySelector('#df-a03f7cd0-9586-4c42-8ca2-73ce76985e27 button');\n",
              "      quickchartButtonEl.style.display =\n",
              "        google.colab.kernel.accessAllowed ? 'block' : 'none';\n",
              "    })();\n",
              "  </script>\n",
              "</div>\n",
              "    </div>\n",
              "  </div>\n"
            ],
            "application/vnd.google.colaboratory.intrinsic+json": {
              "type": "dataframe",
              "summary": "{\n  \"name\": \"df\",\n  \"rows\": 14,\n  \"fields\": [\n    {\n      \"column\": \"event_date\",\n      \"properties\": {\n        \"dtype\": \"date\",\n        \"min\": \"2019-07-25\",\n        \"max\": \"2019-08-07\",\n        \"num_unique_values\": 14,\n        \"samples\": [\n          \"2019-08-03\",\n          \"2019-08-05\",\n          \"2019-07-25\"\n        ],\n        \"semantic_type\": \"\",\n        \"description\": \"\"\n      }\n    },\n    {\n      \"column\": \"event_name\",\n      \"properties\": {\n        \"dtype\": \"number\",\n        \"std\": 17703,\n        \"min\": 9,\n        \"max\": 36141,\n        \"num_unique_values\": 14,\n        \"samples\": [\n          33282,\n          36058,\n          9\n        ],\n        \"semantic_type\": \"\",\n        \"description\": \"\"\n      }\n    }\n  ]\n}"
            }
          },
          "metadata": {},
          "execution_count": 26
        }
      ],
      "source": [
        "# посмотрим на количество событий по дням подробнее\n",
        "df.groupby('event_date').agg({'event_name':'count'})"
      ]
    },
    {
      "cell_type": "markdown",
      "metadata": {
        "id": "OxlZxjunye4L"
      },
      "source": [
        "При количественном рассмотрении распределения событий по датам, мы видим что разумно будет взять данные с 01.08. Так как 31-го июля мы имеем 2030 событий, а 1-го августа уже 36 тысяч."
      ]
    },
    {
      "cell_type": "code",
      "execution_count": null,
      "metadata": {
        "id": "qLSnp0bIye4L"
      },
      "outputs": [],
      "source": [
        "# собираем в отдельный датафрейм данные за нужнный нам период\n",
        "df_filtered = df[df['event_date'] > pd.to_datetime('2019-07-31').date()]"
      ]
    },
    {
      "cell_type": "code",
      "execution_count": null,
      "metadata": {
        "scrolled": true,
        "colab": {
          "base_uri": "https://localhost:8080/",
          "height": 300
        },
        "id": "HHZP7y8rye4L",
        "outputId": "502506a3-961a-4a5f-eb43-69f720c2449e"
      },
      "outputs": [
        {
          "output_type": "execute_result",
          "data": {
            "text/plain": [
              "            event_name\n",
              "event_date            \n",
              "2019-08-01       36141\n",
              "2019-08-02       35554\n",
              "2019-08-03       33282\n",
              "2019-08-04       32968\n",
              "2019-08-05       36058\n",
              "2019-08-06       35788\n",
              "2019-08-07       31096"
            ],
            "text/html": [
              "\n",
              "  <div id=\"df-008f0760-436e-41a6-9c6e-b4383bee3666\" class=\"colab-df-container\">\n",
              "    <div>\n",
              "<style scoped>\n",
              "    .dataframe tbody tr th:only-of-type {\n",
              "        vertical-align: middle;\n",
              "    }\n",
              "\n",
              "    .dataframe tbody tr th {\n",
              "        vertical-align: top;\n",
              "    }\n",
              "\n",
              "    .dataframe thead th {\n",
              "        text-align: right;\n",
              "    }\n",
              "</style>\n",
              "<table border=\"1\" class=\"dataframe\">\n",
              "  <thead>\n",
              "    <tr style=\"text-align: right;\">\n",
              "      <th></th>\n",
              "      <th>event_name</th>\n",
              "    </tr>\n",
              "    <tr>\n",
              "      <th>event_date</th>\n",
              "      <th></th>\n",
              "    </tr>\n",
              "  </thead>\n",
              "  <tbody>\n",
              "    <tr>\n",
              "      <th>2019-08-01</th>\n",
              "      <td>36141</td>\n",
              "    </tr>\n",
              "    <tr>\n",
              "      <th>2019-08-02</th>\n",
              "      <td>35554</td>\n",
              "    </tr>\n",
              "    <tr>\n",
              "      <th>2019-08-03</th>\n",
              "      <td>33282</td>\n",
              "    </tr>\n",
              "    <tr>\n",
              "      <th>2019-08-04</th>\n",
              "      <td>32968</td>\n",
              "    </tr>\n",
              "    <tr>\n",
              "      <th>2019-08-05</th>\n",
              "      <td>36058</td>\n",
              "    </tr>\n",
              "    <tr>\n",
              "      <th>2019-08-06</th>\n",
              "      <td>35788</td>\n",
              "    </tr>\n",
              "    <tr>\n",
              "      <th>2019-08-07</th>\n",
              "      <td>31096</td>\n",
              "    </tr>\n",
              "  </tbody>\n",
              "</table>\n",
              "</div>\n",
              "    <div class=\"colab-df-buttons\">\n",
              "\n",
              "  <div class=\"colab-df-container\">\n",
              "    <button class=\"colab-df-convert\" onclick=\"convertToInteractive('df-008f0760-436e-41a6-9c6e-b4383bee3666')\"\n",
              "            title=\"Convert this dataframe to an interactive table.\"\n",
              "            style=\"display:none;\">\n",
              "\n",
              "  <svg xmlns=\"http://www.w3.org/2000/svg\" height=\"24px\" viewBox=\"0 -960 960 960\">\n",
              "    <path d=\"M120-120v-720h720v720H120Zm60-500h600v-160H180v160Zm220 220h160v-160H400v160Zm0 220h160v-160H400v160ZM180-400h160v-160H180v160Zm440 0h160v-160H620v160ZM180-180h160v-160H180v160Zm440 0h160v-160H620v160Z\"/>\n",
              "  </svg>\n",
              "    </button>\n",
              "\n",
              "  <style>\n",
              "    .colab-df-container {\n",
              "      display:flex;\n",
              "      gap: 12px;\n",
              "    }\n",
              "\n",
              "    .colab-df-convert {\n",
              "      background-color: #E8F0FE;\n",
              "      border: none;\n",
              "      border-radius: 50%;\n",
              "      cursor: pointer;\n",
              "      display: none;\n",
              "      fill: #1967D2;\n",
              "      height: 32px;\n",
              "      padding: 0 0 0 0;\n",
              "      width: 32px;\n",
              "    }\n",
              "\n",
              "    .colab-df-convert:hover {\n",
              "      background-color: #E2EBFA;\n",
              "      box-shadow: 0px 1px 2px rgba(60, 64, 67, 0.3), 0px 1px 3px 1px rgba(60, 64, 67, 0.15);\n",
              "      fill: #174EA6;\n",
              "    }\n",
              "\n",
              "    .colab-df-buttons div {\n",
              "      margin-bottom: 4px;\n",
              "    }\n",
              "\n",
              "    [theme=dark] .colab-df-convert {\n",
              "      background-color: #3B4455;\n",
              "      fill: #D2E3FC;\n",
              "    }\n",
              "\n",
              "    [theme=dark] .colab-df-convert:hover {\n",
              "      background-color: #434B5C;\n",
              "      box-shadow: 0px 1px 3px 1px rgba(0, 0, 0, 0.15);\n",
              "      filter: drop-shadow(0px 1px 2px rgba(0, 0, 0, 0.3));\n",
              "      fill: #FFFFFF;\n",
              "    }\n",
              "  </style>\n",
              "\n",
              "    <script>\n",
              "      const buttonEl =\n",
              "        document.querySelector('#df-008f0760-436e-41a6-9c6e-b4383bee3666 button.colab-df-convert');\n",
              "      buttonEl.style.display =\n",
              "        google.colab.kernel.accessAllowed ? 'block' : 'none';\n",
              "\n",
              "      async function convertToInteractive(key) {\n",
              "        const element = document.querySelector('#df-008f0760-436e-41a6-9c6e-b4383bee3666');\n",
              "        const dataTable =\n",
              "          await google.colab.kernel.invokeFunction('convertToInteractive',\n",
              "                                                    [key], {});\n",
              "        if (!dataTable) return;\n",
              "\n",
              "        const docLinkHtml = 'Like what you see? Visit the ' +\n",
              "          '<a target=\"_blank\" href=https://colab.research.google.com/notebooks/data_table.ipynb>data table notebook</a>'\n",
              "          + ' to learn more about interactive tables.';\n",
              "        element.innerHTML = '';\n",
              "        dataTable['output_type'] = 'display_data';\n",
              "        await google.colab.output.renderOutput(dataTable, element);\n",
              "        const docLink = document.createElement('div');\n",
              "        docLink.innerHTML = docLinkHtml;\n",
              "        element.appendChild(docLink);\n",
              "      }\n",
              "    </script>\n",
              "  </div>\n",
              "\n",
              "\n",
              "<div id=\"df-8dafd695-620f-48e1-a685-99d416c500b4\">\n",
              "  <button class=\"colab-df-quickchart\" onclick=\"quickchart('df-8dafd695-620f-48e1-a685-99d416c500b4')\"\n",
              "            title=\"Suggest charts\"\n",
              "            style=\"display:none;\">\n",
              "\n",
              "<svg xmlns=\"http://www.w3.org/2000/svg\" height=\"24px\"viewBox=\"0 0 24 24\"\n",
              "     width=\"24px\">\n",
              "    <g>\n",
              "        <path d=\"M19 3H5c-1.1 0-2 .9-2 2v14c0 1.1.9 2 2 2h14c1.1 0 2-.9 2-2V5c0-1.1-.9-2-2-2zM9 17H7v-7h2v7zm4 0h-2V7h2v10zm4 0h-2v-4h2v4z\"/>\n",
              "    </g>\n",
              "</svg>\n",
              "  </button>\n",
              "\n",
              "<style>\n",
              "  .colab-df-quickchart {\n",
              "      --bg-color: #E8F0FE;\n",
              "      --fill-color: #1967D2;\n",
              "      --hover-bg-color: #E2EBFA;\n",
              "      --hover-fill-color: #174EA6;\n",
              "      --disabled-fill-color: #AAA;\n",
              "      --disabled-bg-color: #DDD;\n",
              "  }\n",
              "\n",
              "  [theme=dark] .colab-df-quickchart {\n",
              "      --bg-color: #3B4455;\n",
              "      --fill-color: #D2E3FC;\n",
              "      --hover-bg-color: #434B5C;\n",
              "      --hover-fill-color: #FFFFFF;\n",
              "      --disabled-bg-color: #3B4455;\n",
              "      --disabled-fill-color: #666;\n",
              "  }\n",
              "\n",
              "  .colab-df-quickchart {\n",
              "    background-color: var(--bg-color);\n",
              "    border: none;\n",
              "    border-radius: 50%;\n",
              "    cursor: pointer;\n",
              "    display: none;\n",
              "    fill: var(--fill-color);\n",
              "    height: 32px;\n",
              "    padding: 0;\n",
              "    width: 32px;\n",
              "  }\n",
              "\n",
              "  .colab-df-quickchart:hover {\n",
              "    background-color: var(--hover-bg-color);\n",
              "    box-shadow: 0 1px 2px rgba(60, 64, 67, 0.3), 0 1px 3px 1px rgba(60, 64, 67, 0.15);\n",
              "    fill: var(--button-hover-fill-color);\n",
              "  }\n",
              "\n",
              "  .colab-df-quickchart-complete:disabled,\n",
              "  .colab-df-quickchart-complete:disabled:hover {\n",
              "    background-color: var(--disabled-bg-color);\n",
              "    fill: var(--disabled-fill-color);\n",
              "    box-shadow: none;\n",
              "  }\n",
              "\n",
              "  .colab-df-spinner {\n",
              "    border: 2px solid var(--fill-color);\n",
              "    border-color: transparent;\n",
              "    border-bottom-color: var(--fill-color);\n",
              "    animation:\n",
              "      spin 1s steps(1) infinite;\n",
              "  }\n",
              "\n",
              "  @keyframes spin {\n",
              "    0% {\n",
              "      border-color: transparent;\n",
              "      border-bottom-color: var(--fill-color);\n",
              "      border-left-color: var(--fill-color);\n",
              "    }\n",
              "    20% {\n",
              "      border-color: transparent;\n",
              "      border-left-color: var(--fill-color);\n",
              "      border-top-color: var(--fill-color);\n",
              "    }\n",
              "    30% {\n",
              "      border-color: transparent;\n",
              "      border-left-color: var(--fill-color);\n",
              "      border-top-color: var(--fill-color);\n",
              "      border-right-color: var(--fill-color);\n",
              "    }\n",
              "    40% {\n",
              "      border-color: transparent;\n",
              "      border-right-color: var(--fill-color);\n",
              "      border-top-color: var(--fill-color);\n",
              "    }\n",
              "    60% {\n",
              "      border-color: transparent;\n",
              "      border-right-color: var(--fill-color);\n",
              "    }\n",
              "    80% {\n",
              "      border-color: transparent;\n",
              "      border-right-color: var(--fill-color);\n",
              "      border-bottom-color: var(--fill-color);\n",
              "    }\n",
              "    90% {\n",
              "      border-color: transparent;\n",
              "      border-bottom-color: var(--fill-color);\n",
              "    }\n",
              "  }\n",
              "</style>\n",
              "\n",
              "  <script>\n",
              "    async function quickchart(key) {\n",
              "      const quickchartButtonEl =\n",
              "        document.querySelector('#' + key + ' button');\n",
              "      quickchartButtonEl.disabled = true;  // To prevent multiple clicks.\n",
              "      quickchartButtonEl.classList.add('colab-df-spinner');\n",
              "      try {\n",
              "        const charts = await google.colab.kernel.invokeFunction(\n",
              "            'suggestCharts', [key], {});\n",
              "      } catch (error) {\n",
              "        console.error('Error during call to suggestCharts:', error);\n",
              "      }\n",
              "      quickchartButtonEl.classList.remove('colab-df-spinner');\n",
              "      quickchartButtonEl.classList.add('colab-df-quickchart-complete');\n",
              "    }\n",
              "    (() => {\n",
              "      let quickchartButtonEl =\n",
              "        document.querySelector('#df-8dafd695-620f-48e1-a685-99d416c500b4 button');\n",
              "      quickchartButtonEl.style.display =\n",
              "        google.colab.kernel.accessAllowed ? 'block' : 'none';\n",
              "    })();\n",
              "  </script>\n",
              "</div>\n",
              "    </div>\n",
              "  </div>\n"
            ],
            "application/vnd.google.colaboratory.intrinsic+json": {
              "type": "dataframe",
              "summary": "{\n  \"name\": \"df_filtered\",\n  \"rows\": 7,\n  \"fields\": [\n    {\n      \"column\": \"event_date\",\n      \"properties\": {\n        \"dtype\": \"date\",\n        \"min\": \"2019-08-01\",\n        \"max\": \"2019-08-07\",\n        \"num_unique_values\": 7,\n        \"samples\": [\n          \"2019-08-01\",\n          \"2019-08-02\",\n          \"2019-08-06\"\n        ],\n        \"semantic_type\": \"\",\n        \"description\": \"\"\n      }\n    },\n    {\n      \"column\": \"event_name\",\n      \"properties\": {\n        \"dtype\": \"number\",\n        \"std\": 1968,\n        \"min\": 31096,\n        \"max\": 36141,\n        \"num_unique_values\": 7,\n        \"samples\": [\n          36141,\n          35554,\n          35788\n        ],\n        \"semantic_type\": \"\",\n        \"description\": \"\"\n      }\n    }\n  ]\n}"
            }
          },
          "metadata": {},
          "execution_count": 29
        }
      ],
      "source": [
        "# проверяем созданный датафрейм\n",
        "df_filtered.groupby('event_date').agg({'event_name':'count'})"
      ]
    },
    {
      "cell_type": "markdown",
      "metadata": {
        "id": "ZGQFgrYjye4L"
      },
      "source": [
        "По итогу мы отбросили все имеющиеся у нас данные за июль, с 25-го по 31-е число. Таким образом мы имеем данные за 7 дней августа."
      ]
    },
    {
      "cell_type": "markdown",
      "metadata": {
        "id": "skI8TdlIye4M"
      },
      "source": [
        "**Много ли событий и пользователей мы потеряли, отбросив старые данные?**"
      ]
    },
    {
      "cell_type": "code",
      "execution_count": null,
      "metadata": {
        "colab": {
          "base_uri": "https://localhost:8080/"
        },
        "id": "NdgiKOBtye4M",
        "outputId": "5eee0683-3509-41ab-9d3a-4c927342e63b"
      },
      "outputs": [
        {
          "output_type": "execute_result",
          "data": {
            "text/plain": [
              "2826"
            ]
          },
          "metadata": {},
          "execution_count": 30
        }
      ],
      "source": [
        "# вычитаем размеры датафреймов\n",
        "df.shape[0]-df_filtered.shape[0]"
      ]
    },
    {
      "cell_type": "code",
      "execution_count": null,
      "metadata": {
        "colab": {
          "base_uri": "https://localhost:8080/"
        },
        "id": "AkEFaXOJye4M",
        "outputId": "52740645-a5e1-4cbf-efa8-d42ce88ed223"
      },
      "outputs": [
        {
          "output_type": "execute_result",
          "data": {
            "text/plain": [
              "1.159560630741897"
            ]
          },
          "metadata": {},
          "execution_count": 31
        }
      ],
      "source": [
        "# считаем сколько процентов данных мы потеряли\n",
        "(df.shape[0]-df_filtered.shape[0])/df.shape[0]*100"
      ]
    },
    {
      "cell_type": "code",
      "execution_count": null,
      "metadata": {
        "scrolled": false,
        "colab": {
          "base_uri": "https://localhost:8080/"
        },
        "id": "GZD09r_rye4M",
        "outputId": "c660f604-6b81-47e8-9282-1a59e5383081"
      },
      "outputs": [
        {
          "output_type": "execute_result",
          "data": {
            "text/plain": [
              "7534"
            ]
          },
          "metadata": {},
          "execution_count": 32
        }
      ],
      "source": [
        "# количество уникальных пользователей в отфильтрованном датасете\n",
        "df_filtered['user_id'].nunique()"
      ]
    },
    {
      "cell_type": "code",
      "execution_count": null,
      "metadata": {
        "colab": {
          "base_uri": "https://localhost:8080/"
        },
        "id": "bJpWbAUxye4M",
        "outputId": "dbe90cef-cd70-41df-bb61-31f0d4860e18"
      },
      "outputs": [
        {
          "output_type": "execute_result",
          "data": {
            "text/plain": [
              "17"
            ]
          },
          "metadata": {},
          "execution_count": 33
        }
      ],
      "source": [
        "# сколько пользователей мы потеряли\n",
        "df['user_id'].nunique()-df_filtered['user_id'].nunique()"
      ]
    },
    {
      "cell_type": "code",
      "source": [
        "# потери пользователей в процентном отношении\n",
        "(df['user_id'].nunique()-df_filtered['user_id'].nunique())/df['user_id'].nunique()*100"
      ],
      "metadata": {
        "colab": {
          "base_uri": "https://localhost:8080/"
        },
        "id": "jZOT1t7nj_o4",
        "outputId": "714b830c-dd8e-457e-c35c-51c1e07d5f02"
      },
      "execution_count": null,
      "outputs": [
        {
          "output_type": "execute_result",
          "data": {
            "text/plain": [
              "0.22513574361011784"
            ]
          },
          "metadata": {},
          "execution_count": 34
        }
      ]
    },
    {
      "cell_type": "markdown",
      "metadata": {
        "id": "Z6JK_CD_ye4N"
      },
      "source": [
        "После очистки данных, мы потеряли 17 пользователей, теперь их 7534. В части событий мы потеряли 2826 записей, что является чуть более чем одним процентом от общего количества данных."
      ]
    },
    {
      "cell_type": "markdown",
      "metadata": {
        "id": "3pL5u_39ye4N"
      },
      "source": [
        "**Проверим, что у нас есть пользователи из всех трёх экспериментальных групп.**"
      ]
    },
    {
      "cell_type": "code",
      "execution_count": null,
      "metadata": {
        "colab": {
          "base_uri": "https://localhost:8080/",
          "height": 175
        },
        "id": "ZOIUUhMhye4N",
        "outputId": "49efa7e0-f2ea-4969-eac0-ef67e4f96ff5"
      },
      "outputs": [
        {
          "output_type": "execute_result",
          "data": {
            "text/plain": [
              "          user_id\n",
              "group_id         \n",
              "246          2484\n",
              "247          2513\n",
              "248          2537"
            ],
            "text/html": [
              "\n",
              "  <div id=\"df-e628549d-f08a-4739-8c88-46ef843a4e44\" class=\"colab-df-container\">\n",
              "    <div>\n",
              "<style scoped>\n",
              "    .dataframe tbody tr th:only-of-type {\n",
              "        vertical-align: middle;\n",
              "    }\n",
              "\n",
              "    .dataframe tbody tr th {\n",
              "        vertical-align: top;\n",
              "    }\n",
              "\n",
              "    .dataframe thead th {\n",
              "        text-align: right;\n",
              "    }\n",
              "</style>\n",
              "<table border=\"1\" class=\"dataframe\">\n",
              "  <thead>\n",
              "    <tr style=\"text-align: right;\">\n",
              "      <th></th>\n",
              "      <th>user_id</th>\n",
              "    </tr>\n",
              "    <tr>\n",
              "      <th>group_id</th>\n",
              "      <th></th>\n",
              "    </tr>\n",
              "  </thead>\n",
              "  <tbody>\n",
              "    <tr>\n",
              "      <th>246</th>\n",
              "      <td>2484</td>\n",
              "    </tr>\n",
              "    <tr>\n",
              "      <th>247</th>\n",
              "      <td>2513</td>\n",
              "    </tr>\n",
              "    <tr>\n",
              "      <th>248</th>\n",
              "      <td>2537</td>\n",
              "    </tr>\n",
              "  </tbody>\n",
              "</table>\n",
              "</div>\n",
              "    <div class=\"colab-df-buttons\">\n",
              "\n",
              "  <div class=\"colab-df-container\">\n",
              "    <button class=\"colab-df-convert\" onclick=\"convertToInteractive('df-e628549d-f08a-4739-8c88-46ef843a4e44')\"\n",
              "            title=\"Convert this dataframe to an interactive table.\"\n",
              "            style=\"display:none;\">\n",
              "\n",
              "  <svg xmlns=\"http://www.w3.org/2000/svg\" height=\"24px\" viewBox=\"0 -960 960 960\">\n",
              "    <path d=\"M120-120v-720h720v720H120Zm60-500h600v-160H180v160Zm220 220h160v-160H400v160Zm0 220h160v-160H400v160ZM180-400h160v-160H180v160Zm440 0h160v-160H620v160ZM180-180h160v-160H180v160Zm440 0h160v-160H620v160Z\"/>\n",
              "  </svg>\n",
              "    </button>\n",
              "\n",
              "  <style>\n",
              "    .colab-df-container {\n",
              "      display:flex;\n",
              "      gap: 12px;\n",
              "    }\n",
              "\n",
              "    .colab-df-convert {\n",
              "      background-color: #E8F0FE;\n",
              "      border: none;\n",
              "      border-radius: 50%;\n",
              "      cursor: pointer;\n",
              "      display: none;\n",
              "      fill: #1967D2;\n",
              "      height: 32px;\n",
              "      padding: 0 0 0 0;\n",
              "      width: 32px;\n",
              "    }\n",
              "\n",
              "    .colab-df-convert:hover {\n",
              "      background-color: #E2EBFA;\n",
              "      box-shadow: 0px 1px 2px rgba(60, 64, 67, 0.3), 0px 1px 3px 1px rgba(60, 64, 67, 0.15);\n",
              "      fill: #174EA6;\n",
              "    }\n",
              "\n",
              "    .colab-df-buttons div {\n",
              "      margin-bottom: 4px;\n",
              "    }\n",
              "\n",
              "    [theme=dark] .colab-df-convert {\n",
              "      background-color: #3B4455;\n",
              "      fill: #D2E3FC;\n",
              "    }\n",
              "\n",
              "    [theme=dark] .colab-df-convert:hover {\n",
              "      background-color: #434B5C;\n",
              "      box-shadow: 0px 1px 3px 1px rgba(0, 0, 0, 0.15);\n",
              "      filter: drop-shadow(0px 1px 2px rgba(0, 0, 0, 0.3));\n",
              "      fill: #FFFFFF;\n",
              "    }\n",
              "  </style>\n",
              "\n",
              "    <script>\n",
              "      const buttonEl =\n",
              "        document.querySelector('#df-e628549d-f08a-4739-8c88-46ef843a4e44 button.colab-df-convert');\n",
              "      buttonEl.style.display =\n",
              "        google.colab.kernel.accessAllowed ? 'block' : 'none';\n",
              "\n",
              "      async function convertToInteractive(key) {\n",
              "        const element = document.querySelector('#df-e628549d-f08a-4739-8c88-46ef843a4e44');\n",
              "        const dataTable =\n",
              "          await google.colab.kernel.invokeFunction('convertToInteractive',\n",
              "                                                    [key], {});\n",
              "        if (!dataTable) return;\n",
              "\n",
              "        const docLinkHtml = 'Like what you see? Visit the ' +\n",
              "          '<a target=\"_blank\" href=https://colab.research.google.com/notebooks/data_table.ipynb>data table notebook</a>'\n",
              "          + ' to learn more about interactive tables.';\n",
              "        element.innerHTML = '';\n",
              "        dataTable['output_type'] = 'display_data';\n",
              "        await google.colab.output.renderOutput(dataTable, element);\n",
              "        const docLink = document.createElement('div');\n",
              "        docLink.innerHTML = docLinkHtml;\n",
              "        element.appendChild(docLink);\n",
              "      }\n",
              "    </script>\n",
              "  </div>\n",
              "\n",
              "\n",
              "<div id=\"df-88cf78e5-aa88-457a-8114-0d25e809d7ce\">\n",
              "  <button class=\"colab-df-quickchart\" onclick=\"quickchart('df-88cf78e5-aa88-457a-8114-0d25e809d7ce')\"\n",
              "            title=\"Suggest charts\"\n",
              "            style=\"display:none;\">\n",
              "\n",
              "<svg xmlns=\"http://www.w3.org/2000/svg\" height=\"24px\"viewBox=\"0 0 24 24\"\n",
              "     width=\"24px\">\n",
              "    <g>\n",
              "        <path d=\"M19 3H5c-1.1 0-2 .9-2 2v14c0 1.1.9 2 2 2h14c1.1 0 2-.9 2-2V5c0-1.1-.9-2-2-2zM9 17H7v-7h2v7zm4 0h-2V7h2v10zm4 0h-2v-4h2v4z\"/>\n",
              "    </g>\n",
              "</svg>\n",
              "  </button>\n",
              "\n",
              "<style>\n",
              "  .colab-df-quickchart {\n",
              "      --bg-color: #E8F0FE;\n",
              "      --fill-color: #1967D2;\n",
              "      --hover-bg-color: #E2EBFA;\n",
              "      --hover-fill-color: #174EA6;\n",
              "      --disabled-fill-color: #AAA;\n",
              "      --disabled-bg-color: #DDD;\n",
              "  }\n",
              "\n",
              "  [theme=dark] .colab-df-quickchart {\n",
              "      --bg-color: #3B4455;\n",
              "      --fill-color: #D2E3FC;\n",
              "      --hover-bg-color: #434B5C;\n",
              "      --hover-fill-color: #FFFFFF;\n",
              "      --disabled-bg-color: #3B4455;\n",
              "      --disabled-fill-color: #666;\n",
              "  }\n",
              "\n",
              "  .colab-df-quickchart {\n",
              "    background-color: var(--bg-color);\n",
              "    border: none;\n",
              "    border-radius: 50%;\n",
              "    cursor: pointer;\n",
              "    display: none;\n",
              "    fill: var(--fill-color);\n",
              "    height: 32px;\n",
              "    padding: 0;\n",
              "    width: 32px;\n",
              "  }\n",
              "\n",
              "  .colab-df-quickchart:hover {\n",
              "    background-color: var(--hover-bg-color);\n",
              "    box-shadow: 0 1px 2px rgba(60, 64, 67, 0.3), 0 1px 3px 1px rgba(60, 64, 67, 0.15);\n",
              "    fill: var(--button-hover-fill-color);\n",
              "  }\n",
              "\n",
              "  .colab-df-quickchart-complete:disabled,\n",
              "  .colab-df-quickchart-complete:disabled:hover {\n",
              "    background-color: var(--disabled-bg-color);\n",
              "    fill: var(--disabled-fill-color);\n",
              "    box-shadow: none;\n",
              "  }\n",
              "\n",
              "  .colab-df-spinner {\n",
              "    border: 2px solid var(--fill-color);\n",
              "    border-color: transparent;\n",
              "    border-bottom-color: var(--fill-color);\n",
              "    animation:\n",
              "      spin 1s steps(1) infinite;\n",
              "  }\n",
              "\n",
              "  @keyframes spin {\n",
              "    0% {\n",
              "      border-color: transparent;\n",
              "      border-bottom-color: var(--fill-color);\n",
              "      border-left-color: var(--fill-color);\n",
              "    }\n",
              "    20% {\n",
              "      border-color: transparent;\n",
              "      border-left-color: var(--fill-color);\n",
              "      border-top-color: var(--fill-color);\n",
              "    }\n",
              "    30% {\n",
              "      border-color: transparent;\n",
              "      border-left-color: var(--fill-color);\n",
              "      border-top-color: var(--fill-color);\n",
              "      border-right-color: var(--fill-color);\n",
              "    }\n",
              "    40% {\n",
              "      border-color: transparent;\n",
              "      border-right-color: var(--fill-color);\n",
              "      border-top-color: var(--fill-color);\n",
              "    }\n",
              "    60% {\n",
              "      border-color: transparent;\n",
              "      border-right-color: var(--fill-color);\n",
              "    }\n",
              "    80% {\n",
              "      border-color: transparent;\n",
              "      border-right-color: var(--fill-color);\n",
              "      border-bottom-color: var(--fill-color);\n",
              "    }\n",
              "    90% {\n",
              "      border-color: transparent;\n",
              "      border-bottom-color: var(--fill-color);\n",
              "    }\n",
              "  }\n",
              "</style>\n",
              "\n",
              "  <script>\n",
              "    async function quickchart(key) {\n",
              "      const quickchartButtonEl =\n",
              "        document.querySelector('#' + key + ' button');\n",
              "      quickchartButtonEl.disabled = true;  // To prevent multiple clicks.\n",
              "      quickchartButtonEl.classList.add('colab-df-spinner');\n",
              "      try {\n",
              "        const charts = await google.colab.kernel.invokeFunction(\n",
              "            'suggestCharts', [key], {});\n",
              "      } catch (error) {\n",
              "        console.error('Error during call to suggestCharts:', error);\n",
              "      }\n",
              "      quickchartButtonEl.classList.remove('colab-df-spinner');\n",
              "      quickchartButtonEl.classList.add('colab-df-quickchart-complete');\n",
              "    }\n",
              "    (() => {\n",
              "      let quickchartButtonEl =\n",
              "        document.querySelector('#df-88cf78e5-aa88-457a-8114-0d25e809d7ce button');\n",
              "      quickchartButtonEl.style.display =\n",
              "        google.colab.kernel.accessAllowed ? 'block' : 'none';\n",
              "    })();\n",
              "  </script>\n",
              "</div>\n",
              "    </div>\n",
              "  </div>\n"
            ],
            "application/vnd.google.colaboratory.intrinsic+json": {
              "type": "dataframe",
              "summary": "{\n  \"name\": \"df_filtered\",\n  \"rows\": 3,\n  \"fields\": [\n    {\n      \"column\": \"group_id\",\n      \"properties\": {\n        \"dtype\": \"number\",\n        \"std\": 1,\n        \"min\": 246,\n        \"max\": 248,\n        \"num_unique_values\": 3,\n        \"samples\": [\n          246,\n          247,\n          248\n        ],\n        \"semantic_type\": \"\",\n        \"description\": \"\"\n      }\n    },\n    {\n      \"column\": \"user_id\",\n      \"properties\": {\n        \"dtype\": \"number\",\n        \"std\": 26,\n        \"min\": 2484,\n        \"max\": 2537,\n        \"num_unique_values\": 3,\n        \"samples\": [\n          2484,\n          2513,\n          2537\n        ],\n        \"semantic_type\": \"\",\n        \"description\": \"\"\n      }\n    }\n  ]\n}"
            }
          },
          "metadata": {},
          "execution_count": 35
        }
      ],
      "source": [
        "# группируем и считаем уникальных пользователей\n",
        "df_filtered.groupby('group_id').agg({'user_id':'nunique'})"
      ]
    },
    {
      "cell_type": "markdown",
      "metadata": {
        "id": "nJE_3teQye4N"
      },
      "source": [
        "Мы распологаем почти равным количеством уникальных пользователей во всех трех группах в отфильтрованных данных."
      ]
    },
    {
      "cell_type": "markdown",
      "metadata": {
        "id": "D1R675Owye4N"
      },
      "source": [
        "#### Изучение воронки событий"
      ]
    },
    {
      "cell_type": "markdown",
      "metadata": {
        "id": "IQGEbfj5ye4N"
      },
      "source": [
        "\n",
        "Задачи от бизнес заказчика:\n",
        "- Посмотрим, какие события есть в логах, как часто они встречаются. Отсортируем события по частоте.\n",
        "- Посчитаем, сколько пользователей совершали каждое из этих событий. Отсортируем события по числу пользователей.\n",
        "- Посчитаем долю пользователей, которые хоть раз совершали событие.\n",
        "- В каком порядке происходят события. Все ли они выстраиваются в последовательную цепочку?\n",
        "- Посчитаем по воронке событий, какая доля пользователей проходит на следующий шаг воронки (от числа пользователей на предыдущем). То есть для последовательности событий A → B → C посчитаем отношение числа пользователей с событием B к количеству пользователей с событием A, а также отношение числа пользователей с событием C к количеству пользователей с событием B.\n",
        "- На каком шаге теряется больше всего пользователей?\n",
        "- Какая доля пользователей доходит от первого события до оплаты?"
      ]
    },
    {
      "cell_type": "markdown",
      "metadata": {
        "id": "KmPnVF1yye4O"
      },
      "source": [
        "**Посмотрим, какие события есть в логах, как часто они встречаются. Отсортируем события по частоте.**"
      ]
    },
    {
      "cell_type": "code",
      "execution_count": null,
      "metadata": {
        "colab": {
          "base_uri": "https://localhost:8080/"
        },
        "id": "aI-glELmye4O",
        "outputId": "424199be-791b-4b8e-80b5-10ef85b7aa2e"
      },
      "outputs": [
        {
          "output_type": "execute_result",
          "data": {
            "text/plain": [
              "event_name\n",
              "MainScreenAppear           117328\n",
              "OffersScreenAppear          46333\n",
              "CartScreenAppear            42303\n",
              "PaymentScreenSuccessful     33918\n",
              "Tutorial                     1005\n",
              "Name: count, dtype: int64"
            ]
          },
          "metadata": {},
          "execution_count": 36
        }
      ],
      "source": [
        "df_filtered['event_name'].value_counts()"
      ]
    },
    {
      "cell_type": "markdown",
      "metadata": {
        "id": "xr7VrTAmye4O"
      },
      "source": [
        "В логе 5 уникальных событий.\n",
        "\n",
        "- MainScreenAppear - открыт главный экран\n",
        "- OffersScreenAppear - открыт экран с товарами\n",
        "- CartScreenAppear - открыт экран корзины\n",
        "- PaymentScreenSuccessful - открыт экран успешной оплаты\n",
        "- Tutorial - открыт экран подсказки\n",
        "\n",
        "В данном списке они отсортированы по частоте их встречаемости в наших данных. Чаще всего пользователи открывают главный экран, после идет экран с товарами, далее корзина, после экран успешной оплаты. В целом это выглядит как воронка. Не совсем понятно событие Tutorial, о каком туториале идет речь? Инструкции о работе с системой или о том как будет осуществлена доставка?"
      ]
    },
    {
      "cell_type": "markdown",
      "metadata": {
        "id": "Saq0J7U7ye4O"
      },
      "source": [
        "**Посчитаем, сколько пользователей совершали каждое из этих событий. Отсортируем события по числу пользователей.**"
      ]
    },
    {
      "cell_type": "code",
      "execution_count": null,
      "metadata": {
        "colab": {
          "base_uri": "https://localhost:8080/",
          "height": 206
        },
        "id": "ZGHL1irGye4O",
        "outputId": "c27b056e-89dd-4b2c-9148-c73120b5620c"
      },
      "outputs": [
        {
          "output_type": "execute_result",
          "data": {
            "text/plain": [
              "                event_name  user_id\n",
              "1         MainScreenAppear     7419\n",
              "2       OffersScreenAppear     4593\n",
              "0         CartScreenAppear     3734\n",
              "3  PaymentScreenSuccessful     3539\n",
              "4                 Tutorial      840"
            ],
            "text/html": [
              "\n",
              "  <div id=\"df-d7502bb3-9409-46d9-aa2a-40a333269999\" class=\"colab-df-container\">\n",
              "    <div>\n",
              "<style scoped>\n",
              "    .dataframe tbody tr th:only-of-type {\n",
              "        vertical-align: middle;\n",
              "    }\n",
              "\n",
              "    .dataframe tbody tr th {\n",
              "        vertical-align: top;\n",
              "    }\n",
              "\n",
              "    .dataframe thead th {\n",
              "        text-align: right;\n",
              "    }\n",
              "</style>\n",
              "<table border=\"1\" class=\"dataframe\">\n",
              "  <thead>\n",
              "    <tr style=\"text-align: right;\">\n",
              "      <th></th>\n",
              "      <th>event_name</th>\n",
              "      <th>user_id</th>\n",
              "    </tr>\n",
              "  </thead>\n",
              "  <tbody>\n",
              "    <tr>\n",
              "      <th>1</th>\n",
              "      <td>MainScreenAppear</td>\n",
              "      <td>7419</td>\n",
              "    </tr>\n",
              "    <tr>\n",
              "      <th>2</th>\n",
              "      <td>OffersScreenAppear</td>\n",
              "      <td>4593</td>\n",
              "    </tr>\n",
              "    <tr>\n",
              "      <th>0</th>\n",
              "      <td>CartScreenAppear</td>\n",
              "      <td>3734</td>\n",
              "    </tr>\n",
              "    <tr>\n",
              "      <th>3</th>\n",
              "      <td>PaymentScreenSuccessful</td>\n",
              "      <td>3539</td>\n",
              "    </tr>\n",
              "    <tr>\n",
              "      <th>4</th>\n",
              "      <td>Tutorial</td>\n",
              "      <td>840</td>\n",
              "    </tr>\n",
              "  </tbody>\n",
              "</table>\n",
              "</div>\n",
              "    <div class=\"colab-df-buttons\">\n",
              "\n",
              "  <div class=\"colab-df-container\">\n",
              "    <button class=\"colab-df-convert\" onclick=\"convertToInteractive('df-d7502bb3-9409-46d9-aa2a-40a333269999')\"\n",
              "            title=\"Convert this dataframe to an interactive table.\"\n",
              "            style=\"display:none;\">\n",
              "\n",
              "  <svg xmlns=\"http://www.w3.org/2000/svg\" height=\"24px\" viewBox=\"0 -960 960 960\">\n",
              "    <path d=\"M120-120v-720h720v720H120Zm60-500h600v-160H180v160Zm220 220h160v-160H400v160Zm0 220h160v-160H400v160ZM180-400h160v-160H180v160Zm440 0h160v-160H620v160ZM180-180h160v-160H180v160Zm440 0h160v-160H620v160Z\"/>\n",
              "  </svg>\n",
              "    </button>\n",
              "\n",
              "  <style>\n",
              "    .colab-df-container {\n",
              "      display:flex;\n",
              "      gap: 12px;\n",
              "    }\n",
              "\n",
              "    .colab-df-convert {\n",
              "      background-color: #E8F0FE;\n",
              "      border: none;\n",
              "      border-radius: 50%;\n",
              "      cursor: pointer;\n",
              "      display: none;\n",
              "      fill: #1967D2;\n",
              "      height: 32px;\n",
              "      padding: 0 0 0 0;\n",
              "      width: 32px;\n",
              "    }\n",
              "\n",
              "    .colab-df-convert:hover {\n",
              "      background-color: #E2EBFA;\n",
              "      box-shadow: 0px 1px 2px rgba(60, 64, 67, 0.3), 0px 1px 3px 1px rgba(60, 64, 67, 0.15);\n",
              "      fill: #174EA6;\n",
              "    }\n",
              "\n",
              "    .colab-df-buttons div {\n",
              "      margin-bottom: 4px;\n",
              "    }\n",
              "\n",
              "    [theme=dark] .colab-df-convert {\n",
              "      background-color: #3B4455;\n",
              "      fill: #D2E3FC;\n",
              "    }\n",
              "\n",
              "    [theme=dark] .colab-df-convert:hover {\n",
              "      background-color: #434B5C;\n",
              "      box-shadow: 0px 1px 3px 1px rgba(0, 0, 0, 0.15);\n",
              "      filter: drop-shadow(0px 1px 2px rgba(0, 0, 0, 0.3));\n",
              "      fill: #FFFFFF;\n",
              "    }\n",
              "  </style>\n",
              "\n",
              "    <script>\n",
              "      const buttonEl =\n",
              "        document.querySelector('#df-d7502bb3-9409-46d9-aa2a-40a333269999 button.colab-df-convert');\n",
              "      buttonEl.style.display =\n",
              "        google.colab.kernel.accessAllowed ? 'block' : 'none';\n",
              "\n",
              "      async function convertToInteractive(key) {\n",
              "        const element = document.querySelector('#df-d7502bb3-9409-46d9-aa2a-40a333269999');\n",
              "        const dataTable =\n",
              "          await google.colab.kernel.invokeFunction('convertToInteractive',\n",
              "                                                    [key], {});\n",
              "        if (!dataTable) return;\n",
              "\n",
              "        const docLinkHtml = 'Like what you see? Visit the ' +\n",
              "          '<a target=\"_blank\" href=https://colab.research.google.com/notebooks/data_table.ipynb>data table notebook</a>'\n",
              "          + ' to learn more about interactive tables.';\n",
              "        element.innerHTML = '';\n",
              "        dataTable['output_type'] = 'display_data';\n",
              "        await google.colab.output.renderOutput(dataTable, element);\n",
              "        const docLink = document.createElement('div');\n",
              "        docLink.innerHTML = docLinkHtml;\n",
              "        element.appendChild(docLink);\n",
              "      }\n",
              "    </script>\n",
              "  </div>\n",
              "\n",
              "\n",
              "<div id=\"df-04c75fb8-acc0-41fc-af14-9fb8ec26c091\">\n",
              "  <button class=\"colab-df-quickchart\" onclick=\"quickchart('df-04c75fb8-acc0-41fc-af14-9fb8ec26c091')\"\n",
              "            title=\"Suggest charts\"\n",
              "            style=\"display:none;\">\n",
              "\n",
              "<svg xmlns=\"http://www.w3.org/2000/svg\" height=\"24px\"viewBox=\"0 0 24 24\"\n",
              "     width=\"24px\">\n",
              "    <g>\n",
              "        <path d=\"M19 3H5c-1.1 0-2 .9-2 2v14c0 1.1.9 2 2 2h14c1.1 0 2-.9 2-2V5c0-1.1-.9-2-2-2zM9 17H7v-7h2v7zm4 0h-2V7h2v10zm4 0h-2v-4h2v4z\"/>\n",
              "    </g>\n",
              "</svg>\n",
              "  </button>\n",
              "\n",
              "<style>\n",
              "  .colab-df-quickchart {\n",
              "      --bg-color: #E8F0FE;\n",
              "      --fill-color: #1967D2;\n",
              "      --hover-bg-color: #E2EBFA;\n",
              "      --hover-fill-color: #174EA6;\n",
              "      --disabled-fill-color: #AAA;\n",
              "      --disabled-bg-color: #DDD;\n",
              "  }\n",
              "\n",
              "  [theme=dark] .colab-df-quickchart {\n",
              "      --bg-color: #3B4455;\n",
              "      --fill-color: #D2E3FC;\n",
              "      --hover-bg-color: #434B5C;\n",
              "      --hover-fill-color: #FFFFFF;\n",
              "      --disabled-bg-color: #3B4455;\n",
              "      --disabled-fill-color: #666;\n",
              "  }\n",
              "\n",
              "  .colab-df-quickchart {\n",
              "    background-color: var(--bg-color);\n",
              "    border: none;\n",
              "    border-radius: 50%;\n",
              "    cursor: pointer;\n",
              "    display: none;\n",
              "    fill: var(--fill-color);\n",
              "    height: 32px;\n",
              "    padding: 0;\n",
              "    width: 32px;\n",
              "  }\n",
              "\n",
              "  .colab-df-quickchart:hover {\n",
              "    background-color: var(--hover-bg-color);\n",
              "    box-shadow: 0 1px 2px rgba(60, 64, 67, 0.3), 0 1px 3px 1px rgba(60, 64, 67, 0.15);\n",
              "    fill: var(--button-hover-fill-color);\n",
              "  }\n",
              "\n",
              "  .colab-df-quickchart-complete:disabled,\n",
              "  .colab-df-quickchart-complete:disabled:hover {\n",
              "    background-color: var(--disabled-bg-color);\n",
              "    fill: var(--disabled-fill-color);\n",
              "    box-shadow: none;\n",
              "  }\n",
              "\n",
              "  .colab-df-spinner {\n",
              "    border: 2px solid var(--fill-color);\n",
              "    border-color: transparent;\n",
              "    border-bottom-color: var(--fill-color);\n",
              "    animation:\n",
              "      spin 1s steps(1) infinite;\n",
              "  }\n",
              "\n",
              "  @keyframes spin {\n",
              "    0% {\n",
              "      border-color: transparent;\n",
              "      border-bottom-color: var(--fill-color);\n",
              "      border-left-color: var(--fill-color);\n",
              "    }\n",
              "    20% {\n",
              "      border-color: transparent;\n",
              "      border-left-color: var(--fill-color);\n",
              "      border-top-color: var(--fill-color);\n",
              "    }\n",
              "    30% {\n",
              "      border-color: transparent;\n",
              "      border-left-color: var(--fill-color);\n",
              "      border-top-color: var(--fill-color);\n",
              "      border-right-color: var(--fill-color);\n",
              "    }\n",
              "    40% {\n",
              "      border-color: transparent;\n",
              "      border-right-color: var(--fill-color);\n",
              "      border-top-color: var(--fill-color);\n",
              "    }\n",
              "    60% {\n",
              "      border-color: transparent;\n",
              "      border-right-color: var(--fill-color);\n",
              "    }\n",
              "    80% {\n",
              "      border-color: transparent;\n",
              "      border-right-color: var(--fill-color);\n",
              "      border-bottom-color: var(--fill-color);\n",
              "    }\n",
              "    90% {\n",
              "      border-color: transparent;\n",
              "      border-bottom-color: var(--fill-color);\n",
              "    }\n",
              "  }\n",
              "</style>\n",
              "\n",
              "  <script>\n",
              "    async function quickchart(key) {\n",
              "      const quickchartButtonEl =\n",
              "        document.querySelector('#' + key + ' button');\n",
              "      quickchartButtonEl.disabled = true;  // To prevent multiple clicks.\n",
              "      quickchartButtonEl.classList.add('colab-df-spinner');\n",
              "      try {\n",
              "        const charts = await google.colab.kernel.invokeFunction(\n",
              "            'suggestCharts', [key], {});\n",
              "      } catch (error) {\n",
              "        console.error('Error during call to suggestCharts:', error);\n",
              "      }\n",
              "      quickchartButtonEl.classList.remove('colab-df-spinner');\n",
              "      quickchartButtonEl.classList.add('colab-df-quickchart-complete');\n",
              "    }\n",
              "    (() => {\n",
              "      let quickchartButtonEl =\n",
              "        document.querySelector('#df-04c75fb8-acc0-41fc-af14-9fb8ec26c091 button');\n",
              "      quickchartButtonEl.style.display =\n",
              "        google.colab.kernel.accessAllowed ? 'block' : 'none';\n",
              "    })();\n",
              "  </script>\n",
              "</div>\n",
              "    </div>\n",
              "  </div>\n"
            ],
            "application/vnd.google.colaboratory.intrinsic+json": {
              "type": "dataframe",
              "summary": "{\n  \"name\": \"df_filtered\",\n  \"rows\": 5,\n  \"fields\": [\n    {\n      \"column\": \"event_name\",\n      \"properties\": {\n        \"dtype\": \"string\",\n        \"num_unique_values\": 5,\n        \"samples\": [\n          \"OffersScreenAppear\",\n          \"Tutorial\",\n          \"CartScreenAppear\"\n        ],\n        \"semantic_type\": \"\",\n        \"description\": \"\"\n      }\n    },\n    {\n      \"column\": \"user_id\",\n      \"properties\": {\n        \"dtype\": \"number\",\n        \"std\": 2361,\n        \"min\": 840,\n        \"max\": 7419,\n        \"num_unique_values\": 5,\n        \"samples\": [\n          4593,\n          840,\n          3734\n        ],\n        \"semantic_type\": \"\",\n        \"description\": \"\"\n      }\n    }\n  ]\n}"
            }
          },
          "metadata": {},
          "execution_count": 37
        }
      ],
      "source": [
        "# группируем по событиям и считаем уникальных пользователей\n",
        "df_filtered.groupby('event_name', as_index=False).agg({'user_id':'nunique'}).sort_values(by='user_id', ascending=False)"
      ]
    },
    {
      "cell_type": "markdown",
      "metadata": {
        "id": "_S57HcQGye4O"
      },
      "source": [
        "- Открыт главный экран - 7419 пользователей\n",
        "- Открыт экран с заказом - 4593 пользователя\n",
        "- Открыт экран корзины - 3734 пользователя\n",
        "- Открыт экран успешной оплаты - 3539 пользователей\n",
        "- Открыт экран подсказки - 840 пользователей"
      ]
    },
    {
      "cell_type": "markdown",
      "metadata": {
        "id": "DTL43d89ye4P"
      },
      "source": [
        "**Посчитаем долю пользователей, которые хоть раз совершали событие.**"
      ]
    },
    {
      "cell_type": "code",
      "execution_count": null,
      "metadata": {
        "colab": {
          "base_uri": "https://localhost:8080/",
          "height": 206
        },
        "id": "f4oPWtN4ye4P",
        "outputId": "af369bc3-6e75-4748-da16-054e96cfeb38"
      },
      "outputs": [
        {
          "output_type": "execute_result",
          "data": {
            "text/plain": [
              "                event_name  user_id  share_total\n",
              "0         MainScreenAppear     7419         0.98\n",
              "1       OffersScreenAppear     4593         0.61\n",
              "2         CartScreenAppear     3734         0.50\n",
              "3  PaymentScreenSuccessful     3539         0.47\n",
              "4                 Tutorial      840         0.11"
            ],
            "text/html": [
              "\n",
              "  <div id=\"df-452e42dd-7b2a-4d70-ab9f-84fe2176c6b2\" class=\"colab-df-container\">\n",
              "    <div>\n",
              "<style scoped>\n",
              "    .dataframe tbody tr th:only-of-type {\n",
              "        vertical-align: middle;\n",
              "    }\n",
              "\n",
              "    .dataframe tbody tr th {\n",
              "        vertical-align: top;\n",
              "    }\n",
              "\n",
              "    .dataframe thead th {\n",
              "        text-align: right;\n",
              "    }\n",
              "</style>\n",
              "<table border=\"1\" class=\"dataframe\">\n",
              "  <thead>\n",
              "    <tr style=\"text-align: right;\">\n",
              "      <th></th>\n",
              "      <th>event_name</th>\n",
              "      <th>user_id</th>\n",
              "      <th>share_total</th>\n",
              "    </tr>\n",
              "  </thead>\n",
              "  <tbody>\n",
              "    <tr>\n",
              "      <th>0</th>\n",
              "      <td>MainScreenAppear</td>\n",
              "      <td>7419</td>\n",
              "      <td>0.98</td>\n",
              "    </tr>\n",
              "    <tr>\n",
              "      <th>1</th>\n",
              "      <td>OffersScreenAppear</td>\n",
              "      <td>4593</td>\n",
              "      <td>0.61</td>\n",
              "    </tr>\n",
              "    <tr>\n",
              "      <th>2</th>\n",
              "      <td>CartScreenAppear</td>\n",
              "      <td>3734</td>\n",
              "      <td>0.50</td>\n",
              "    </tr>\n",
              "    <tr>\n",
              "      <th>3</th>\n",
              "      <td>PaymentScreenSuccessful</td>\n",
              "      <td>3539</td>\n",
              "      <td>0.47</td>\n",
              "    </tr>\n",
              "    <tr>\n",
              "      <th>4</th>\n",
              "      <td>Tutorial</td>\n",
              "      <td>840</td>\n",
              "      <td>0.11</td>\n",
              "    </tr>\n",
              "  </tbody>\n",
              "</table>\n",
              "</div>\n",
              "    <div class=\"colab-df-buttons\">\n",
              "\n",
              "  <div class=\"colab-df-container\">\n",
              "    <button class=\"colab-df-convert\" onclick=\"convertToInteractive('df-452e42dd-7b2a-4d70-ab9f-84fe2176c6b2')\"\n",
              "            title=\"Convert this dataframe to an interactive table.\"\n",
              "            style=\"display:none;\">\n",
              "\n",
              "  <svg xmlns=\"http://www.w3.org/2000/svg\" height=\"24px\" viewBox=\"0 -960 960 960\">\n",
              "    <path d=\"M120-120v-720h720v720H120Zm60-500h600v-160H180v160Zm220 220h160v-160H400v160Zm0 220h160v-160H400v160ZM180-400h160v-160H180v160Zm440 0h160v-160H620v160ZM180-180h160v-160H180v160Zm440 0h160v-160H620v160Z\"/>\n",
              "  </svg>\n",
              "    </button>\n",
              "\n",
              "  <style>\n",
              "    .colab-df-container {\n",
              "      display:flex;\n",
              "      gap: 12px;\n",
              "    }\n",
              "\n",
              "    .colab-df-convert {\n",
              "      background-color: #E8F0FE;\n",
              "      border: none;\n",
              "      border-radius: 50%;\n",
              "      cursor: pointer;\n",
              "      display: none;\n",
              "      fill: #1967D2;\n",
              "      height: 32px;\n",
              "      padding: 0 0 0 0;\n",
              "      width: 32px;\n",
              "    }\n",
              "\n",
              "    .colab-df-convert:hover {\n",
              "      background-color: #E2EBFA;\n",
              "      box-shadow: 0px 1px 2px rgba(60, 64, 67, 0.3), 0px 1px 3px 1px rgba(60, 64, 67, 0.15);\n",
              "      fill: #174EA6;\n",
              "    }\n",
              "\n",
              "    .colab-df-buttons div {\n",
              "      margin-bottom: 4px;\n",
              "    }\n",
              "\n",
              "    [theme=dark] .colab-df-convert {\n",
              "      background-color: #3B4455;\n",
              "      fill: #D2E3FC;\n",
              "    }\n",
              "\n",
              "    [theme=dark] .colab-df-convert:hover {\n",
              "      background-color: #434B5C;\n",
              "      box-shadow: 0px 1px 3px 1px rgba(0, 0, 0, 0.15);\n",
              "      filter: drop-shadow(0px 1px 2px rgba(0, 0, 0, 0.3));\n",
              "      fill: #FFFFFF;\n",
              "    }\n",
              "  </style>\n",
              "\n",
              "    <script>\n",
              "      const buttonEl =\n",
              "        document.querySelector('#df-452e42dd-7b2a-4d70-ab9f-84fe2176c6b2 button.colab-df-convert');\n",
              "      buttonEl.style.display =\n",
              "        google.colab.kernel.accessAllowed ? 'block' : 'none';\n",
              "\n",
              "      async function convertToInteractive(key) {\n",
              "        const element = document.querySelector('#df-452e42dd-7b2a-4d70-ab9f-84fe2176c6b2');\n",
              "        const dataTable =\n",
              "          await google.colab.kernel.invokeFunction('convertToInteractive',\n",
              "                                                    [key], {});\n",
              "        if (!dataTable) return;\n",
              "\n",
              "        const docLinkHtml = 'Like what you see? Visit the ' +\n",
              "          '<a target=\"_blank\" href=https://colab.research.google.com/notebooks/data_table.ipynb>data table notebook</a>'\n",
              "          + ' to learn more about interactive tables.';\n",
              "        element.innerHTML = '';\n",
              "        dataTable['output_type'] = 'display_data';\n",
              "        await google.colab.output.renderOutput(dataTable, element);\n",
              "        const docLink = document.createElement('div');\n",
              "        docLink.innerHTML = docLinkHtml;\n",
              "        element.appendChild(docLink);\n",
              "      }\n",
              "    </script>\n",
              "  </div>\n",
              "\n",
              "\n",
              "<div id=\"df-7ef703e5-7931-4bea-8f39-51d0d1fe40db\">\n",
              "  <button class=\"colab-df-quickchart\" onclick=\"quickchart('df-7ef703e5-7931-4bea-8f39-51d0d1fe40db')\"\n",
              "            title=\"Suggest charts\"\n",
              "            style=\"display:none;\">\n",
              "\n",
              "<svg xmlns=\"http://www.w3.org/2000/svg\" height=\"24px\"viewBox=\"0 0 24 24\"\n",
              "     width=\"24px\">\n",
              "    <g>\n",
              "        <path d=\"M19 3H5c-1.1 0-2 .9-2 2v14c0 1.1.9 2 2 2h14c1.1 0 2-.9 2-2V5c0-1.1-.9-2-2-2zM9 17H7v-7h2v7zm4 0h-2V7h2v10zm4 0h-2v-4h2v4z\"/>\n",
              "    </g>\n",
              "</svg>\n",
              "  </button>\n",
              "\n",
              "<style>\n",
              "  .colab-df-quickchart {\n",
              "      --bg-color: #E8F0FE;\n",
              "      --fill-color: #1967D2;\n",
              "      --hover-bg-color: #E2EBFA;\n",
              "      --hover-fill-color: #174EA6;\n",
              "      --disabled-fill-color: #AAA;\n",
              "      --disabled-bg-color: #DDD;\n",
              "  }\n",
              "\n",
              "  [theme=dark] .colab-df-quickchart {\n",
              "      --bg-color: #3B4455;\n",
              "      --fill-color: #D2E3FC;\n",
              "      --hover-bg-color: #434B5C;\n",
              "      --hover-fill-color: #FFFFFF;\n",
              "      --disabled-bg-color: #3B4455;\n",
              "      --disabled-fill-color: #666;\n",
              "  }\n",
              "\n",
              "  .colab-df-quickchart {\n",
              "    background-color: var(--bg-color);\n",
              "    border: none;\n",
              "    border-radius: 50%;\n",
              "    cursor: pointer;\n",
              "    display: none;\n",
              "    fill: var(--fill-color);\n",
              "    height: 32px;\n",
              "    padding: 0;\n",
              "    width: 32px;\n",
              "  }\n",
              "\n",
              "  .colab-df-quickchart:hover {\n",
              "    background-color: var(--hover-bg-color);\n",
              "    box-shadow: 0 1px 2px rgba(60, 64, 67, 0.3), 0 1px 3px 1px rgba(60, 64, 67, 0.15);\n",
              "    fill: var(--button-hover-fill-color);\n",
              "  }\n",
              "\n",
              "  .colab-df-quickchart-complete:disabled,\n",
              "  .colab-df-quickchart-complete:disabled:hover {\n",
              "    background-color: var(--disabled-bg-color);\n",
              "    fill: var(--disabled-fill-color);\n",
              "    box-shadow: none;\n",
              "  }\n",
              "\n",
              "  .colab-df-spinner {\n",
              "    border: 2px solid var(--fill-color);\n",
              "    border-color: transparent;\n",
              "    border-bottom-color: var(--fill-color);\n",
              "    animation:\n",
              "      spin 1s steps(1) infinite;\n",
              "  }\n",
              "\n",
              "  @keyframes spin {\n",
              "    0% {\n",
              "      border-color: transparent;\n",
              "      border-bottom-color: var(--fill-color);\n",
              "      border-left-color: var(--fill-color);\n",
              "    }\n",
              "    20% {\n",
              "      border-color: transparent;\n",
              "      border-left-color: var(--fill-color);\n",
              "      border-top-color: var(--fill-color);\n",
              "    }\n",
              "    30% {\n",
              "      border-color: transparent;\n",
              "      border-left-color: var(--fill-color);\n",
              "      border-top-color: var(--fill-color);\n",
              "      border-right-color: var(--fill-color);\n",
              "    }\n",
              "    40% {\n",
              "      border-color: transparent;\n",
              "      border-right-color: var(--fill-color);\n",
              "      border-top-color: var(--fill-color);\n",
              "    }\n",
              "    60% {\n",
              "      border-color: transparent;\n",
              "      border-right-color: var(--fill-color);\n",
              "    }\n",
              "    80% {\n",
              "      border-color: transparent;\n",
              "      border-right-color: var(--fill-color);\n",
              "      border-bottom-color: var(--fill-color);\n",
              "    }\n",
              "    90% {\n",
              "      border-color: transparent;\n",
              "      border-bottom-color: var(--fill-color);\n",
              "    }\n",
              "  }\n",
              "</style>\n",
              "\n",
              "  <script>\n",
              "    async function quickchart(key) {\n",
              "      const quickchartButtonEl =\n",
              "        document.querySelector('#' + key + ' button');\n",
              "      quickchartButtonEl.disabled = true;  // To prevent multiple clicks.\n",
              "      quickchartButtonEl.classList.add('colab-df-spinner');\n",
              "      try {\n",
              "        const charts = await google.colab.kernel.invokeFunction(\n",
              "            'suggestCharts', [key], {});\n",
              "      } catch (error) {\n",
              "        console.error('Error during call to suggestCharts:', error);\n",
              "      }\n",
              "      quickchartButtonEl.classList.remove('colab-df-spinner');\n",
              "      quickchartButtonEl.classList.add('colab-df-quickchart-complete');\n",
              "    }\n",
              "    (() => {\n",
              "      let quickchartButtonEl =\n",
              "        document.querySelector('#df-7ef703e5-7931-4bea-8f39-51d0d1fe40db button');\n",
              "      quickchartButtonEl.style.display =\n",
              "        google.colab.kernel.accessAllowed ? 'block' : 'none';\n",
              "    })();\n",
              "  </script>\n",
              "</div>\n",
              "    </div>\n",
              "  </div>\n"
            ],
            "application/vnd.google.colaboratory.intrinsic+json": {
              "type": "dataframe",
              "variable_name": "result",
              "summary": "{\n  \"name\": \"result\",\n  \"rows\": 5,\n  \"fields\": [\n    {\n      \"column\": \"event_name\",\n      \"properties\": {\n        \"dtype\": \"string\",\n        \"num_unique_values\": 5,\n        \"samples\": [\n          \"OffersScreenAppear\",\n          \"Tutorial\",\n          \"CartScreenAppear\"\n        ],\n        \"semantic_type\": \"\",\n        \"description\": \"\"\n      }\n    },\n    {\n      \"column\": \"user_id\",\n      \"properties\": {\n        \"dtype\": \"number\",\n        \"std\": 2361,\n        \"min\": 840,\n        \"max\": 7419,\n        \"num_unique_values\": 5,\n        \"samples\": [\n          4593,\n          840,\n          3734\n        ],\n        \"semantic_type\": \"\",\n        \"description\": \"\"\n      }\n    },\n    {\n      \"column\": \"share_total\",\n      \"properties\": {\n        \"dtype\": \"number\",\n        \"std\": 0.31213779008636555,\n        \"min\": 0.11,\n        \"max\": 0.98,\n        \"num_unique_values\": 5,\n        \"samples\": [\n          0.61,\n          0.11,\n          0.5\n        ],\n        \"semantic_type\": \"\",\n        \"description\": \"\"\n      }\n    }\n  ]\n}"
            }
          },
          "metadata": {},
          "execution_count": 38
        }
      ],
      "source": [
        "# к предудущей группировке добавим отношение с общим кол-вом пользователей\n",
        "result = df_filtered.groupby('event_name').agg({'user_id':'nunique'}).sort_values(by='user_id', ascending=False).reset_index()\n",
        "result['share_total'] = (result['user_id']/df_filtered['user_id'].nunique()).round(2)\n",
        "result"
      ]
    },
    {
      "cell_type": "markdown",
      "metadata": {
        "id": "N2ykg8Y8ye4P"
      },
      "source": [
        "- Открыт главный экран - 98 % пользователей\n",
        "- Открыт экран с заказом - 61 % пользователя\n",
        "- Открыт экран корзины - 50 % пользователя\n",
        "- Открыт экран успешной оплаты - 47 % пользователей\n",
        "- Открыт экран подсказки - 11 % пользователей"
      ]
    },
    {
      "cell_type": "markdown",
      "metadata": {
        "id": "2VWoNs68ye4P"
      },
      "source": [
        "**В каком порядке происходят события. Все ли они выстраиваются в последовательную цепочку?**"
      ]
    },
    {
      "cell_type": "markdown",
      "metadata": {
        "id": "kTgbJ3Ehye4P"
      },
      "source": [
        "Я думаю что события распологаются в том же порядке в котором мы наблюдаем их в ячейке выше, кроме туториала. Первым пользователь видит главную страницу, следом страницу заказа, после страницу корзины, далее страницу успешной оплаты. Вероятно есть путь в котором пользователь переходит на туториал, не разобравшись с каким-то из этапов. То есть переход в туториал может быть на любом этапе, включая последний (если пользователю не понятно как происходит доставка и он хочет почитать об этом в туториале)."
      ]
    },
    {
      "cell_type": "markdown",
      "metadata": {
        "id": "alw77KuMye4Q"
      },
      "source": [
        "**Посчитаем по воронке событий, какая доля пользователей проходит на следующий шаг воронки (от числа пользователей на предыдущем). То есть для последовательности событий A → B → C посчитаем отношение числа пользователей с событием B к количеству пользователей с событием A, а также отношение числа пользователей с событием C к количеству пользователей с событием B**"
      ]
    },
    {
      "cell_type": "code",
      "execution_count": null,
      "metadata": {
        "colab": {
          "base_uri": "https://localhost:8080/",
          "height": 175
        },
        "id": "hlAzD-d7ye4Q",
        "outputId": "4bcd2822-a8a1-4a02-9e47-2ae9e1009724"
      },
      "outputs": [
        {
          "output_type": "execute_result",
          "data": {
            "text/plain": [
              "                event_name  user_id  share_total  share_of_users\n",
              "0         MainScreenAppear     7419         0.98            1.00\n",
              "1       OffersScreenAppear     4593         0.61            0.62\n",
              "2         CartScreenAppear     3734         0.50            0.81\n",
              "3  PaymentScreenSuccessful     3539         0.47            0.95"
            ],
            "text/html": [
              "\n",
              "  <div id=\"df-ab780231-0319-499c-b23e-c877ab5c899e\" class=\"colab-df-container\">\n",
              "    <div>\n",
              "<style scoped>\n",
              "    .dataframe tbody tr th:only-of-type {\n",
              "        vertical-align: middle;\n",
              "    }\n",
              "\n",
              "    .dataframe tbody tr th {\n",
              "        vertical-align: top;\n",
              "    }\n",
              "\n",
              "    .dataframe thead th {\n",
              "        text-align: right;\n",
              "    }\n",
              "</style>\n",
              "<table border=\"1\" class=\"dataframe\">\n",
              "  <thead>\n",
              "    <tr style=\"text-align: right;\">\n",
              "      <th></th>\n",
              "      <th>event_name</th>\n",
              "      <th>user_id</th>\n",
              "      <th>share_total</th>\n",
              "      <th>share_of_users</th>\n",
              "    </tr>\n",
              "  </thead>\n",
              "  <tbody>\n",
              "    <tr>\n",
              "      <th>0</th>\n",
              "      <td>MainScreenAppear</td>\n",
              "      <td>7419</td>\n",
              "      <td>0.98</td>\n",
              "      <td>1.00</td>\n",
              "    </tr>\n",
              "    <tr>\n",
              "      <th>1</th>\n",
              "      <td>OffersScreenAppear</td>\n",
              "      <td>4593</td>\n",
              "      <td>0.61</td>\n",
              "      <td>0.62</td>\n",
              "    </tr>\n",
              "    <tr>\n",
              "      <th>2</th>\n",
              "      <td>CartScreenAppear</td>\n",
              "      <td>3734</td>\n",
              "      <td>0.50</td>\n",
              "      <td>0.81</td>\n",
              "    </tr>\n",
              "    <tr>\n",
              "      <th>3</th>\n",
              "      <td>PaymentScreenSuccessful</td>\n",
              "      <td>3539</td>\n",
              "      <td>0.47</td>\n",
              "      <td>0.95</td>\n",
              "    </tr>\n",
              "  </tbody>\n",
              "</table>\n",
              "</div>\n",
              "    <div class=\"colab-df-buttons\">\n",
              "\n",
              "  <div class=\"colab-df-container\">\n",
              "    <button class=\"colab-df-convert\" onclick=\"convertToInteractive('df-ab780231-0319-499c-b23e-c877ab5c899e')\"\n",
              "            title=\"Convert this dataframe to an interactive table.\"\n",
              "            style=\"display:none;\">\n",
              "\n",
              "  <svg xmlns=\"http://www.w3.org/2000/svg\" height=\"24px\" viewBox=\"0 -960 960 960\">\n",
              "    <path d=\"M120-120v-720h720v720H120Zm60-500h600v-160H180v160Zm220 220h160v-160H400v160Zm0 220h160v-160H400v160ZM180-400h160v-160H180v160Zm440 0h160v-160H620v160ZM180-180h160v-160H180v160Zm440 0h160v-160H620v160Z\"/>\n",
              "  </svg>\n",
              "    </button>\n",
              "\n",
              "  <style>\n",
              "    .colab-df-container {\n",
              "      display:flex;\n",
              "      gap: 12px;\n",
              "    }\n",
              "\n",
              "    .colab-df-convert {\n",
              "      background-color: #E8F0FE;\n",
              "      border: none;\n",
              "      border-radius: 50%;\n",
              "      cursor: pointer;\n",
              "      display: none;\n",
              "      fill: #1967D2;\n",
              "      height: 32px;\n",
              "      padding: 0 0 0 0;\n",
              "      width: 32px;\n",
              "    }\n",
              "\n",
              "    .colab-df-convert:hover {\n",
              "      background-color: #E2EBFA;\n",
              "      box-shadow: 0px 1px 2px rgba(60, 64, 67, 0.3), 0px 1px 3px 1px rgba(60, 64, 67, 0.15);\n",
              "      fill: #174EA6;\n",
              "    }\n",
              "\n",
              "    .colab-df-buttons div {\n",
              "      margin-bottom: 4px;\n",
              "    }\n",
              "\n",
              "    [theme=dark] .colab-df-convert {\n",
              "      background-color: #3B4455;\n",
              "      fill: #D2E3FC;\n",
              "    }\n",
              "\n",
              "    [theme=dark] .colab-df-convert:hover {\n",
              "      background-color: #434B5C;\n",
              "      box-shadow: 0px 1px 3px 1px rgba(0, 0, 0, 0.15);\n",
              "      filter: drop-shadow(0px 1px 2px rgba(0, 0, 0, 0.3));\n",
              "      fill: #FFFFFF;\n",
              "    }\n",
              "  </style>\n",
              "\n",
              "    <script>\n",
              "      const buttonEl =\n",
              "        document.querySelector('#df-ab780231-0319-499c-b23e-c877ab5c899e button.colab-df-convert');\n",
              "      buttonEl.style.display =\n",
              "        google.colab.kernel.accessAllowed ? 'block' : 'none';\n",
              "\n",
              "      async function convertToInteractive(key) {\n",
              "        const element = document.querySelector('#df-ab780231-0319-499c-b23e-c877ab5c899e');\n",
              "        const dataTable =\n",
              "          await google.colab.kernel.invokeFunction('convertToInteractive',\n",
              "                                                    [key], {});\n",
              "        if (!dataTable) return;\n",
              "\n",
              "        const docLinkHtml = 'Like what you see? Visit the ' +\n",
              "          '<a target=\"_blank\" href=https://colab.research.google.com/notebooks/data_table.ipynb>data table notebook</a>'\n",
              "          + ' to learn more about interactive tables.';\n",
              "        element.innerHTML = '';\n",
              "        dataTable['output_type'] = 'display_data';\n",
              "        await google.colab.output.renderOutput(dataTable, element);\n",
              "        const docLink = document.createElement('div');\n",
              "        docLink.innerHTML = docLinkHtml;\n",
              "        element.appendChild(docLink);\n",
              "      }\n",
              "    </script>\n",
              "  </div>\n",
              "\n",
              "\n",
              "<div id=\"df-7fabed72-a57e-47d7-bfb6-9b0dafd4cb08\">\n",
              "  <button class=\"colab-df-quickchart\" onclick=\"quickchart('df-7fabed72-a57e-47d7-bfb6-9b0dafd4cb08')\"\n",
              "            title=\"Suggest charts\"\n",
              "            style=\"display:none;\">\n",
              "\n",
              "<svg xmlns=\"http://www.w3.org/2000/svg\" height=\"24px\"viewBox=\"0 0 24 24\"\n",
              "     width=\"24px\">\n",
              "    <g>\n",
              "        <path d=\"M19 3H5c-1.1 0-2 .9-2 2v14c0 1.1.9 2 2 2h14c1.1 0 2-.9 2-2V5c0-1.1-.9-2-2-2zM9 17H7v-7h2v7zm4 0h-2V7h2v10zm4 0h-2v-4h2v4z\"/>\n",
              "    </g>\n",
              "</svg>\n",
              "  </button>\n",
              "\n",
              "<style>\n",
              "  .colab-df-quickchart {\n",
              "      --bg-color: #E8F0FE;\n",
              "      --fill-color: #1967D2;\n",
              "      --hover-bg-color: #E2EBFA;\n",
              "      --hover-fill-color: #174EA6;\n",
              "      --disabled-fill-color: #AAA;\n",
              "      --disabled-bg-color: #DDD;\n",
              "  }\n",
              "\n",
              "  [theme=dark] .colab-df-quickchart {\n",
              "      --bg-color: #3B4455;\n",
              "      --fill-color: #D2E3FC;\n",
              "      --hover-bg-color: #434B5C;\n",
              "      --hover-fill-color: #FFFFFF;\n",
              "      --disabled-bg-color: #3B4455;\n",
              "      --disabled-fill-color: #666;\n",
              "  }\n",
              "\n",
              "  .colab-df-quickchart {\n",
              "    background-color: var(--bg-color);\n",
              "    border: none;\n",
              "    border-radius: 50%;\n",
              "    cursor: pointer;\n",
              "    display: none;\n",
              "    fill: var(--fill-color);\n",
              "    height: 32px;\n",
              "    padding: 0;\n",
              "    width: 32px;\n",
              "  }\n",
              "\n",
              "  .colab-df-quickchart:hover {\n",
              "    background-color: var(--hover-bg-color);\n",
              "    box-shadow: 0 1px 2px rgba(60, 64, 67, 0.3), 0 1px 3px 1px rgba(60, 64, 67, 0.15);\n",
              "    fill: var(--button-hover-fill-color);\n",
              "  }\n",
              "\n",
              "  .colab-df-quickchart-complete:disabled,\n",
              "  .colab-df-quickchart-complete:disabled:hover {\n",
              "    background-color: var(--disabled-bg-color);\n",
              "    fill: var(--disabled-fill-color);\n",
              "    box-shadow: none;\n",
              "  }\n",
              "\n",
              "  .colab-df-spinner {\n",
              "    border: 2px solid var(--fill-color);\n",
              "    border-color: transparent;\n",
              "    border-bottom-color: var(--fill-color);\n",
              "    animation:\n",
              "      spin 1s steps(1) infinite;\n",
              "  }\n",
              "\n",
              "  @keyframes spin {\n",
              "    0% {\n",
              "      border-color: transparent;\n",
              "      border-bottom-color: var(--fill-color);\n",
              "      border-left-color: var(--fill-color);\n",
              "    }\n",
              "    20% {\n",
              "      border-color: transparent;\n",
              "      border-left-color: var(--fill-color);\n",
              "      border-top-color: var(--fill-color);\n",
              "    }\n",
              "    30% {\n",
              "      border-color: transparent;\n",
              "      border-left-color: var(--fill-color);\n",
              "      border-top-color: var(--fill-color);\n",
              "      border-right-color: var(--fill-color);\n",
              "    }\n",
              "    40% {\n",
              "      border-color: transparent;\n",
              "      border-right-color: var(--fill-color);\n",
              "      border-top-color: var(--fill-color);\n",
              "    }\n",
              "    60% {\n",
              "      border-color: transparent;\n",
              "      border-right-color: var(--fill-color);\n",
              "    }\n",
              "    80% {\n",
              "      border-color: transparent;\n",
              "      border-right-color: var(--fill-color);\n",
              "      border-bottom-color: var(--fill-color);\n",
              "    }\n",
              "    90% {\n",
              "      border-color: transparent;\n",
              "      border-bottom-color: var(--fill-color);\n",
              "    }\n",
              "  }\n",
              "</style>\n",
              "\n",
              "  <script>\n",
              "    async function quickchart(key) {\n",
              "      const quickchartButtonEl =\n",
              "        document.querySelector('#' + key + ' button');\n",
              "      quickchartButtonEl.disabled = true;  // To prevent multiple clicks.\n",
              "      quickchartButtonEl.classList.add('colab-df-spinner');\n",
              "      try {\n",
              "        const charts = await google.colab.kernel.invokeFunction(\n",
              "            'suggestCharts', [key], {});\n",
              "      } catch (error) {\n",
              "        console.error('Error during call to suggestCharts:', error);\n",
              "      }\n",
              "      quickchartButtonEl.classList.remove('colab-df-spinner');\n",
              "      quickchartButtonEl.classList.add('colab-df-quickchart-complete');\n",
              "    }\n",
              "    (() => {\n",
              "      let quickchartButtonEl =\n",
              "        document.querySelector('#df-7fabed72-a57e-47d7-bfb6-9b0dafd4cb08 button');\n",
              "      quickchartButtonEl.style.display =\n",
              "        google.colab.kernel.accessAllowed ? 'block' : 'none';\n",
              "    })();\n",
              "  </script>\n",
              "</div>\n",
              "    </div>\n",
              "  </div>\n"
            ],
            "application/vnd.google.colaboratory.intrinsic+json": {
              "type": "dataframe",
              "variable_name": "result",
              "summary": "{\n  \"name\": \"result\",\n  \"rows\": 4,\n  \"fields\": [\n    {\n      \"column\": \"event_name\",\n      \"properties\": {\n        \"dtype\": \"string\",\n        \"num_unique_values\": 4,\n        \"samples\": [\n          \"OffersScreenAppear\",\n          \"PaymentScreenSuccessful\",\n          \"MainScreenAppear\"\n        ],\n        \"semantic_type\": \"\",\n        \"description\": \"\"\n      }\n    },\n    {\n      \"column\": \"user_id\",\n      \"properties\": {\n        \"dtype\": \"number\",\n        \"std\": 1791,\n        \"min\": 3539,\n        \"max\": 7419,\n        \"num_unique_values\": 4,\n        \"samples\": [\n          4593,\n          3539,\n          7419\n        ],\n        \"semantic_type\": \"\",\n        \"description\": \"\"\n      }\n    },\n    {\n      \"column\": \"share_total\",\n      \"properties\": {\n        \"dtype\": \"number\",\n        \"std\": 0.2345207879911715,\n        \"min\": 0.47,\n        \"max\": 0.98,\n        \"num_unique_values\": 4,\n        \"samples\": [\n          0.61,\n          0.47,\n          0.98\n        ],\n        \"semantic_type\": \"\",\n        \"description\": \"\"\n      }\n    },\n    {\n      \"column\": \"share_of_users\",\n      \"properties\": {\n        \"dtype\": \"number\",\n        \"std\": 0.17019596548292987,\n        \"min\": 0.62,\n        \"max\": 1.0,\n        \"num_unique_values\": 4,\n        \"samples\": [\n          0.62,\n          0.95,\n          1.0\n        ],\n        \"semantic_type\": \"\",\n        \"description\": \"\"\n      }\n    }\n  ]\n}"
            }
          },
          "metadata": {},
          "execution_count": 39
        }
      ],
      "source": [
        "# убираем туториал\n",
        "result = result.loc[result['event_name'] != 'Tutorial'].copy()\n",
        "# сдвигаем количество пользователей на один вниз\n",
        "result['share_of_users'] = result['user_id'].shift(1)\n",
        "# делим количество пользователей предыдущего шага на следующий, Nan заполняем максимальным значением кол-ва пользователей\n",
        "result['share_of_users'] = result['user_id'].div(result['share_of_users'], fill_value=result['user_id'].max()).round(2)\n",
        "result"
      ]
    },
    {
      "cell_type": "code",
      "execution_count": null,
      "metadata": {
        "colab": {
          "base_uri": "https://localhost:8080/",
          "height": 542
        },
        "id": "-bHrW9Cbye4Q",
        "outputId": "781195bf-a12a-4cc9-e3c9-e2e6d24c1fdc"
      },
      "outputs": [
        {
          "output_type": "display_data",
          "data": {
            "text/html": [
              "<html>\n",
              "<head><meta charset=\"utf-8\" /></head>\n",
              "<body>\n",
              "    <div>            <script src=\"https://cdnjs.cloudflare.com/ajax/libs/mathjax/2.7.5/MathJax.js?config=TeX-AMS-MML_SVG\"></script><script type=\"text/javascript\">if (window.MathJax && window.MathJax.Hub && window.MathJax.Hub.Config) {window.MathJax.Hub.Config({SVG: {font: \"STIX-Web\"}});}</script>                <script type=\"text/javascript\">window.PlotlyConfig = {MathJaxConfig: 'local'};</script>\n",
              "        <script charset=\"utf-8\" src=\"https://cdn.plot.ly/plotly-2.24.1.min.js\"></script>                <div id=\"8df72d89-de49-43ac-b98b-5b834ea56ec6\" class=\"plotly-graph-div\" style=\"height:525px; width:100%;\"></div>            <script type=\"text/javascript\">                                    window.PLOTLYENV=window.PLOTLYENV || {};                                    if (document.getElementById(\"8df72d89-de49-43ac-b98b-5b834ea56ec6\")) {                    Plotly.newPlot(                        \"8df72d89-de49-43ac-b98b-5b834ea56ec6\",                        [{\"connector\":{\"line\":{\"color\":\"royalblue\",\"dash\":\"dot\",\"width\":3}},\"marker\":{\"color\":[\"deepskyblue\",\"lightsalmon\",\"tan\",\"teal\",\"silver\"],\"line\":{\"color\":[\"wheat\",\"wheat\",\"blue\",\"wheat\",\"wheat\"],\"width\":[4,2,2,3,1,1]}},\"opacity\":0.65,\"textinfo\":\"value+percent initial\",\"textposition\":\"inside\",\"x\":[1.0,0.62,0.81,0.95],\"y\":[\"MainScreenAppear\",\"OffersScreenAppear\",\"CartScreenAppear\",\"PaymentScreenSuccessful\"],\"type\":\"funnel\"}],                        {\"template\":{\"data\":{\"histogram2dcontour\":[{\"type\":\"histogram2dcontour\",\"colorbar\":{\"outlinewidth\":0,\"ticks\":\"\"},\"colorscale\":[[0.0,\"#0d0887\"],[0.1111111111111111,\"#46039f\"],[0.2222222222222222,\"#7201a8\"],[0.3333333333333333,\"#9c179e\"],[0.4444444444444444,\"#bd3786\"],[0.5555555555555556,\"#d8576b\"],[0.6666666666666666,\"#ed7953\"],[0.7777777777777778,\"#fb9f3a\"],[0.8888888888888888,\"#fdca26\"],[1.0,\"#f0f921\"]]}],\"choropleth\":[{\"type\":\"choropleth\",\"colorbar\":{\"outlinewidth\":0,\"ticks\":\"\"}}],\"histogram2d\":[{\"type\":\"histogram2d\",\"colorbar\":{\"outlinewidth\":0,\"ticks\":\"\"},\"colorscale\":[[0.0,\"#0d0887\"],[0.1111111111111111,\"#46039f\"],[0.2222222222222222,\"#7201a8\"],[0.3333333333333333,\"#9c179e\"],[0.4444444444444444,\"#bd3786\"],[0.5555555555555556,\"#d8576b\"],[0.6666666666666666,\"#ed7953\"],[0.7777777777777778,\"#fb9f3a\"],[0.8888888888888888,\"#fdca26\"],[1.0,\"#f0f921\"]]}],\"heatmap\":[{\"type\":\"heatmap\",\"colorbar\":{\"outlinewidth\":0,\"ticks\":\"\"},\"colorscale\":[[0.0,\"#0d0887\"],[0.1111111111111111,\"#46039f\"],[0.2222222222222222,\"#7201a8\"],[0.3333333333333333,\"#9c179e\"],[0.4444444444444444,\"#bd3786\"],[0.5555555555555556,\"#d8576b\"],[0.6666666666666666,\"#ed7953\"],[0.7777777777777778,\"#fb9f3a\"],[0.8888888888888888,\"#fdca26\"],[1.0,\"#f0f921\"]]}],\"heatmapgl\":[{\"type\":\"heatmapgl\",\"colorbar\":{\"outlinewidth\":0,\"ticks\":\"\"},\"colorscale\":[[0.0,\"#0d0887\"],[0.1111111111111111,\"#46039f\"],[0.2222222222222222,\"#7201a8\"],[0.3333333333333333,\"#9c179e\"],[0.4444444444444444,\"#bd3786\"],[0.5555555555555556,\"#d8576b\"],[0.6666666666666666,\"#ed7953\"],[0.7777777777777778,\"#fb9f3a\"],[0.8888888888888888,\"#fdca26\"],[1.0,\"#f0f921\"]]}],\"contourcarpet\":[{\"type\":\"contourcarpet\",\"colorbar\":{\"outlinewidth\":0,\"ticks\":\"\"}}],\"contour\":[{\"type\":\"contour\",\"colorbar\":{\"outlinewidth\":0,\"ticks\":\"\"},\"colorscale\":[[0.0,\"#0d0887\"],[0.1111111111111111,\"#46039f\"],[0.2222222222222222,\"#7201a8\"],[0.3333333333333333,\"#9c179e\"],[0.4444444444444444,\"#bd3786\"],[0.5555555555555556,\"#d8576b\"],[0.6666666666666666,\"#ed7953\"],[0.7777777777777778,\"#fb9f3a\"],[0.8888888888888888,\"#fdca26\"],[1.0,\"#f0f921\"]]}],\"surface\":[{\"type\":\"surface\",\"colorbar\":{\"outlinewidth\":0,\"ticks\":\"\"},\"colorscale\":[[0.0,\"#0d0887\"],[0.1111111111111111,\"#46039f\"],[0.2222222222222222,\"#7201a8\"],[0.3333333333333333,\"#9c179e\"],[0.4444444444444444,\"#bd3786\"],[0.5555555555555556,\"#d8576b\"],[0.6666666666666666,\"#ed7953\"],[0.7777777777777778,\"#fb9f3a\"],[0.8888888888888888,\"#fdca26\"],[1.0,\"#f0f921\"]]}],\"mesh3d\":[{\"type\":\"mesh3d\",\"colorbar\":{\"outlinewidth\":0,\"ticks\":\"\"}}],\"scatter\":[{\"fillpattern\":{\"fillmode\":\"overlay\",\"size\":10,\"solidity\":0.2},\"type\":\"scatter\"}],\"parcoords\":[{\"type\":\"parcoords\",\"line\":{\"colorbar\":{\"outlinewidth\":0,\"ticks\":\"\"}}}],\"scatterpolargl\":[{\"type\":\"scatterpolargl\",\"marker\":{\"colorbar\":{\"outlinewidth\":0,\"ticks\":\"\"}}}],\"bar\":[{\"error_x\":{\"color\":\"#2a3f5f\"},\"error_y\":{\"color\":\"#2a3f5f\"},\"marker\":{\"line\":{\"color\":\"#E5ECF6\",\"width\":0.5},\"pattern\":{\"fillmode\":\"overlay\",\"size\":10,\"solidity\":0.2}},\"type\":\"bar\"}],\"scattergeo\":[{\"type\":\"scattergeo\",\"marker\":{\"colorbar\":{\"outlinewidth\":0,\"ticks\":\"\"}}}],\"scatterpolar\":[{\"type\":\"scatterpolar\",\"marker\":{\"colorbar\":{\"outlinewidth\":0,\"ticks\":\"\"}}}],\"histogram\":[{\"marker\":{\"pattern\":{\"fillmode\":\"overlay\",\"size\":10,\"solidity\":0.2}},\"type\":\"histogram\"}],\"scattergl\":[{\"type\":\"scattergl\",\"marker\":{\"colorbar\":{\"outlinewidth\":0,\"ticks\":\"\"}}}],\"scatter3d\":[{\"type\":\"scatter3d\",\"line\":{\"colorbar\":{\"outlinewidth\":0,\"ticks\":\"\"}},\"marker\":{\"colorbar\":{\"outlinewidth\":0,\"ticks\":\"\"}}}],\"scattermapbox\":[{\"type\":\"scattermapbox\",\"marker\":{\"colorbar\":{\"outlinewidth\":0,\"ticks\":\"\"}}}],\"scatterternary\":[{\"type\":\"scatterternary\",\"marker\":{\"colorbar\":{\"outlinewidth\":0,\"ticks\":\"\"}}}],\"scattercarpet\":[{\"type\":\"scattercarpet\",\"marker\":{\"colorbar\":{\"outlinewidth\":0,\"ticks\":\"\"}}}],\"carpet\":[{\"aaxis\":{\"endlinecolor\":\"#2a3f5f\",\"gridcolor\":\"white\",\"linecolor\":\"white\",\"minorgridcolor\":\"white\",\"startlinecolor\":\"#2a3f5f\"},\"baxis\":{\"endlinecolor\":\"#2a3f5f\",\"gridcolor\":\"white\",\"linecolor\":\"white\",\"minorgridcolor\":\"white\",\"startlinecolor\":\"#2a3f5f\"},\"type\":\"carpet\"}],\"table\":[{\"cells\":{\"fill\":{\"color\":\"#EBF0F8\"},\"line\":{\"color\":\"white\"}},\"header\":{\"fill\":{\"color\":\"#C8D4E3\"},\"line\":{\"color\":\"white\"}},\"type\":\"table\"}],\"barpolar\":[{\"marker\":{\"line\":{\"color\":\"#E5ECF6\",\"width\":0.5},\"pattern\":{\"fillmode\":\"overlay\",\"size\":10,\"solidity\":0.2}},\"type\":\"barpolar\"}],\"pie\":[{\"automargin\":true,\"type\":\"pie\"}]},\"layout\":{\"autotypenumbers\":\"strict\",\"colorway\":[\"#636efa\",\"#EF553B\",\"#00cc96\",\"#ab63fa\",\"#FFA15A\",\"#19d3f3\",\"#FF6692\",\"#B6E880\",\"#FF97FF\",\"#FECB52\"],\"font\":{\"color\":\"#2a3f5f\"},\"hovermode\":\"closest\",\"hoverlabel\":{\"align\":\"left\"},\"paper_bgcolor\":\"white\",\"plot_bgcolor\":\"#E5ECF6\",\"polar\":{\"bgcolor\":\"#E5ECF6\",\"angularaxis\":{\"gridcolor\":\"white\",\"linecolor\":\"white\",\"ticks\":\"\"},\"radialaxis\":{\"gridcolor\":\"white\",\"linecolor\":\"white\",\"ticks\":\"\"}},\"ternary\":{\"bgcolor\":\"#E5ECF6\",\"aaxis\":{\"gridcolor\":\"white\",\"linecolor\":\"white\",\"ticks\":\"\"},\"baxis\":{\"gridcolor\":\"white\",\"linecolor\":\"white\",\"ticks\":\"\"},\"caxis\":{\"gridcolor\":\"white\",\"linecolor\":\"white\",\"ticks\":\"\"}},\"coloraxis\":{\"colorbar\":{\"outlinewidth\":0,\"ticks\":\"\"}},\"colorscale\":{\"sequential\":[[0.0,\"#0d0887\"],[0.1111111111111111,\"#46039f\"],[0.2222222222222222,\"#7201a8\"],[0.3333333333333333,\"#9c179e\"],[0.4444444444444444,\"#bd3786\"],[0.5555555555555556,\"#d8576b\"],[0.6666666666666666,\"#ed7953\"],[0.7777777777777778,\"#fb9f3a\"],[0.8888888888888888,\"#fdca26\"],[1.0,\"#f0f921\"]],\"sequentialminus\":[[0.0,\"#0d0887\"],[0.1111111111111111,\"#46039f\"],[0.2222222222222222,\"#7201a8\"],[0.3333333333333333,\"#9c179e\"],[0.4444444444444444,\"#bd3786\"],[0.5555555555555556,\"#d8576b\"],[0.6666666666666666,\"#ed7953\"],[0.7777777777777778,\"#fb9f3a\"],[0.8888888888888888,\"#fdca26\"],[1.0,\"#f0f921\"]],\"diverging\":[[0,\"#8e0152\"],[0.1,\"#c51b7d\"],[0.2,\"#de77ae\"],[0.3,\"#f1b6da\"],[0.4,\"#fde0ef\"],[0.5,\"#f7f7f7\"],[0.6,\"#e6f5d0\"],[0.7,\"#b8e186\"],[0.8,\"#7fbc41\"],[0.9,\"#4d9221\"],[1,\"#276419\"]]},\"xaxis\":{\"gridcolor\":\"white\",\"linecolor\":\"white\",\"ticks\":\"\",\"title\":{\"standoff\":15},\"zerolinecolor\":\"white\",\"automargin\":true,\"zerolinewidth\":2},\"yaxis\":{\"gridcolor\":\"white\",\"linecolor\":\"white\",\"ticks\":\"\",\"title\":{\"standoff\":15},\"zerolinecolor\":\"white\",\"automargin\":true,\"zerolinewidth\":2},\"scene\":{\"xaxis\":{\"backgroundcolor\":\"#E5ECF6\",\"gridcolor\":\"white\",\"linecolor\":\"white\",\"showbackground\":true,\"ticks\":\"\",\"zerolinecolor\":\"white\",\"gridwidth\":2},\"yaxis\":{\"backgroundcolor\":\"#E5ECF6\",\"gridcolor\":\"white\",\"linecolor\":\"white\",\"showbackground\":true,\"ticks\":\"\",\"zerolinecolor\":\"white\",\"gridwidth\":2},\"zaxis\":{\"backgroundcolor\":\"#E5ECF6\",\"gridcolor\":\"white\",\"linecolor\":\"white\",\"showbackground\":true,\"ticks\":\"\",\"zerolinecolor\":\"white\",\"gridwidth\":2}},\"shapedefaults\":{\"line\":{\"color\":\"#2a3f5f\"}},\"annotationdefaults\":{\"arrowcolor\":\"#2a3f5f\",\"arrowhead\":0,\"arrowwidth\":1},\"geo\":{\"bgcolor\":\"white\",\"landcolor\":\"#E5ECF6\",\"subunitcolor\":\"white\",\"showland\":true,\"showlakes\":true,\"lakecolor\":\"white\"},\"title\":{\"x\":0.05},\"mapbox\":{\"style\":\"light\"}}}},                        {\"responsive\": true}                    ).then(function(){\n",
              "                            \n",
              "var gd = document.getElementById('8df72d89-de49-43ac-b98b-5b834ea56ec6');\n",
              "var x = new MutationObserver(function (mutations, observer) {{\n",
              "        var display = window.getComputedStyle(gd).display;\n",
              "        if (!display || display === 'none') {{\n",
              "            console.log([gd, 'removed!']);\n",
              "            Plotly.purge(gd);\n",
              "            observer.disconnect();\n",
              "        }}\n",
              "}});\n",
              "\n",
              "// Listen for the removal of the full notebook cells\n",
              "var notebookContainer = gd.closest('#notebook-container');\n",
              "if (notebookContainer) {{\n",
              "    x.observe(notebookContainer, {childList: true});\n",
              "}}\n",
              "\n",
              "// Listen for the clearing of the current output cell\n",
              "var outputEl = gd.closest('.output');\n",
              "if (outputEl) {{\n",
              "    x.observe(outputEl, {childList: true});\n",
              "}}\n",
              "\n",
              "                        })                };                            </script>        </div>\n",
              "</body>\n",
              "</html>"
            ]
          },
          "metadata": {}
        }
      ],
      "source": [
        "# рисуем воронку\n",
        "fig = go.Figure(go.Funnel(\n",
        "    y = result['event_name'],\n",
        "    x = result['share_of_users'],\n",
        "\n",
        "    textposition = \"inside\",\n",
        "    textinfo = \"value+percent initial\",\n",
        "    opacity = 0.65, marker = {\"color\": [\"deepskyblue\", \"lightsalmon\", \"tan\", \"teal\", \"silver\"],\n",
        "    \"line\": {\"width\": [4, 2, 2, 3, 1, 1], \"color\": [\"wheat\", \"wheat\", \"blue\", \"wheat\", \"wheat\"]}},\n",
        "    connector = {\"line\": {\"color\": \"royalblue\", \"dash\": \"dot\", \"width\": 3}}))\n",
        "\n",
        "fig.show()"
      ]
    },
    {
      "cell_type": "markdown",
      "metadata": {
        "id": "mDOUe3nHye4R"
      },
      "source": [
        "- Открыт главный экран - 100 % пользователей, начало воронки.\n",
        "- Открыт экран с заказом - на этот этап переходит 62 % из тех кто был на главной странице.\n",
        "- Открыт экран корзины - 81 % из тех кто взаиможействовал с экраном заказа переходит в корзину.\n",
        "- Открыт экран успешной оплаты - 95 % открыших страницу корзины оплачивают заказ.   \n",
        "\n",
        "Экран подсказки рассматривать не будем, так как нет уверенности что он часть этой воронки"
      ]
    },
    {
      "cell_type": "markdown",
      "metadata": {
        "id": "oQV0_nRMye4R"
      },
      "source": [
        "**На каком шаге теряем больше всего пользователей?**"
      ]
    },
    {
      "cell_type": "markdown",
      "metadata": {
        "id": "nIcyyGFxye4R"
      },
      "source": [
        "Больше всего пользователей мы теряем на этапе перехода от главной страницы к странице с заказом. 38 % пользователей теряются на этом шаге. Следом с показателем 20-ти процентной потери идет переход от страницы заказа к корзине. На этапе оплаты отваливается 5 % пользователей, это лучший показатель в нашей воронке."
      ]
    },
    {
      "cell_type": "markdown",
      "metadata": {
        "id": "D-azm_FVye4R"
      },
      "source": [
        "**Какая доля пользователей доходит от первого события до оплаты?**"
      ]
    },
    {
      "cell_type": "markdown",
      "metadata": {
        "id": "AVW7fncnye4R"
      },
      "source": [
        "От просмотра главной страницы до оплаты доходит 47 % наших пользователей."
      ]
    },
    {
      "cell_type": "markdown",
      "metadata": {
        "id": "tNa0kIIuye4S"
      },
      "source": [
        "#### Проведение эксперпимента и изучение его результатов"
      ]
    },
    {
      "cell_type": "markdown",
      "metadata": {
        "id": "rEEpRuXgye4S"
      },
      "source": [
        "**Задача от бизнес-заказчика:**\n",
        "\n",
        "- Сколько пользователей в каждой экспериментальной группе?\n",
        "- Есть 2 контрольные группы для А/А-эксперимента, чтобы проверить корректность всех механизмов и расчётов. Проверьте, находят ли статистические критерии разницу между выборками 246 и 247.\n",
        "- Выберите самое популярное событие. Посчитайте число пользователей, совершивших это событие в каждой из контрольных групп. Посчитайте долю пользователей, совершивших это событие. Проверьте, будет ли отличие между группами статистически достоверным. Проделайте то же самое для всех других событий. Можно ли сказать, что разбиение на группы работает корректно?\n",
        "- Аналогично поступите с группой с изменённым шрифтом. Сравните результаты с каждой из контрольных групп в отдельности по каждому событию. Сравните результаты с объединённой контрольной группой. Какие выводы из эксперимента можно сделать?\n",
        "- Какой уровень значимости вы выбрали при проверке статистических гипотез выше? Посчитайте, сколько проверок статистических гипотез вы сделали. При уровне значимости 0.1 в 10% случаев можно ошибочно отклонить нулевую гипотезу при условии, что она верна. Какой уровень значимости стоит применить? Если вы хотите изменить его, проделайте предыдущие пункты и проверьте свои выводы."
      ]
    },
    {
      "cell_type": "markdown",
      "metadata": {
        "id": "JvsTFV2vye4S"
      },
      "source": [
        "**Сколько пользователей в каждой экспериментальной группе?**"
      ]
    },
    {
      "cell_type": "code",
      "execution_count": null,
      "metadata": {
        "colab": {
          "base_uri": "https://localhost:8080/",
          "height": 175
        },
        "id": "W3Q-aVn0ye4S",
        "outputId": "9ac2cf91-7a06-4e54-f6db-1172d11c8a10"
      },
      "outputs": [
        {
          "output_type": "execute_result",
          "data": {
            "text/plain": [
              "          user_id\n",
              "group_id         \n",
              "246          2484\n",
              "247          2513\n",
              "248          2537"
            ],
            "text/html": [
              "\n",
              "  <div id=\"df-82401add-6031-403b-bc02-a3cfad8bd10c\" class=\"colab-df-container\">\n",
              "    <div>\n",
              "<style scoped>\n",
              "    .dataframe tbody tr th:only-of-type {\n",
              "        vertical-align: middle;\n",
              "    }\n",
              "\n",
              "    .dataframe tbody tr th {\n",
              "        vertical-align: top;\n",
              "    }\n",
              "\n",
              "    .dataframe thead th {\n",
              "        text-align: right;\n",
              "    }\n",
              "</style>\n",
              "<table border=\"1\" class=\"dataframe\">\n",
              "  <thead>\n",
              "    <tr style=\"text-align: right;\">\n",
              "      <th></th>\n",
              "      <th>user_id</th>\n",
              "    </tr>\n",
              "    <tr>\n",
              "      <th>group_id</th>\n",
              "      <th></th>\n",
              "    </tr>\n",
              "  </thead>\n",
              "  <tbody>\n",
              "    <tr>\n",
              "      <th>246</th>\n",
              "      <td>2484</td>\n",
              "    </tr>\n",
              "    <tr>\n",
              "      <th>247</th>\n",
              "      <td>2513</td>\n",
              "    </tr>\n",
              "    <tr>\n",
              "      <th>248</th>\n",
              "      <td>2537</td>\n",
              "    </tr>\n",
              "  </tbody>\n",
              "</table>\n",
              "</div>\n",
              "    <div class=\"colab-df-buttons\">\n",
              "\n",
              "  <div class=\"colab-df-container\">\n",
              "    <button class=\"colab-df-convert\" onclick=\"convertToInteractive('df-82401add-6031-403b-bc02-a3cfad8bd10c')\"\n",
              "            title=\"Convert this dataframe to an interactive table.\"\n",
              "            style=\"display:none;\">\n",
              "\n",
              "  <svg xmlns=\"http://www.w3.org/2000/svg\" height=\"24px\" viewBox=\"0 -960 960 960\">\n",
              "    <path d=\"M120-120v-720h720v720H120Zm60-500h600v-160H180v160Zm220 220h160v-160H400v160Zm0 220h160v-160H400v160ZM180-400h160v-160H180v160Zm440 0h160v-160H620v160ZM180-180h160v-160H180v160Zm440 0h160v-160H620v160Z\"/>\n",
              "  </svg>\n",
              "    </button>\n",
              "\n",
              "  <style>\n",
              "    .colab-df-container {\n",
              "      display:flex;\n",
              "      gap: 12px;\n",
              "    }\n",
              "\n",
              "    .colab-df-convert {\n",
              "      background-color: #E8F0FE;\n",
              "      border: none;\n",
              "      border-radius: 50%;\n",
              "      cursor: pointer;\n",
              "      display: none;\n",
              "      fill: #1967D2;\n",
              "      height: 32px;\n",
              "      padding: 0 0 0 0;\n",
              "      width: 32px;\n",
              "    }\n",
              "\n",
              "    .colab-df-convert:hover {\n",
              "      background-color: #E2EBFA;\n",
              "      box-shadow: 0px 1px 2px rgba(60, 64, 67, 0.3), 0px 1px 3px 1px rgba(60, 64, 67, 0.15);\n",
              "      fill: #174EA6;\n",
              "    }\n",
              "\n",
              "    .colab-df-buttons div {\n",
              "      margin-bottom: 4px;\n",
              "    }\n",
              "\n",
              "    [theme=dark] .colab-df-convert {\n",
              "      background-color: #3B4455;\n",
              "      fill: #D2E3FC;\n",
              "    }\n",
              "\n",
              "    [theme=dark] .colab-df-convert:hover {\n",
              "      background-color: #434B5C;\n",
              "      box-shadow: 0px 1px 3px 1px rgba(0, 0, 0, 0.15);\n",
              "      filter: drop-shadow(0px 1px 2px rgba(0, 0, 0, 0.3));\n",
              "      fill: #FFFFFF;\n",
              "    }\n",
              "  </style>\n",
              "\n",
              "    <script>\n",
              "      const buttonEl =\n",
              "        document.querySelector('#df-82401add-6031-403b-bc02-a3cfad8bd10c button.colab-df-convert');\n",
              "      buttonEl.style.display =\n",
              "        google.colab.kernel.accessAllowed ? 'block' : 'none';\n",
              "\n",
              "      async function convertToInteractive(key) {\n",
              "        const element = document.querySelector('#df-82401add-6031-403b-bc02-a3cfad8bd10c');\n",
              "        const dataTable =\n",
              "          await google.colab.kernel.invokeFunction('convertToInteractive',\n",
              "                                                    [key], {});\n",
              "        if (!dataTable) return;\n",
              "\n",
              "        const docLinkHtml = 'Like what you see? Visit the ' +\n",
              "          '<a target=\"_blank\" href=https://colab.research.google.com/notebooks/data_table.ipynb>data table notebook</a>'\n",
              "          + ' to learn more about interactive tables.';\n",
              "        element.innerHTML = '';\n",
              "        dataTable['output_type'] = 'display_data';\n",
              "        await google.colab.output.renderOutput(dataTable, element);\n",
              "        const docLink = document.createElement('div');\n",
              "        docLink.innerHTML = docLinkHtml;\n",
              "        element.appendChild(docLink);\n",
              "      }\n",
              "    </script>\n",
              "  </div>\n",
              "\n",
              "\n",
              "<div id=\"df-7e884f5b-5f51-413d-960e-5f5e4fecf945\">\n",
              "  <button class=\"colab-df-quickchart\" onclick=\"quickchart('df-7e884f5b-5f51-413d-960e-5f5e4fecf945')\"\n",
              "            title=\"Suggest charts\"\n",
              "            style=\"display:none;\">\n",
              "\n",
              "<svg xmlns=\"http://www.w3.org/2000/svg\" height=\"24px\"viewBox=\"0 0 24 24\"\n",
              "     width=\"24px\">\n",
              "    <g>\n",
              "        <path d=\"M19 3H5c-1.1 0-2 .9-2 2v14c0 1.1.9 2 2 2h14c1.1 0 2-.9 2-2V5c0-1.1-.9-2-2-2zM9 17H7v-7h2v7zm4 0h-2V7h2v10zm4 0h-2v-4h2v4z\"/>\n",
              "    </g>\n",
              "</svg>\n",
              "  </button>\n",
              "\n",
              "<style>\n",
              "  .colab-df-quickchart {\n",
              "      --bg-color: #E8F0FE;\n",
              "      --fill-color: #1967D2;\n",
              "      --hover-bg-color: #E2EBFA;\n",
              "      --hover-fill-color: #174EA6;\n",
              "      --disabled-fill-color: #AAA;\n",
              "      --disabled-bg-color: #DDD;\n",
              "  }\n",
              "\n",
              "  [theme=dark] .colab-df-quickchart {\n",
              "      --bg-color: #3B4455;\n",
              "      --fill-color: #D2E3FC;\n",
              "      --hover-bg-color: #434B5C;\n",
              "      --hover-fill-color: #FFFFFF;\n",
              "      --disabled-bg-color: #3B4455;\n",
              "      --disabled-fill-color: #666;\n",
              "  }\n",
              "\n",
              "  .colab-df-quickchart {\n",
              "    background-color: var(--bg-color);\n",
              "    border: none;\n",
              "    border-radius: 50%;\n",
              "    cursor: pointer;\n",
              "    display: none;\n",
              "    fill: var(--fill-color);\n",
              "    height: 32px;\n",
              "    padding: 0;\n",
              "    width: 32px;\n",
              "  }\n",
              "\n",
              "  .colab-df-quickchart:hover {\n",
              "    background-color: var(--hover-bg-color);\n",
              "    box-shadow: 0 1px 2px rgba(60, 64, 67, 0.3), 0 1px 3px 1px rgba(60, 64, 67, 0.15);\n",
              "    fill: var(--button-hover-fill-color);\n",
              "  }\n",
              "\n",
              "  .colab-df-quickchart-complete:disabled,\n",
              "  .colab-df-quickchart-complete:disabled:hover {\n",
              "    background-color: var(--disabled-bg-color);\n",
              "    fill: var(--disabled-fill-color);\n",
              "    box-shadow: none;\n",
              "  }\n",
              "\n",
              "  .colab-df-spinner {\n",
              "    border: 2px solid var(--fill-color);\n",
              "    border-color: transparent;\n",
              "    border-bottom-color: var(--fill-color);\n",
              "    animation:\n",
              "      spin 1s steps(1) infinite;\n",
              "  }\n",
              "\n",
              "  @keyframes spin {\n",
              "    0% {\n",
              "      border-color: transparent;\n",
              "      border-bottom-color: var(--fill-color);\n",
              "      border-left-color: var(--fill-color);\n",
              "    }\n",
              "    20% {\n",
              "      border-color: transparent;\n",
              "      border-left-color: var(--fill-color);\n",
              "      border-top-color: var(--fill-color);\n",
              "    }\n",
              "    30% {\n",
              "      border-color: transparent;\n",
              "      border-left-color: var(--fill-color);\n",
              "      border-top-color: var(--fill-color);\n",
              "      border-right-color: var(--fill-color);\n",
              "    }\n",
              "    40% {\n",
              "      border-color: transparent;\n",
              "      border-right-color: var(--fill-color);\n",
              "      border-top-color: var(--fill-color);\n",
              "    }\n",
              "    60% {\n",
              "      border-color: transparent;\n",
              "      border-right-color: var(--fill-color);\n",
              "    }\n",
              "    80% {\n",
              "      border-color: transparent;\n",
              "      border-right-color: var(--fill-color);\n",
              "      border-bottom-color: var(--fill-color);\n",
              "    }\n",
              "    90% {\n",
              "      border-color: transparent;\n",
              "      border-bottom-color: var(--fill-color);\n",
              "    }\n",
              "  }\n",
              "</style>\n",
              "\n",
              "  <script>\n",
              "    async function quickchart(key) {\n",
              "      const quickchartButtonEl =\n",
              "        document.querySelector('#' + key + ' button');\n",
              "      quickchartButtonEl.disabled = true;  // To prevent multiple clicks.\n",
              "      quickchartButtonEl.classList.add('colab-df-spinner');\n",
              "      try {\n",
              "        const charts = await google.colab.kernel.invokeFunction(\n",
              "            'suggestCharts', [key], {});\n",
              "      } catch (error) {\n",
              "        console.error('Error during call to suggestCharts:', error);\n",
              "      }\n",
              "      quickchartButtonEl.classList.remove('colab-df-spinner');\n",
              "      quickchartButtonEl.classList.add('colab-df-quickchart-complete');\n",
              "    }\n",
              "    (() => {\n",
              "      let quickchartButtonEl =\n",
              "        document.querySelector('#df-7e884f5b-5f51-413d-960e-5f5e4fecf945 button');\n",
              "      quickchartButtonEl.style.display =\n",
              "        google.colab.kernel.accessAllowed ? 'block' : 'none';\n",
              "    })();\n",
              "  </script>\n",
              "</div>\n",
              "    </div>\n",
              "  </div>\n"
            ],
            "application/vnd.google.colaboratory.intrinsic+json": {
              "type": "dataframe",
              "summary": "{\n  \"name\": \"df_filtered\",\n  \"rows\": 3,\n  \"fields\": [\n    {\n      \"column\": \"group_id\",\n      \"properties\": {\n        \"dtype\": \"number\",\n        \"std\": 1,\n        \"min\": 246,\n        \"max\": 248,\n        \"num_unique_values\": 3,\n        \"samples\": [\n          246,\n          247,\n          248\n        ],\n        \"semantic_type\": \"\",\n        \"description\": \"\"\n      }\n    },\n    {\n      \"column\": \"user_id\",\n      \"properties\": {\n        \"dtype\": \"number\",\n        \"std\": 26,\n        \"min\": 2484,\n        \"max\": 2537,\n        \"num_unique_values\": 3,\n        \"samples\": [\n          2484,\n          2513,\n          2537\n        ],\n        \"semantic_type\": \"\",\n        \"description\": \"\"\n      }\n    }\n  ]\n}"
            }
          },
          "metadata": {},
          "execution_count": 41
        }
      ],
      "source": [
        "# группируем по id группы и считаем уникальное кол-во пользователей\n",
        "df_filtered.groupby('group_id').agg({'user_id':'nunique'})"
      ]
    },
    {
      "cell_type": "markdown",
      "metadata": {
        "id": "YYOQJumpye4S"
      },
      "source": [
        "В группе 246 - 2484 пользователя, в группе 247 - 2513 пользователей, в группе 248 - 2537 пользователей."
      ]
    },
    {
      "cell_type": "markdown",
      "metadata": {
        "id": "4Rwqbcacye4S"
      },
      "source": [
        "**Есть 2 контрольные группы для А/А-эксперимента, чтобы проверить корректность всех механизмов и расчётов. Проверьте, находят ли статистические критерии разницу между выборками 246 и 247.**"
      ]
    },
    {
      "cell_type": "markdown",
      "metadata": {
        "id": "f5IaJlsKye4S"
      },
      "source": [
        "Мы подошли к проведению непосредственно экспериментов для контрольных групп и тестовой группы, которая получила изменения в дизайне. Нам требуется проверить есть ли разница между долями в тестовых группах, чтобы убедится что наше разбиение по группам работает и они показывают примерно одинаковое прохождение воронки. После этого мы можем приступить к аналогичной проверке уже между контрольной группой со страрым отображение шрифтов и тестовой группой которая взаимодействала с измененными шрифтами. Для такой проверки нам подойдет Z-тест.\n",
        "\n",
        "Сформулируем наши гипотезы:\n",
        "- Н0: Между долями пользователей нет существенной разницы\n",
        "- Н1: Между долями пользователей есть существенная разница\n",
        "\n",
        "Так как все наши проверки одноообразные, мы можем использовать эти гипотезы без изменения для всех наших проверок. В качестве значения уровня статистической значимости примем 5%, так как наши данные не являются научными и мы можем быть менее строги мы берем 5% а не 1%."
      ]
    },
    {
      "cell_type": "code",
      "execution_count": null,
      "metadata": {
        "id": "HB8L5g7Gye4T",
        "outputId": "59b7892f-2bc6-43d3-f7a5-bcab46f9fd86"
      },
      "outputs": [
        {
          "name": "stdout",
          "output_type": "stream",
          "text": [
            "p-значение:  [0.11456679]\n",
            "Не получилось отвергнуть нулевую гипотезу, нет оснований считать доли разными\n"
          ]
        }
      ],
      "source": [
        "# задаем уровень статистической значимости\n",
        "alpha = 0.05\n",
        "\n",
        "# число наблюдений в группах\n",
        "result_trials = df_filtered.groupby('group_id').agg({'user_id':'nunique'}).reset_index()\n",
        "trials = np.array([result_trials[result_trials['group_id'] == 246]['user_id'], result_trials[result_trials['group_id'] == 247]['user_id']])\n",
        "\n",
        "# число успехов в группе\n",
        "result_successes = df_filtered.groupby(['group_id', 'event_name']).agg({'user_id':'nunique'}).reset_index()\n",
        "successes = np.array([\n",
        "    result_successes[(result_successes['group_id'] == 246) &\n",
        "                     (result_successes['event_name'] == 'PaymentScreenSuccessful')]['user_id'],\n",
        "    result_successes[(result_successes['group_id'] == 247) &\n",
        "                     (result_successes['event_name'] == 'PaymentScreenSuccessful')]['user_id']\n",
        "])\n",
        "\n",
        "#  пропорция успехов в группах\n",
        "p1 = successes[0]/trials[0]\n",
        "p2 = successes[1]/trials[1]\n",
        "\n",
        "# объединенная пропорция успеха\n",
        "p_combined = (successes[0] + successes[1]) / (trials[0] + trials[1])\n",
        "\n",
        "# разница пропорций в датасетах\n",
        "difference = p1 - p2\n",
        "\n",
        "# считаем статистику в ст.отклонениях стандартного нормального распределения\n",
        "z_value = difference / mth.sqrt(p_combined * (1 - p_combined) * (1/trials[0] + 1/trials[1]))\n",
        "\n",
        "# задаем стандартное нормальное распределение (среднее 0, ст.отклонение 1)\n",
        "distr = st.norm(0, 1)\n",
        "\n",
        "p_value = (1 - distr.cdf(abs(z_value))) * 2\n",
        "\n",
        "print('p-значение: ', p_value)\n",
        "\n",
        "if p_value < alpha:\n",
        "    print('Отвергаем нулевую гипотезу: между долями есть значимая разница')\n",
        "else:\n",
        "    print(\n",
        "        'Не получилось отвергнуть нулевую гипотезу, нет оснований считать доли разными'\n",
        "    )"
      ]
    },
    {
      "cell_type": "markdown",
      "metadata": {
        "id": "pUJpODlDye4T"
      },
      "source": [
        "По итогам проведенного Z-теста, мы видим что между группами нет статистической разницы."
      ]
    },
    {
      "cell_type": "markdown",
      "metadata": {
        "id": "lHoD2oHEye4T"
      },
      "source": [
        "**Выберите самое популярное событие. Посчитайте число пользователей, совершивших это событие в каждой из контрольных групп. Посчитайте долю пользователей, совершивших это событие. Проверьте, будет ли отличие между группами статистически достоверным. Проделайте то же самое для всех других событий. Можно ли сказать, что разбиение на группы работает корректно?**"
      ]
    },
    {
      "cell_type": "code",
      "execution_count": null,
      "metadata": {
        "id": "RsCwCHWoye4T"
      },
      "outputs": [],
      "source": [
        "def z_proportion(group1, group2, event_group, group_for_sum=None):\n",
        "    # задаем уровень статистической значимости\n",
        "    alpha = 0.05\n",
        "\n",
        "    # число наблюдений в группах\n",
        "    result_trials = df_filtered.groupby('group_id').agg({'user_id':'nunique'}).reset_index()\n",
        "    trials = np.array([result_trials[result_trials['group_id'] == group1]['user_id'],\n",
        "                       result_trials[result_trials['group_id'] == group2]['user_id']\n",
        "    ])\n",
        "\n",
        "    # число успехов в группе\n",
        "    result_successes = df_filtered.groupby(['group_id', 'event_name']).agg({'user_id':'nunique'}).reset_index()\n",
        "    successes = np.array([\n",
        "        result_successes[(result_successes['group_id'] == group1) &\n",
        "                         (result_successes['event_name'] == event_group)]['user_id'],\n",
        "        result_successes[(result_successes['group_id'] == group2) &\n",
        "                         (result_successes['event_name'] == event_group)]['user_id']\n",
        "    ])\n",
        "\n",
        "    print('Проверка для ', event_group)\n",
        "\n",
        "    if group_for_sum is None:\n",
        "        #  пропорция успехов в группах\n",
        "        p1 = successes[0]/trials[0]\n",
        "        p2 = successes[1]/trials[1]\n",
        "\n",
        "        # объединенная пропорция успеха\n",
        "        p_combined = (successes[0] + successes[1]) / (trials[0] + trials[1])\n",
        "\n",
        "        # разница пропорций в датасетах\n",
        "        difference = p1 - p2\n",
        "\n",
        "        # считаем статистику в ст.отклонениях стандартного нормального распределения\n",
        "        z_value = difference / mth.sqrt(p_combined * (1 - p_combined) * (1/trials[0] + 1/trials[1]))\n",
        "\n",
        "        # задаем стандартное нормальное распределение (среднее 0, ст.отклонение 1)\n",
        "        distr = st.norm(0, 1)\n",
        "\n",
        "        p_value = (1 - distr.cdf(abs(z_value))) * 2\n",
        "\n",
        "        print('p-значение: ', p_value)\n",
        "\n",
        "        if p_value < alpha:\n",
        "            print('Отвергаем нулевую гипотезу: между долями есть значимая разница')\n",
        "        else:\n",
        "            print(\n",
        "                'Не получилось отвергнуть нулевую гипотезу, нет оснований считать доли разными'\n",
        "            )\n",
        "    else:\n",
        "        trials_sum = np.append(trials, result_trials[result_trials['group_id'] == group_for_sum]['user_id'])\n",
        "        successes_sum = np.append(successes, result_successes[(result_successes['group_id'] == group_for_sum) &\n",
        "                                 (result_successes['event_name'] == event_group)]['user_id'])\n",
        "        #  пропорция успехов в группах\n",
        "        p1 = (successes_sum[0]+successes_sum[2])/(trials_sum[0]+trials_sum[2])\n",
        "        p2 = successes_sum[1]/trials_sum[1]\n",
        "\n",
        "        # объединенная пропорция успеха\n",
        "        p_combined = (successes_sum[0] + successes_sum[1] + successes_sum[2]) / (trials_sum[0] + trials_sum[1] + trials_sum[2])\n",
        "\n",
        "        # разница пропорций в датасетах\n",
        "        difference = p1 - p2\n",
        "\n",
        "        # считаем статистику в ст.отклонениях стандартного нормального распределения\n",
        "        z_value = difference / mth.sqrt(p_combined * (1 - p_combined) * (1/(trials_sum[0]+trials_sum[2]) + 1/trials_sum[1]))\n",
        "\n",
        "        # задаем стандартное нормальное распределение (среднее 0, ст.отклонение 1)\n",
        "        distr = st.norm(0, 1)\n",
        "\n",
        "        p_value = (1 - distr.cdf(abs(z_value))) * 2\n",
        "\n",
        "        print('p-значение: ', p_value)\n",
        "\n",
        "        if p_value < alpha:\n",
        "            print('Отвергаем нулевую гипотезу: между долями есть значимая разница')\n",
        "        else:\n",
        "            print(\n",
        "                'Не получилось отвергнуть нулевую гипотезу, нет оснований считать доли разными'\n",
        "            )"
      ]
    },
    {
      "cell_type": "code",
      "execution_count": null,
      "metadata": {
        "id": "zt-7gnXsye4U",
        "outputId": "5c39f82f-f9db-48d9-e24b-6e7a4eda8a88"
      },
      "outputs": [
        {
          "name": "stdout",
          "output_type": "stream",
          "text": [
            "Проверка для  MainScreenAppear\n",
            "p-значение:  [0.75705972]\n",
            "Не получилось отвергнуть нулевую гипотезу, нет оснований считать доли разными\n"
          ]
        }
      ],
      "source": [
        "z_proportion(246, 247, 'MainScreenAppear')"
      ]
    },
    {
      "cell_type": "code",
      "execution_count": null,
      "metadata": {
        "id": "whZxMOB2ye4U",
        "outputId": "fea1e78c-5dc1-47e8-9529-bbc975879243"
      },
      "outputs": [
        {
          "name": "stdout",
          "output_type": "stream",
          "text": [
            "Проверка для  OffersScreenAppear\n",
            "p-значение:  [0.24809546]\n",
            "Не получилось отвергнуть нулевую гипотезу, нет оснований считать доли разными\n"
          ]
        }
      ],
      "source": [
        "z_proportion(246, 247, 'OffersScreenAppear')"
      ]
    },
    {
      "cell_type": "code",
      "execution_count": null,
      "metadata": {
        "id": "0NlhSoqRye4U",
        "outputId": "f13cf5e0-9a78-41e0-ab3b-b7742cd35ff8"
      },
      "outputs": [
        {
          "name": "stdout",
          "output_type": "stream",
          "text": [
            "Проверка для  CartScreenAppear\n",
            "p-значение:  [0.22883372]\n",
            "Не получилось отвергнуть нулевую гипотезу, нет оснований считать доли разными\n"
          ]
        }
      ],
      "source": [
        "z_proportion(246, 247, 'CartScreenAppear')"
      ]
    },
    {
      "cell_type": "markdown",
      "metadata": {
        "id": "gamXhl8Kye4U"
      },
      "source": [
        "Судя по тому что для всех событий нулевая гипотеза не отвергается, мы можем утверждать что наши группы равны, что в свою очередь значит что разбиение на группы работает корректно."
      ]
    },
    {
      "cell_type": "markdown",
      "metadata": {
        "id": "IEpJv0ngye4U"
      },
      "source": [
        "**Аналогично поступите с группой с изменённым шрифтом. Сравните результаты с каждой из контрольных групп в отдельности по каждому событию. Сравните результаты с объединённой контрольной группой. Какие выводы из эксперимента можно сделать?**"
      ]
    },
    {
      "cell_type": "code",
      "execution_count": null,
      "metadata": {
        "id": "MHmlBsecye4V",
        "outputId": "606f0fe1-3679-4fa9-9111-d634334e1bb2"
      },
      "outputs": [
        {
          "name": "stdout",
          "output_type": "stream",
          "text": [
            "Проверка для  MainScreenAppear\n",
            "p-значение:  [0.29497219]\n",
            "Не получилось отвергнуть нулевую гипотезу, нет оснований считать доли разными\n",
            "Проверка для  OffersScreenAppear\n",
            "p-значение:  [0.20836205]\n",
            "Не получилось отвергнуть нулевую гипотезу, нет оснований считать доли разными\n",
            "Проверка для  CartScreenAppear\n",
            "p-значение:  [0.07842923]\n",
            "Не получилось отвергнуть нулевую гипотезу, нет оснований считать доли разными\n",
            "Проверка для  PaymentScreenSuccessful\n",
            "p-значение:  [0.21225533]\n",
            "Не получилось отвергнуть нулевую гипотезу, нет оснований считать доли разными\n"
          ]
        }
      ],
      "source": [
        "# вызываем функцию в цикле\n",
        "for name in result['event_name']:\n",
        "    z_proportion(246, 248, name)"
      ]
    },
    {
      "cell_type": "code",
      "execution_count": null,
      "metadata": {
        "id": "LoBNdNJQye4V",
        "outputId": "62dd0ba9-e4a9-4bab-cc9a-32ef332edfe2"
      },
      "outputs": [
        {
          "name": "stdout",
          "output_type": "stream",
          "text": [
            "Проверка для  MainScreenAppear\n",
            "p-значение:  [0.45870536]\n",
            "Не получилось отвергнуть нулевую гипотезу, нет оснований считать доли разными\n",
            "Проверка для  OffersScreenAppear\n",
            "p-значение:  [0.91978178]\n",
            "Не получилось отвергнуть нулевую гипотезу, нет оснований считать доли разными\n",
            "Проверка для  CartScreenAppear\n",
            "p-значение:  [0.57861979]\n",
            "Не получилось отвергнуть нулевую гипотезу, нет оснований считать доли разными\n",
            "Проверка для  PaymentScreenSuccessful\n",
            "p-значение:  [0.73734151]\n",
            "Не получилось отвергнуть нулевую гипотезу, нет оснований считать доли разными\n"
          ]
        }
      ],
      "source": [
        "for name in result['event_name']:\n",
        "    z_proportion(247, 248, name)"
      ]
    },
    {
      "cell_type": "markdown",
      "metadata": {
        "id": "jJfN81jiye4V"
      },
      "source": [
        "Сравнение каждой из контрольных групп с группой в которой был изменен шрифт, выдает нам результат об отсутствии различий в данных группах. Перейдем к сравнению с объединённой контрольной группой."
      ]
    },
    {
      "cell_type": "code",
      "execution_count": null,
      "metadata": {
        "id": "LchfIqxwye4V",
        "outputId": "320aebdc-42e3-4e48-f270-cbdba00ecdec"
      },
      "outputs": [
        {
          "name": "stdout",
          "output_type": "stream",
          "text": [
            "Проверка для  MainScreenAppear\n",
            "p-значение:  0.29424526837179577\n",
            "Не получилось отвергнуть нулевую гипотезу, нет оснований считать доли разными\n",
            "Проверка для  OffersScreenAppear\n",
            "p-значение:  0.43425549655188256\n",
            "Не получилось отвергнуть нулевую гипотезу, нет оснований считать доли разными\n",
            "Проверка для  CartScreenAppear\n",
            "p-значение:  0.18175875284404386\n",
            "Не получилось отвергнуть нулевую гипотезу, нет оснований считать доли разными\n",
            "Проверка для  PaymentScreenSuccessful\n",
            "p-значение:  0.6004294282308704\n",
            "Не получилось отвергнуть нулевую гипотезу, нет оснований считать доли разными\n"
          ]
        }
      ],
      "source": [
        "for name in result['event_name']:\n",
        "    z_proportion(246, 248, name, 247)"
      ]
    },
    {
      "cell_type": "markdown",
      "metadata": {
        "id": "w77K2g7xye4W"
      },
      "source": [
        "***Мы получили аналогичные прошлым результаты при сравнении объединенной из двух тестовых группы и группы с измененным шрифтом. Z-тест показывает нам что нет статистически значимой разницы в прохождении по воронке пользователей с измененным шрифтом и пользователей со старой его версией. Таким образом мы можем говорить о том что повсеместное внедрение нового шрифта в нашем продукте не окажет пагубного вляиния на поведение пользователей и их конверсию.\n",
        "Что касается наблюдаемых нами данных по воронке в целом, мы обнаружили потерю 38% пользователей в момент перехода от главной странциы к заказу. Нам нужно проеверить, есть вероятность что мы закупаем нецелевой трафик в 38% случаев или у нас есть проблема в интерфейсе, возможно пользовательский путь от главной страницы до заказа неочевиден, нам нужно больше исследований для улучшения этого показателя в нашей воронке.***"
      ]
    },
    {
      "cell_type": "markdown",
      "metadata": {
        "id": "F5zu4rb-ye4W"
      },
      "source": [
        "**Какой уровень значимости вы выбрали при проверке статистических гипотез выше? Посчитайте, сколько проверок статистических гипотез вы сделали. При уровне значимости 0.1 в 10% случаев можно ошибочно отклонить нулевую гипотезу при условии, что она верна. Какой уровень значимости стоит применить? Если вы хотите изменить его, проделайте предыдущие пункты и проверьте свои выводы.**"
      ]
    },
    {
      "cell_type": "markdown",
      "metadata": {
        "id": "1ZwsbSYiye4W"
      },
      "source": [
        "В качестве уровня статистической значимости мы выбрали 5 %. Так как это наиболее часто применяемый уровень в статистических исследованиях. Такой уровень достаточно низкий, чтобы защититься от ложно положительных результатов, но не такой строгий, чтобы быть недостижимым. Мы в сумме провели 16 тестов, при этом повышение уровня статистической значимости до 10 % в нашем случае не даст другого эффекта, судя по значениям p-value получаемым нами в ходе этих экспериментов. Чтобы получить результаты отличные от наших хотя бы в части экспериментов, придется принять в качестве уровня статистической значимости 25 %, что создает для более высокую вероятность ложноположительных результатов."
      ]
    }
  ],
  "metadata": {
    "ExecuteTimeLog": [
      {
        "duration": 399,
        "start_time": "2023-11-11T21:49:22.319Z"
      },
      {
        "duration": 623,
        "start_time": "2023-11-11T21:50:08.216Z"
      },
      {
        "duration": 12,
        "start_time": "2023-11-11T21:50:16.074Z"
      },
      {
        "duration": 65,
        "start_time": "2023-11-11T21:50:32.908Z"
      },
      {
        "duration": 627,
        "start_time": "2023-11-11T21:50:52.734Z"
      },
      {
        "duration": 6,
        "start_time": "2023-11-11T21:51:01.252Z"
      },
      {
        "duration": 627,
        "start_time": "2023-11-11T21:53:26.410Z"
      },
      {
        "duration": 6,
        "start_time": "2023-11-11T21:53:29.245Z"
      },
      {
        "duration": 320,
        "start_time": "2023-11-11T21:53:43.352Z"
      },
      {
        "duration": 7,
        "start_time": "2023-11-11T21:53:45.517Z"
      },
      {
        "duration": 1070,
        "start_time": "2023-11-11T21:54:03.643Z"
      },
      {
        "duration": 7,
        "start_time": "2023-11-11T21:54:05.806Z"
      },
      {
        "duration": 166,
        "start_time": "2023-11-11T21:55:16.303Z"
      },
      {
        "duration": 7,
        "start_time": "2023-11-11T21:55:17.353Z"
      },
      {
        "duration": 26,
        "start_time": "2023-11-11T21:56:17.168Z"
      },
      {
        "duration": 22,
        "start_time": "2023-11-11T21:59:51.997Z"
      },
      {
        "duration": 18,
        "start_time": "2023-11-11T22:00:36.245Z"
      },
      {
        "duration": 50,
        "start_time": "2023-11-11T22:00:51.900Z"
      },
      {
        "duration": 54,
        "start_time": "2023-11-11T22:06:43.140Z"
      },
      {
        "duration": 46,
        "start_time": "2023-11-11T22:06:46.022Z"
      },
      {
        "duration": 8,
        "start_time": "2023-11-11T22:13:20.661Z"
      },
      {
        "duration": 9,
        "start_time": "2023-11-11T22:13:26.929Z"
      },
      {
        "duration": 3,
        "start_time": "2023-11-11T22:18:25.485Z"
      },
      {
        "duration": 7,
        "start_time": "2023-11-11T22:18:30.227Z"
      },
      {
        "duration": 23,
        "start_time": "2023-11-11T22:21:08.040Z"
      },
      {
        "duration": 38,
        "start_time": "2023-11-11T22:22:09.592Z"
      },
      {
        "duration": 11,
        "start_time": "2023-11-11T22:22:29.925Z"
      },
      {
        "duration": 11,
        "start_time": "2023-11-11T22:22:46.703Z"
      },
      {
        "duration": 3,
        "start_time": "2023-11-11T22:26:13.460Z"
      },
      {
        "duration": 8,
        "start_time": "2023-11-11T22:26:14.149Z"
      },
      {
        "duration": 428,
        "start_time": "2023-11-11T22:27:49.885Z"
      },
      {
        "duration": 195,
        "start_time": "2023-11-11T22:27:51.179Z"
      },
      {
        "duration": 15,
        "start_time": "2023-11-11T22:27:52.341Z"
      },
      {
        "duration": 26,
        "start_time": "2023-11-11T22:27:54.144Z"
      },
      {
        "duration": 22,
        "start_time": "2023-11-11T22:27:56.763Z"
      },
      {
        "duration": 17,
        "start_time": "2023-11-11T22:27:59.086Z"
      },
      {
        "duration": 66,
        "start_time": "2023-11-11T22:27:59.999Z"
      },
      {
        "duration": 76,
        "start_time": "2023-11-11T22:28:01.947Z"
      },
      {
        "duration": 69,
        "start_time": "2023-11-11T22:28:06.277Z"
      },
      {
        "duration": 9,
        "start_time": "2023-11-11T22:28:23.947Z"
      },
      {
        "duration": 79,
        "start_time": "2023-11-11T22:28:26.922Z"
      },
      {
        "duration": 9,
        "start_time": "2023-11-11T22:28:32.422Z"
      },
      {
        "duration": 394,
        "start_time": "2023-11-11T22:29:41.673Z"
      },
      {
        "duration": 175,
        "start_time": "2023-11-11T22:29:42.068Z"
      },
      {
        "duration": 16,
        "start_time": "2023-11-11T22:29:42.244Z"
      },
      {
        "duration": 27,
        "start_time": "2023-11-11T22:29:42.262Z"
      },
      {
        "duration": 38,
        "start_time": "2023-11-11T22:29:42.291Z"
      },
      {
        "duration": 16,
        "start_time": "2023-11-11T22:29:42.331Z"
      },
      {
        "duration": 83,
        "start_time": "2023-11-11T22:29:42.348Z"
      },
      {
        "duration": 78,
        "start_time": "2023-11-11T22:29:42.432Z"
      },
      {
        "duration": 3,
        "start_time": "2023-11-11T22:29:49.401Z"
      },
      {
        "duration": 7,
        "start_time": "2023-11-11T22:29:54.047Z"
      },
      {
        "duration": 10,
        "start_time": "2023-11-11T22:30:06.398Z"
      },
      {
        "duration": 77,
        "start_time": "2023-11-11T22:30:07.589Z"
      },
      {
        "duration": 10,
        "start_time": "2023-11-11T22:30:08.459Z"
      },
      {
        "duration": 15,
        "start_time": "2023-11-11T22:30:15.759Z"
      },
      {
        "duration": 28,
        "start_time": "2023-11-11T22:43:22.456Z"
      },
      {
        "duration": 48,
        "start_time": "2023-11-11T22:51:17.925Z"
      },
      {
        "duration": 430,
        "start_time": "2023-11-11T22:51:26.787Z"
      },
      {
        "duration": 507,
        "start_time": "2023-11-11T22:51:27.219Z"
      },
      {
        "duration": 13,
        "start_time": "2023-11-11T22:51:27.728Z"
      },
      {
        "duration": 21,
        "start_time": "2023-11-11T22:51:27.742Z"
      },
      {
        "duration": 18,
        "start_time": "2023-11-11T22:51:27.765Z"
      },
      {
        "duration": 77,
        "start_time": "2023-11-11T22:51:27.785Z"
      },
      {
        "duration": 88,
        "start_time": "2023-11-11T22:51:27.864Z"
      },
      {
        "duration": 4,
        "start_time": "2023-11-11T22:51:27.953Z"
      },
      {
        "duration": 17,
        "start_time": "2023-11-11T22:51:27.959Z"
      },
      {
        "duration": 77,
        "start_time": "2023-11-11T22:51:27.978Z"
      },
      {
        "duration": 11,
        "start_time": "2023-11-11T22:51:28.057Z"
      },
      {
        "duration": 46,
        "start_time": "2023-11-11T22:51:28.069Z"
      },
      {
        "duration": 31,
        "start_time": "2023-11-11T22:51:28.117Z"
      },
      {
        "duration": 9,
        "start_time": "2023-11-11T22:51:44.924Z"
      },
      {
        "duration": 14,
        "start_time": "2023-11-11T22:53:17.027Z"
      },
      {
        "duration": 24,
        "start_time": "2023-11-11T22:53:24.460Z"
      },
      {
        "duration": 22,
        "start_time": "2023-11-11T22:53:32.352Z"
      },
      {
        "duration": 19,
        "start_time": "2023-11-11T22:59:45.406Z"
      },
      {
        "duration": 20,
        "start_time": "2023-11-11T22:59:57.738Z"
      },
      {
        "duration": 8,
        "start_time": "2023-11-11T23:02:39.741Z"
      },
      {
        "duration": 39,
        "start_time": "2023-11-11T23:04:00.083Z"
      },
      {
        "duration": 906,
        "start_time": "2023-11-11T23:07:10.640Z"
      },
      {
        "duration": 28,
        "start_time": "2023-11-11T23:09:18.163Z"
      },
      {
        "duration": 398,
        "start_time": "2023-11-11T23:11:12.655Z"
      },
      {
        "duration": 12,
        "start_time": "2023-11-11T23:12:17.052Z"
      },
      {
        "duration": 15,
        "start_time": "2023-11-11T23:14:06.978Z"
      },
      {
        "duration": 215,
        "start_time": "2023-11-11T23:16:18.113Z"
      },
      {
        "duration": 238,
        "start_time": "2023-11-11T23:21:55.869Z"
      },
      {
        "duration": 246,
        "start_time": "2023-11-11T23:22:33.739Z"
      },
      {
        "duration": 243,
        "start_time": "2023-11-11T23:23:24.602Z"
      },
      {
        "duration": 7,
        "start_time": "2023-11-11T23:23:42.424Z"
      },
      {
        "duration": 23,
        "start_time": "2023-11-11T23:24:25.397Z"
      },
      {
        "duration": 270,
        "start_time": "2023-11-11T23:24:42.779Z"
      },
      {
        "duration": 23,
        "start_time": "2023-11-11T23:25:57.998Z"
      },
      {
        "duration": 244,
        "start_time": "2023-11-11T23:27:44.535Z"
      },
      {
        "duration": 332,
        "start_time": "2023-11-11T23:28:23.292Z"
      },
      {
        "duration": 261,
        "start_time": "2023-11-11T23:28:35.150Z"
      },
      {
        "duration": 293,
        "start_time": "2023-11-11T23:29:04.050Z"
      },
      {
        "duration": 313,
        "start_time": "2023-11-11T23:29:48.794Z"
      },
      {
        "duration": 1190,
        "start_time": "2023-11-13T17:14:34.025Z"
      },
      {
        "duration": 742,
        "start_time": "2023-11-13T17:14:35.217Z"
      },
      {
        "duration": 11,
        "start_time": "2023-11-13T17:14:35.960Z"
      },
      {
        "duration": 22,
        "start_time": "2023-11-13T17:14:35.973Z"
      },
      {
        "duration": 15,
        "start_time": "2023-11-13T17:14:35.997Z"
      },
      {
        "duration": 70,
        "start_time": "2023-11-13T17:14:36.014Z"
      },
      {
        "duration": 75,
        "start_time": "2023-11-13T17:14:36.085Z"
      },
      {
        "duration": 3,
        "start_time": "2023-11-13T17:14:36.161Z"
      },
      {
        "duration": 12,
        "start_time": "2023-11-13T17:14:36.165Z"
      },
      {
        "duration": 80,
        "start_time": "2023-11-13T17:14:36.180Z"
      },
      {
        "duration": 8,
        "start_time": "2023-11-13T17:14:39.062Z"
      },
      {
        "duration": 6,
        "start_time": "2023-11-13T17:15:05.694Z"
      },
      {
        "duration": 25,
        "start_time": "2023-11-13T17:15:10.262Z"
      },
      {
        "duration": 11,
        "start_time": "2023-11-13T17:15:16.060Z"
      },
      {
        "duration": 33,
        "start_time": "2023-11-13T17:19:01.179Z"
      },
      {
        "duration": 84,
        "start_time": "2023-11-13T17:19:05.195Z"
      },
      {
        "duration": 473,
        "start_time": "2023-11-13T17:19:23.550Z"
      },
      {
        "duration": 1043,
        "start_time": "2023-11-13T17:19:38.077Z"
      },
      {
        "duration": 254,
        "start_time": "2023-11-13T17:19:40.101Z"
      },
      {
        "duration": 11,
        "start_time": "2023-11-13T17:19:41.254Z"
      },
      {
        "duration": 21,
        "start_time": "2023-11-13T17:19:42.311Z"
      },
      {
        "duration": 16,
        "start_time": "2023-11-13T17:19:45.676Z"
      },
      {
        "duration": 73,
        "start_time": "2023-11-13T17:19:46.687Z"
      },
      {
        "duration": 69,
        "start_time": "2023-11-13T17:19:48.727Z"
      },
      {
        "duration": 3,
        "start_time": "2023-11-13T17:19:50.733Z"
      },
      {
        "duration": 10,
        "start_time": "2023-11-13T17:19:52.301Z"
      },
      {
        "duration": 78,
        "start_time": "2023-11-13T17:19:53.473Z"
      },
      {
        "duration": 12,
        "start_time": "2023-11-13T17:20:15.493Z"
      },
      {
        "duration": 6,
        "start_time": "2023-11-13T17:20:26.333Z"
      },
      {
        "duration": 27,
        "start_time": "2023-11-13T17:20:28.639Z"
      },
      {
        "duration": 11,
        "start_time": "2023-11-13T17:20:36.739Z"
      },
      {
        "duration": 7,
        "start_time": "2023-11-13T17:31:25.220Z"
      },
      {
        "duration": 26,
        "start_time": "2023-11-13T17:31:37.795Z"
      },
      {
        "duration": 30,
        "start_time": "2023-11-13T17:31:50.489Z"
      },
      {
        "duration": 25,
        "start_time": "2023-11-13T17:33:22.587Z"
      },
      {
        "duration": 22,
        "start_time": "2023-11-13T17:37:44.998Z"
      },
      {
        "duration": 24,
        "start_time": "2023-11-13T17:38:02.075Z"
      },
      {
        "duration": 24,
        "start_time": "2023-11-13T18:11:27.489Z"
      },
      {
        "duration": 20,
        "start_time": "2023-11-13T18:11:48.000Z"
      },
      {
        "duration": 19,
        "start_time": "2023-11-13T18:12:08.770Z"
      },
      {
        "duration": 19,
        "start_time": "2023-11-13T18:12:10.615Z"
      },
      {
        "duration": 26,
        "start_time": "2023-11-13T18:13:12.209Z"
      },
      {
        "duration": 24,
        "start_time": "2023-11-13T18:13:21.874Z"
      },
      {
        "duration": 37,
        "start_time": "2023-11-13T18:13:48.307Z"
      },
      {
        "duration": 5,
        "start_time": "2023-11-13T18:17:54.681Z"
      },
      {
        "duration": 73,
        "start_time": "2023-11-13T18:18:19.908Z"
      },
      {
        "duration": 377,
        "start_time": "2023-11-13T18:18:22.839Z"
      },
      {
        "duration": 11,
        "start_time": "2023-11-13T18:23:22.938Z"
      },
      {
        "duration": 34,
        "start_time": "2023-11-13T18:24:05.733Z"
      },
      {
        "duration": 538,
        "start_time": "2023-11-13T18:25:16.277Z"
      },
      {
        "duration": 29,
        "start_time": "2023-11-13T18:28:02.724Z"
      },
      {
        "duration": 35,
        "start_time": "2023-11-13T18:28:22.296Z"
      },
      {
        "duration": 10,
        "start_time": "2023-11-13T18:29:16.970Z"
      },
      {
        "duration": 3,
        "start_time": "2023-11-13T18:30:16.020Z"
      },
      {
        "duration": 4,
        "start_time": "2023-11-13T18:30:28.590Z"
      },
      {
        "duration": 4,
        "start_time": "2023-11-13T18:31:04.507Z"
      },
      {
        "duration": 9,
        "start_time": "2023-11-13T18:31:10.042Z"
      },
      {
        "duration": 5,
        "start_time": "2023-11-13T18:31:35.379Z"
      },
      {
        "duration": 5,
        "start_time": "2023-11-13T18:31:54.952Z"
      },
      {
        "duration": 6,
        "start_time": "2023-11-13T18:32:52.592Z"
      },
      {
        "duration": 48,
        "start_time": "2023-11-14T09:05:20.500Z"
      },
      {
        "duration": 1251,
        "start_time": "2023-11-14T09:05:31.870Z"
      },
      {
        "duration": 576,
        "start_time": "2023-11-14T09:05:33.124Z"
      },
      {
        "duration": 11,
        "start_time": "2023-11-14T09:05:33.702Z"
      },
      {
        "duration": 22,
        "start_time": "2023-11-14T09:05:33.715Z"
      },
      {
        "duration": 26,
        "start_time": "2023-11-14T09:05:33.739Z"
      },
      {
        "duration": 85,
        "start_time": "2023-11-14T09:05:33.766Z"
      },
      {
        "duration": 76,
        "start_time": "2023-11-14T09:05:33.853Z"
      },
      {
        "duration": 2,
        "start_time": "2023-11-14T09:05:33.942Z"
      },
      {
        "duration": 85,
        "start_time": "2023-11-14T09:05:33.946Z"
      },
      {
        "duration": 8,
        "start_time": "2023-11-14T09:05:34.043Z"
      },
      {
        "duration": 8,
        "start_time": "2023-11-14T09:05:34.052Z"
      },
      {
        "duration": 25,
        "start_time": "2023-11-14T09:05:34.062Z"
      },
      {
        "duration": 11,
        "start_time": "2023-11-14T09:05:34.089Z"
      },
      {
        "duration": 51,
        "start_time": "2023-11-14T09:05:34.101Z"
      },
      {
        "duration": 7,
        "start_time": "2023-11-14T09:05:34.154Z"
      },
      {
        "duration": 23,
        "start_time": "2023-11-14T09:05:34.163Z"
      },
      {
        "duration": 32,
        "start_time": "2023-11-14T09:05:34.187Z"
      },
      {
        "duration": 42,
        "start_time": "2023-11-14T09:05:34.220Z"
      },
      {
        "duration": 21,
        "start_time": "2023-11-14T09:05:34.263Z"
      },
      {
        "duration": 20,
        "start_time": "2023-11-14T09:05:34.286Z"
      },
      {
        "duration": 100,
        "start_time": "2023-11-14T09:05:34.308Z"
      },
      {
        "duration": 344,
        "start_time": "2023-11-14T09:05:34.409Z"
      },
      {
        "duration": 37,
        "start_time": "2023-11-14T09:05:34.755Z"
      },
      {
        "duration": 29,
        "start_time": "2023-11-14T09:05:34.793Z"
      },
      {
        "duration": 34,
        "start_time": "2023-11-14T09:05:34.841Z"
      },
      {
        "duration": 4,
        "start_time": "2023-11-14T09:05:34.877Z"
      },
      {
        "duration": 4,
        "start_time": "2023-11-14T09:05:38.868Z"
      },
      {
        "duration": 11,
        "start_time": "2023-11-14T09:06:24.182Z"
      },
      {
        "duration": 48,
        "start_time": "2023-11-14T09:14:45.769Z"
      },
      {
        "duration": 41,
        "start_time": "2023-11-14T09:16:05.825Z"
      },
      {
        "duration": 32,
        "start_time": "2023-11-14T09:17:23.244Z"
      },
      {
        "duration": 25,
        "start_time": "2023-11-14T09:23:57.852Z"
      },
      {
        "duration": 56,
        "start_time": "2023-11-14T09:30:30.664Z"
      },
      {
        "duration": 56,
        "start_time": "2023-11-14T09:31:05.537Z"
      },
      {
        "duration": 1263,
        "start_time": "2023-11-14T21:22:31.626Z"
      },
      {
        "duration": 591,
        "start_time": "2023-11-14T21:22:32.891Z"
      },
      {
        "duration": 12,
        "start_time": "2023-11-14T21:22:33.484Z"
      },
      {
        "duration": 27,
        "start_time": "2023-11-14T21:22:33.498Z"
      },
      {
        "duration": 27,
        "start_time": "2023-11-14T21:22:33.527Z"
      },
      {
        "duration": 71,
        "start_time": "2023-11-14T21:22:33.556Z"
      },
      {
        "duration": 100,
        "start_time": "2023-11-14T21:22:33.628Z"
      },
      {
        "duration": 2,
        "start_time": "2023-11-14T21:22:33.730Z"
      },
      {
        "duration": 103,
        "start_time": "2023-11-14T21:22:33.734Z"
      },
      {
        "duration": 9,
        "start_time": "2023-11-14T21:22:33.839Z"
      },
      {
        "duration": 16,
        "start_time": "2023-11-14T21:22:33.852Z"
      },
      {
        "duration": 80,
        "start_time": "2023-11-14T21:22:33.870Z"
      },
      {
        "duration": 17,
        "start_time": "2023-11-14T21:22:33.952Z"
      },
      {
        "duration": 55,
        "start_time": "2023-11-14T21:22:33.974Z"
      },
      {
        "duration": 48,
        "start_time": "2023-11-14T21:22:34.031Z"
      },
      {
        "duration": 10,
        "start_time": "2023-11-14T21:22:34.081Z"
      },
      {
        "duration": 26,
        "start_time": "2023-11-14T21:22:34.093Z"
      },
      {
        "duration": 52,
        "start_time": "2023-11-14T21:22:34.121Z"
      },
      {
        "duration": 26,
        "start_time": "2023-11-14T21:22:34.175Z"
      },
      {
        "duration": 19,
        "start_time": "2023-11-14T21:22:34.203Z"
      },
      {
        "duration": 48,
        "start_time": "2023-11-14T21:22:34.223Z"
      },
      {
        "duration": 82,
        "start_time": "2023-11-14T21:22:34.273Z"
      },
      {
        "duration": 346,
        "start_time": "2023-11-14T21:22:34.357Z"
      },
      {
        "duration": 49,
        "start_time": "2023-11-14T21:22:34.704Z"
      },
      {
        "duration": 40,
        "start_time": "2023-11-14T21:22:34.755Z"
      },
      {
        "duration": 60,
        "start_time": "2023-11-14T21:22:34.797Z"
      },
      {
        "duration": 3,
        "start_time": "2023-11-14T21:22:34.859Z"
      },
      {
        "duration": 6,
        "start_time": "2023-11-14T21:22:34.863Z"
      },
      {
        "duration": 9,
        "start_time": "2023-11-14T21:22:34.870Z"
      },
      {
        "duration": 37,
        "start_time": "2023-11-14T21:22:34.880Z"
      },
      {
        "duration": 57,
        "start_time": "2023-11-14T21:22:34.918Z"
      },
      {
        "duration": 60,
        "start_time": "2023-11-14T21:22:43.450Z"
      },
      {
        "duration": 53,
        "start_time": "2023-11-14T21:22:49.360Z"
      },
      {
        "duration": 6,
        "start_time": "2023-11-14T21:22:55.533Z"
      },
      {
        "duration": 5,
        "start_time": "2023-11-14T21:24:05.158Z"
      },
      {
        "duration": 7,
        "start_time": "2023-11-14T21:24:10.368Z"
      },
      {
        "duration": 4,
        "start_time": "2023-11-14T21:24:26.582Z"
      },
      {
        "duration": 7,
        "start_time": "2023-11-14T21:24:27.708Z"
      },
      {
        "duration": 65,
        "start_time": "2023-11-14T21:26:48.558Z"
      },
      {
        "duration": 55,
        "start_time": "2023-11-14T21:28:40.558Z"
      },
      {
        "duration": 1360,
        "start_time": "2023-11-14T21:31:13.699Z"
      },
      {
        "duration": 5,
        "start_time": "2023-11-14T21:31:21.938Z"
      },
      {
        "duration": 4,
        "start_time": "2023-11-14T21:31:34.755Z"
      },
      {
        "duration": 8,
        "start_time": "2023-11-14T21:33:49.982Z"
      },
      {
        "duration": 3,
        "start_time": "2023-11-14T21:33:58.379Z"
      },
      {
        "duration": 3,
        "start_time": "2023-11-14T21:34:15.253Z"
      },
      {
        "duration": 10,
        "start_time": "2023-11-14T21:34:46.180Z"
      },
      {
        "duration": 3,
        "start_time": "2023-11-14T21:35:04.119Z"
      },
      {
        "duration": 9,
        "start_time": "2023-11-14T21:38:39.450Z"
      },
      {
        "duration": 8,
        "start_time": "2023-11-14T21:39:23.917Z"
      },
      {
        "duration": 9,
        "start_time": "2023-11-14T21:39:31.413Z"
      },
      {
        "duration": 8,
        "start_time": "2023-11-14T21:40:12.864Z"
      },
      {
        "duration": 4,
        "start_time": "2023-11-14T21:41:00.161Z"
      },
      {
        "duration": 10,
        "start_time": "2023-11-14T21:41:06.456Z"
      },
      {
        "duration": 8,
        "start_time": "2023-11-14T21:41:25.902Z"
      },
      {
        "duration": 5,
        "start_time": "2023-11-14T21:41:49.309Z"
      },
      {
        "duration": 4,
        "start_time": "2023-11-14T21:42:04.427Z"
      },
      {
        "duration": 10,
        "start_time": "2023-11-14T21:42:15.349Z"
      },
      {
        "duration": 12,
        "start_time": "2023-11-14T21:42:32.849Z"
      },
      {
        "duration": 11,
        "start_time": "2023-11-14T21:48:05.589Z"
      },
      {
        "duration": 9,
        "start_time": "2023-11-14T21:48:14.757Z"
      },
      {
        "duration": 1261,
        "start_time": "2023-11-14T21:48:34.073Z"
      },
      {
        "duration": 4,
        "start_time": "2023-11-14T21:48:56.416Z"
      },
      {
        "duration": 1418,
        "start_time": "2023-11-14T21:49:14.689Z"
      },
      {
        "duration": 1222,
        "start_time": "2023-11-14T21:49:19.571Z"
      },
      {
        "duration": 5,
        "start_time": "2023-11-14T21:49:26.330Z"
      },
      {
        "duration": 5,
        "start_time": "2023-11-14T21:49:42.348Z"
      },
      {
        "duration": 3,
        "start_time": "2023-11-14T21:50:01.693Z"
      },
      {
        "duration": 4,
        "start_time": "2023-11-14T21:50:23.105Z"
      },
      {
        "duration": 4,
        "start_time": "2023-11-14T21:50:41.128Z"
      },
      {
        "duration": 3,
        "start_time": "2023-11-14T21:50:56.993Z"
      },
      {
        "duration": 4,
        "start_time": "2023-11-14T21:51:25.859Z"
      },
      {
        "duration": 4,
        "start_time": "2023-11-14T21:51:34.901Z"
      },
      {
        "duration": 78,
        "start_time": "2023-11-14T21:51:54.229Z"
      },
      {
        "duration": 4,
        "start_time": "2023-11-14T21:52:06.705Z"
      },
      {
        "duration": 13,
        "start_time": "2023-11-14T21:53:07.733Z"
      },
      {
        "duration": 14,
        "start_time": "2023-11-14T21:54:25.705Z"
      },
      {
        "duration": 4,
        "start_time": "2023-11-14T22:02:22.667Z"
      },
      {
        "duration": 3,
        "start_time": "2023-11-14T22:02:41.848Z"
      },
      {
        "duration": 3,
        "start_time": "2023-11-14T22:02:51.389Z"
      },
      {
        "duration": 3,
        "start_time": "2023-11-14T22:03:10.717Z"
      },
      {
        "duration": 2,
        "start_time": "2023-11-14T22:03:22.839Z"
      },
      {
        "duration": 3,
        "start_time": "2023-11-14T22:05:09.521Z"
      },
      {
        "duration": 6,
        "start_time": "2023-11-14T22:05:36.370Z"
      },
      {
        "duration": 17,
        "start_time": "2023-11-14T22:05:53.631Z"
      },
      {
        "duration": 13,
        "start_time": "2023-11-14T22:06:21.352Z"
      },
      {
        "duration": 7,
        "start_time": "2023-11-14T22:15:56.933Z"
      },
      {
        "duration": 5,
        "start_time": "2023-11-14T22:16:51.258Z"
      },
      {
        "duration": 5,
        "start_time": "2023-11-14T22:20:42.211Z"
      },
      {
        "duration": 11,
        "start_time": "2023-11-14T22:20:47.056Z"
      },
      {
        "duration": 80,
        "start_time": "2023-11-14T22:22:14.175Z"
      },
      {
        "duration": 63,
        "start_time": "2023-11-14T22:22:27.423Z"
      },
      {
        "duration": 3,
        "start_time": "2023-11-14T22:22:32.647Z"
      },
      {
        "duration": 8,
        "start_time": "2023-11-14T22:22:33.930Z"
      },
      {
        "duration": 3,
        "start_time": "2023-11-14T22:22:53.554Z"
      },
      {
        "duration": 9,
        "start_time": "2023-11-14T22:22:58.158Z"
      },
      {
        "duration": 4,
        "start_time": "2023-11-14T22:23:15.720Z"
      },
      {
        "duration": 9,
        "start_time": "2023-11-14T22:23:18.520Z"
      },
      {
        "duration": 53,
        "start_time": "2023-11-14T22:23:30.191Z"
      },
      {
        "duration": 4,
        "start_time": "2023-11-14T22:23:33.913Z"
      },
      {
        "duration": 8,
        "start_time": "2023-11-14T22:23:35.531Z"
      },
      {
        "duration": 8,
        "start_time": "2023-11-14T22:23:42.602Z"
      },
      {
        "duration": 63,
        "start_time": "2023-11-14T22:23:47.603Z"
      },
      {
        "duration": 7,
        "start_time": "2023-11-14T22:23:51.535Z"
      },
      {
        "duration": 4,
        "start_time": "2023-11-14T22:23:56.429Z"
      },
      {
        "duration": 9,
        "start_time": "2023-11-14T22:23:58.317Z"
      },
      {
        "duration": 5,
        "start_time": "2023-11-14T22:24:15.261Z"
      },
      {
        "duration": 9,
        "start_time": "2023-11-14T22:24:17.322Z"
      },
      {
        "duration": 1028,
        "start_time": "2023-11-14T22:26:11.681Z"
      },
      {
        "duration": 231,
        "start_time": "2023-11-14T22:26:12.711Z"
      },
      {
        "duration": 13,
        "start_time": "2023-11-14T22:26:12.944Z"
      },
      {
        "duration": 20,
        "start_time": "2023-11-14T22:26:12.958Z"
      },
      {
        "duration": 16,
        "start_time": "2023-11-14T22:26:12.980Z"
      },
      {
        "duration": 85,
        "start_time": "2023-11-14T22:26:12.998Z"
      },
      {
        "duration": 91,
        "start_time": "2023-11-14T22:26:13.085Z"
      },
      {
        "duration": 3,
        "start_time": "2023-11-14T22:26:13.178Z"
      },
      {
        "duration": 92,
        "start_time": "2023-11-14T22:26:13.183Z"
      },
      {
        "duration": 9,
        "start_time": "2023-11-14T22:26:13.277Z"
      },
      {
        "duration": 8,
        "start_time": "2023-11-14T22:26:13.288Z"
      },
      {
        "duration": 24,
        "start_time": "2023-11-14T22:26:13.297Z"
      },
      {
        "duration": 33,
        "start_time": "2023-11-14T22:26:13.323Z"
      },
      {
        "duration": 44,
        "start_time": "2023-11-14T22:26:13.361Z"
      },
      {
        "duration": 26,
        "start_time": "2023-11-14T22:26:13.407Z"
      },
      {
        "duration": 9,
        "start_time": "2023-11-14T22:26:13.452Z"
      },
      {
        "duration": 23,
        "start_time": "2023-11-14T22:26:13.462Z"
      },
      {
        "duration": 24,
        "start_time": "2023-11-14T22:26:13.486Z"
      },
      {
        "duration": 49,
        "start_time": "2023-11-14T22:26:13.511Z"
      },
      {
        "duration": 19,
        "start_time": "2023-11-14T22:26:13.561Z"
      },
      {
        "duration": 18,
        "start_time": "2023-11-14T22:26:13.582Z"
      },
      {
        "duration": 91,
        "start_time": "2023-11-14T22:26:13.601Z"
      },
      {
        "duration": 353,
        "start_time": "2023-11-14T22:26:13.694Z"
      },
      {
        "duration": 35,
        "start_time": "2023-11-14T22:26:14.052Z"
      },
      {
        "duration": 29,
        "start_time": "2023-11-14T22:26:14.089Z"
      },
      {
        "duration": 49,
        "start_time": "2023-11-14T22:26:14.120Z"
      },
      {
        "duration": 4,
        "start_time": "2023-11-14T22:26:14.171Z"
      },
      {
        "duration": 5,
        "start_time": "2023-11-14T22:26:14.177Z"
      },
      {
        "duration": 6,
        "start_time": "2023-11-14T22:26:14.183Z"
      },
      {
        "duration": 32,
        "start_time": "2023-11-14T22:26:14.190Z"
      },
      {
        "duration": 28,
        "start_time": "2023-11-14T22:26:14.252Z"
      },
      {
        "duration": 51,
        "start_time": "2023-11-14T22:26:14.282Z"
      },
      {
        "duration": 72,
        "start_time": "2023-11-14T22:26:14.335Z"
      },
      {
        "duration": 4,
        "start_time": "2023-11-14T22:26:20.286Z"
      },
      {
        "duration": 10,
        "start_time": "2023-11-14T22:26:26.449Z"
      },
      {
        "duration": 3,
        "start_time": "2023-11-14T22:26:44.734Z"
      },
      {
        "duration": 13,
        "start_time": "2023-11-14T22:26:47.280Z"
      },
      {
        "duration": 1361,
        "start_time": "2023-11-15T13:48:58.351Z"
      },
      {
        "duration": 636,
        "start_time": "2023-11-15T13:48:59.714Z"
      },
      {
        "duration": 26,
        "start_time": "2023-11-15T13:49:00.352Z"
      },
      {
        "duration": 32,
        "start_time": "2023-11-15T13:49:00.380Z"
      },
      {
        "duration": 42,
        "start_time": "2023-11-15T13:49:00.414Z"
      },
      {
        "duration": 108,
        "start_time": "2023-11-15T13:49:00.458Z"
      },
      {
        "duration": 88,
        "start_time": "2023-11-15T13:49:00.570Z"
      },
      {
        "duration": 3,
        "start_time": "2023-11-15T13:49:00.662Z"
      },
      {
        "duration": 142,
        "start_time": "2023-11-15T13:49:00.667Z"
      },
      {
        "duration": 9,
        "start_time": "2023-11-15T13:49:00.812Z"
      },
      {
        "duration": 47,
        "start_time": "2023-11-15T13:49:00.822Z"
      },
      {
        "duration": 59,
        "start_time": "2023-11-15T13:49:00.871Z"
      },
      {
        "duration": 45,
        "start_time": "2023-11-15T13:49:00.931Z"
      },
      {
        "duration": 75,
        "start_time": "2023-11-15T13:49:00.979Z"
      },
      {
        "duration": 29,
        "start_time": "2023-11-15T13:49:01.062Z"
      },
      {
        "duration": 44,
        "start_time": "2023-11-15T13:49:01.093Z"
      },
      {
        "duration": 43,
        "start_time": "2023-11-15T13:49:01.140Z"
      },
      {
        "duration": 42,
        "start_time": "2023-11-15T13:49:01.185Z"
      },
      {
        "duration": 40,
        "start_time": "2023-11-15T13:49:01.229Z"
      },
      {
        "duration": 26,
        "start_time": "2023-11-15T13:49:01.271Z"
      },
      {
        "duration": 45,
        "start_time": "2023-11-15T13:49:01.299Z"
      },
      {
        "duration": 89,
        "start_time": "2023-11-15T13:49:01.346Z"
      },
      {
        "duration": 432,
        "start_time": "2023-11-15T13:49:01.437Z"
      },
      {
        "duration": 37,
        "start_time": "2023-11-15T13:49:01.871Z"
      },
      {
        "duration": 87,
        "start_time": "2023-11-15T13:49:01.910Z"
      },
      {
        "duration": 40,
        "start_time": "2023-11-15T13:49:02.000Z"
      },
      {
        "duration": 8,
        "start_time": "2023-11-15T13:49:02.042Z"
      },
      {
        "duration": 7,
        "start_time": "2023-11-15T13:49:02.054Z"
      },
      {
        "duration": 19,
        "start_time": "2023-11-15T13:49:02.064Z"
      },
      {
        "duration": 35,
        "start_time": "2023-11-15T13:49:02.085Z"
      },
      {
        "duration": 44,
        "start_time": "2023-11-15T13:49:02.122Z"
      },
      {
        "duration": 73,
        "start_time": "2023-11-15T13:49:02.168Z"
      },
      {
        "duration": 94,
        "start_time": "2023-11-15T13:49:02.251Z"
      },
      {
        "duration": 18,
        "start_time": "2023-11-15T13:49:02.351Z"
      },
      {
        "duration": 1107,
        "start_time": "2023-11-15T13:55:45.907Z"
      },
      {
        "duration": 240,
        "start_time": "2023-11-15T13:55:47.016Z"
      },
      {
        "duration": 12,
        "start_time": "2023-11-15T13:55:47.258Z"
      },
      {
        "duration": 30,
        "start_time": "2023-11-15T13:55:47.272Z"
      },
      {
        "duration": 17,
        "start_time": "2023-11-15T13:55:47.304Z"
      },
      {
        "duration": 97,
        "start_time": "2023-11-15T13:55:47.323Z"
      },
      {
        "duration": 99,
        "start_time": "2023-11-15T13:55:47.421Z"
      },
      {
        "duration": 3,
        "start_time": "2023-11-15T13:55:47.522Z"
      },
      {
        "duration": 115,
        "start_time": "2023-11-15T13:55:47.527Z"
      },
      {
        "duration": 12,
        "start_time": "2023-11-15T13:55:47.646Z"
      },
      {
        "duration": 10,
        "start_time": "2023-11-15T13:55:47.660Z"
      },
      {
        "duration": 33,
        "start_time": "2023-11-15T13:55:47.672Z"
      },
      {
        "duration": 42,
        "start_time": "2023-11-15T13:55:47.706Z"
      },
      {
        "duration": 57,
        "start_time": "2023-11-15T13:55:47.750Z"
      },
      {
        "duration": 42,
        "start_time": "2023-11-15T13:55:47.808Z"
      },
      {
        "duration": 11,
        "start_time": "2023-11-15T13:55:47.853Z"
      },
      {
        "duration": 35,
        "start_time": "2023-11-15T13:55:47.866Z"
      },
      {
        "duration": 71,
        "start_time": "2023-11-15T13:55:47.902Z"
      },
      {
        "duration": 43,
        "start_time": "2023-11-15T13:55:47.976Z"
      },
      {
        "duration": 39,
        "start_time": "2023-11-15T13:55:48.021Z"
      },
      {
        "duration": 46,
        "start_time": "2023-11-15T13:55:48.063Z"
      },
      {
        "duration": 78,
        "start_time": "2023-11-15T13:55:48.112Z"
      },
      {
        "duration": 348,
        "start_time": "2023-11-15T13:55:48.191Z"
      },
      {
        "duration": 37,
        "start_time": "2023-11-15T13:55:48.540Z"
      },
      {
        "duration": 63,
        "start_time": "2023-11-15T13:55:48.579Z"
      },
      {
        "duration": 38,
        "start_time": "2023-11-15T13:55:48.644Z"
      },
      {
        "duration": 4,
        "start_time": "2023-11-15T13:55:48.684Z"
      },
      {
        "duration": 20,
        "start_time": "2023-11-15T13:55:48.692Z"
      },
      {
        "duration": 29,
        "start_time": "2023-11-15T13:55:48.714Z"
      },
      {
        "duration": 49,
        "start_time": "2023-11-15T13:55:48.745Z"
      },
      {
        "duration": 25,
        "start_time": "2023-11-15T13:55:48.795Z"
      },
      {
        "duration": 79,
        "start_time": "2023-11-15T13:55:48.821Z"
      },
      {
        "duration": 62,
        "start_time": "2023-11-15T13:55:48.901Z"
      },
      {
        "duration": 5,
        "start_time": "2023-11-15T13:56:24.382Z"
      },
      {
        "duration": 10,
        "start_time": "2023-11-15T13:58:23.861Z"
      },
      {
        "duration": 10,
        "start_time": "2023-11-15T14:00:30.107Z"
      },
      {
        "duration": 76,
        "start_time": "2023-11-15T14:00:43.649Z"
      },
      {
        "duration": 12,
        "start_time": "2023-11-15T14:20:33.194Z"
      },
      {
        "duration": 115,
        "start_time": "2023-11-15T14:32:19.405Z"
      },
      {
        "duration": 10,
        "start_time": "2023-11-15T14:32:29.009Z"
      },
      {
        "duration": 47,
        "start_time": "2023-11-15T14:33:43.760Z"
      },
      {
        "duration": 40,
        "start_time": "2023-11-15T14:56:14.706Z"
      },
      {
        "duration": 56,
        "start_time": "2023-11-15T14:56:28.654Z"
      },
      {
        "duration": 2169,
        "start_time": "2023-11-15T14:56:37.986Z"
      },
      {
        "duration": 53,
        "start_time": "2023-11-15T14:58:04.931Z"
      },
      {
        "duration": 55,
        "start_time": "2023-11-15T14:58:23.383Z"
      },
      {
        "duration": 72,
        "start_time": "2023-11-15T14:58:25.849Z"
      },
      {
        "duration": 55,
        "start_time": "2023-11-15T14:59:27.914Z"
      },
      {
        "duration": 82,
        "start_time": "2023-11-15T14:59:34.151Z"
      },
      {
        "duration": 70,
        "start_time": "2023-11-15T14:59:52.655Z"
      },
      {
        "duration": 12,
        "start_time": "2023-11-15T15:01:35.211Z"
      },
      {
        "duration": 93,
        "start_time": "2023-11-15T15:01:43.368Z"
      },
      {
        "duration": 56,
        "start_time": "2023-11-15T15:03:15.407Z"
      },
      {
        "duration": 14,
        "start_time": "2023-11-15T15:03:22.884Z"
      },
      {
        "duration": 95,
        "start_time": "2023-11-15T15:03:46.760Z"
      },
      {
        "duration": 46,
        "start_time": "2023-11-15T15:04:35.419Z"
      },
      {
        "duration": 11,
        "start_time": "2023-11-15T15:07:21.349Z"
      },
      {
        "duration": 10,
        "start_time": "2023-11-15T15:08:42.697Z"
      },
      {
        "duration": 15,
        "start_time": "2023-11-15T15:10:48.734Z"
      },
      {
        "duration": 7,
        "start_time": "2023-11-15T15:11:19.990Z"
      },
      {
        "duration": 4,
        "start_time": "2023-11-15T15:24:59.932Z"
      },
      {
        "duration": 4,
        "start_time": "2023-11-15T15:27:02.967Z"
      },
      {
        "duration": 15,
        "start_time": "2023-11-15T15:27:16.209Z"
      },
      {
        "duration": 4,
        "start_time": "2023-11-15T15:28:00.288Z"
      },
      {
        "duration": 13,
        "start_time": "2023-11-15T15:28:18.622Z"
      },
      {
        "duration": 6,
        "start_time": "2023-11-15T15:28:47.878Z"
      },
      {
        "duration": 6,
        "start_time": "2023-11-15T15:28:54.316Z"
      },
      {
        "duration": 12,
        "start_time": "2023-11-15T15:30:33.916Z"
      },
      {
        "duration": 114,
        "start_time": "2023-11-15T15:32:39.016Z"
      },
      {
        "duration": 89,
        "start_time": "2023-11-15T16:03:21.459Z"
      },
      {
        "duration": 7,
        "start_time": "2023-11-15T16:04:33.903Z"
      },
      {
        "duration": 13,
        "start_time": "2023-11-15T16:05:09.349Z"
      },
      {
        "duration": 112,
        "start_time": "2023-11-15T16:05:16.547Z"
      },
      {
        "duration": 111,
        "start_time": "2023-11-15T16:05:44.774Z"
      },
      {
        "duration": 8,
        "start_time": "2023-11-15T16:06:43.101Z"
      },
      {
        "duration": 109,
        "start_time": "2023-11-15T16:06:47.067Z"
      },
      {
        "duration": 10,
        "start_time": "2023-11-15T16:07:29.253Z"
      },
      {
        "duration": 122,
        "start_time": "2023-11-15T16:07:31.659Z"
      },
      {
        "duration": 7,
        "start_time": "2023-11-15T16:07:43.598Z"
      },
      {
        "duration": 111,
        "start_time": "2023-11-15T16:07:46.085Z"
      },
      {
        "duration": 103,
        "start_time": "2023-11-15T16:09:37.366Z"
      },
      {
        "duration": 149,
        "start_time": "2023-11-15T16:10:08.535Z"
      },
      {
        "duration": 108,
        "start_time": "2023-11-15T16:10:37.820Z"
      },
      {
        "duration": 138,
        "start_time": "2023-11-15T16:15:54.515Z"
      },
      {
        "duration": 105,
        "start_time": "2023-11-15T16:16:14.982Z"
      },
      {
        "duration": 100,
        "start_time": "2023-11-15T16:16:28.390Z"
      },
      {
        "duration": 145,
        "start_time": "2023-11-15T16:16:48.053Z"
      },
      {
        "duration": 114,
        "start_time": "2023-11-15T16:17:07.616Z"
      },
      {
        "duration": 134,
        "start_time": "2023-11-15T16:17:16.555Z"
      },
      {
        "duration": 117,
        "start_time": "2023-11-15T16:17:31.695Z"
      },
      {
        "duration": 8,
        "start_time": "2023-11-15T16:18:00.987Z"
      },
      {
        "duration": 125,
        "start_time": "2023-11-15T16:18:05.049Z"
      },
      {
        "duration": 122,
        "start_time": "2023-11-15T16:18:17.533Z"
      },
      {
        "duration": 124,
        "start_time": "2023-11-15T17:02:27.987Z"
      },
      {
        "duration": 7,
        "start_time": "2023-11-15T17:02:48.207Z"
      },
      {
        "duration": 9,
        "start_time": "2023-11-15T17:03:42.833Z"
      },
      {
        "duration": 7,
        "start_time": "2023-11-15T17:04:34.766Z"
      },
      {
        "duration": 97,
        "start_time": "2023-11-15T17:04:59.374Z"
      },
      {
        "duration": 138,
        "start_time": "2023-11-15T17:05:02.847Z"
      },
      {
        "duration": 11,
        "start_time": "2023-11-15T17:13:00.355Z"
      },
      {
        "duration": 131,
        "start_time": "2023-11-15T17:13:03.739Z"
      },
      {
        "duration": 7,
        "start_time": "2023-11-15T17:15:13.696Z"
      },
      {
        "duration": 9,
        "start_time": "2023-11-15T17:16:06.492Z"
      },
      {
        "duration": 842,
        "start_time": "2023-11-15T17:16:13.076Z"
      },
      {
        "duration": 14,
        "start_time": "2023-11-15T17:18:18.781Z"
      },
      {
        "duration": 103,
        "start_time": "2023-11-15T17:18:37.285Z"
      },
      {
        "duration": 8,
        "start_time": "2023-11-15T17:18:48.716Z"
      },
      {
        "duration": 96,
        "start_time": "2023-11-15T17:19:08.810Z"
      },
      {
        "duration": 12,
        "start_time": "2023-11-15T17:19:43.248Z"
      },
      {
        "duration": 102,
        "start_time": "2023-11-15T17:19:46.842Z"
      },
      {
        "duration": 10,
        "start_time": "2023-11-15T17:20:25.659Z"
      },
      {
        "duration": 99,
        "start_time": "2023-11-15T17:20:28.670Z"
      },
      {
        "duration": 93,
        "start_time": "2023-11-15T17:21:00.881Z"
      },
      {
        "duration": 10,
        "start_time": "2023-11-15T17:32:25.151Z"
      },
      {
        "duration": 95,
        "start_time": "2023-11-15T17:32:29.105Z"
      },
      {
        "duration": 10,
        "start_time": "2023-11-15T17:33:45.596Z"
      },
      {
        "duration": 94,
        "start_time": "2023-11-15T17:33:47.853Z"
      },
      {
        "duration": 10,
        "start_time": "2023-11-15T17:34:19.327Z"
      },
      {
        "duration": 87,
        "start_time": "2023-11-15T17:34:20.247Z"
      },
      {
        "duration": 34,
        "start_time": "2023-11-15T17:35:37.714Z"
      },
      {
        "duration": 63,
        "start_time": "2023-11-15T17:36:01.914Z"
      },
      {
        "duration": 102,
        "start_time": "2023-11-15T17:36:56.590Z"
      },
      {
        "duration": 85,
        "start_time": "2023-11-15T17:38:59.628Z"
      },
      {
        "duration": 89,
        "start_time": "2023-11-15T17:39:08.542Z"
      },
      {
        "duration": 85,
        "start_time": "2023-11-15T17:39:51.788Z"
      },
      {
        "duration": 93,
        "start_time": "2023-11-15T17:40:02.291Z"
      },
      {
        "duration": 10,
        "start_time": "2023-11-15T17:41:29.350Z"
      },
      {
        "duration": 1120,
        "start_time": "2023-11-15T17:41:57.223Z"
      },
      {
        "duration": 255,
        "start_time": "2023-11-15T17:41:58.345Z"
      },
      {
        "duration": 11,
        "start_time": "2023-11-15T17:41:58.602Z"
      },
      {
        "duration": 32,
        "start_time": "2023-11-15T17:41:58.615Z"
      },
      {
        "duration": 18,
        "start_time": "2023-11-15T17:41:58.649Z"
      },
      {
        "duration": 89,
        "start_time": "2023-11-15T17:41:58.669Z"
      },
      {
        "duration": 88,
        "start_time": "2023-11-15T17:41:58.761Z"
      },
      {
        "duration": 3,
        "start_time": "2023-11-15T17:41:58.851Z"
      },
      {
        "duration": 89,
        "start_time": "2023-11-15T17:41:58.856Z"
      },
      {
        "duration": 9,
        "start_time": "2023-11-15T17:41:58.948Z"
      },
      {
        "duration": 8,
        "start_time": "2023-11-15T17:41:58.959Z"
      },
      {
        "duration": 27,
        "start_time": "2023-11-15T17:41:58.969Z"
      },
      {
        "duration": 11,
        "start_time": "2023-11-15T17:41:58.997Z"
      },
      {
        "duration": 74,
        "start_time": "2023-11-15T17:41:59.009Z"
      },
      {
        "duration": 26,
        "start_time": "2023-11-15T17:41:59.084Z"
      },
      {
        "duration": 7,
        "start_time": "2023-11-15T17:41:59.111Z"
      },
      {
        "duration": 23,
        "start_time": "2023-11-15T17:41:59.142Z"
      },
      {
        "duration": 24,
        "start_time": "2023-11-15T17:41:59.167Z"
      },
      {
        "duration": 50,
        "start_time": "2023-11-15T17:41:59.193Z"
      },
      {
        "duration": 20,
        "start_time": "2023-11-15T17:41:59.244Z"
      },
      {
        "duration": 18,
        "start_time": "2023-11-15T17:41:59.265Z"
      },
      {
        "duration": 94,
        "start_time": "2023-11-15T17:41:59.285Z"
      },
      {
        "duration": 375,
        "start_time": "2023-11-15T17:41:59.380Z"
      },
      {
        "duration": 39,
        "start_time": "2023-11-15T17:41:59.758Z"
      },
      {
        "duration": 51,
        "start_time": "2023-11-15T17:41:59.799Z"
      },
      {
        "duration": 37,
        "start_time": "2023-11-15T17:41:59.851Z"
      },
      {
        "duration": 4,
        "start_time": "2023-11-15T17:41:59.890Z"
      },
      {
        "duration": 5,
        "start_time": "2023-11-15T17:41:59.900Z"
      },
      {
        "duration": 36,
        "start_time": "2023-11-15T17:41:59.907Z"
      },
      {
        "duration": 43,
        "start_time": "2023-11-15T17:41:59.946Z"
      },
      {
        "duration": 51,
        "start_time": "2023-11-15T17:41:59.991Z"
      },
      {
        "duration": 73,
        "start_time": "2023-11-15T17:42:00.044Z"
      },
      {
        "duration": 60,
        "start_time": "2023-11-15T17:42:00.118Z"
      },
      {
        "duration": 11,
        "start_time": "2023-11-15T17:42:00.179Z"
      },
      {
        "duration": 64,
        "start_time": "2023-11-15T17:42:00.191Z"
      },
      {
        "duration": 99,
        "start_time": "2023-11-15T17:42:00.257Z"
      },
      {
        "duration": 10,
        "start_time": "2023-11-15T17:42:00.357Z"
      },
      {
        "duration": 144,
        "start_time": "2023-11-15T17:42:00.369Z"
      },
      {
        "duration": 93,
        "start_time": "2023-11-15T17:42:00.514Z"
      },
      {
        "duration": 112,
        "start_time": "2023-11-15T17:42:00.609Z"
      },
      {
        "duration": 119,
        "start_time": "2023-11-15T17:42:00.723Z"
      },
      {
        "duration": 87,
        "start_time": "2023-11-15T17:42:00.843Z"
      },
      {
        "duration": 87,
        "start_time": "2023-11-15T17:42:00.942Z"
      },
      {
        "duration": 102,
        "start_time": "2023-11-15T17:42:01.031Z"
      },
      {
        "duration": 106,
        "start_time": "2023-11-15T17:42:01.143Z"
      },
      {
        "duration": 97,
        "start_time": "2023-11-15T17:42:01.250Z"
      },
      {
        "duration": 98,
        "start_time": "2023-11-15T17:42:01.349Z"
      },
      {
        "duration": 95,
        "start_time": "2023-11-15T17:42:01.448Z"
      },
      {
        "duration": 87,
        "start_time": "2023-11-15T17:46:59.675Z"
      },
      {
        "duration": 102,
        "start_time": "2023-11-15T17:47:17.384Z"
      },
      {
        "duration": 87,
        "start_time": "2023-11-15T17:47:34.884Z"
      },
      {
        "duration": 89,
        "start_time": "2023-11-15T17:47:49.397Z"
      },
      {
        "duration": 10,
        "start_time": "2023-11-15T19:02:42.781Z"
      },
      {
        "duration": 93,
        "start_time": "2023-11-15T19:02:46.841Z"
      },
      {
        "duration": 10,
        "start_time": "2023-11-15T19:02:54.550Z"
      },
      {
        "duration": 989,
        "start_time": "2023-11-15T19:04:54.596Z"
      },
      {
        "duration": 251,
        "start_time": "2023-11-15T19:04:55.587Z"
      },
      {
        "duration": 12,
        "start_time": "2023-11-15T19:04:55.839Z"
      },
      {
        "duration": 46,
        "start_time": "2023-11-15T19:04:55.852Z"
      },
      {
        "duration": 29,
        "start_time": "2023-11-15T19:04:55.900Z"
      },
      {
        "duration": 73,
        "start_time": "2023-11-15T19:04:55.930Z"
      },
      {
        "duration": 77,
        "start_time": "2023-11-15T19:04:56.004Z"
      },
      {
        "duration": 3,
        "start_time": "2023-11-15T19:04:56.082Z"
      },
      {
        "duration": 96,
        "start_time": "2023-11-15T19:04:56.086Z"
      },
      {
        "duration": 8,
        "start_time": "2023-11-15T19:04:56.184Z"
      },
      {
        "duration": 43,
        "start_time": "2023-11-15T19:04:56.193Z"
      },
      {
        "duration": 59,
        "start_time": "2023-11-15T19:04:56.237Z"
      },
      {
        "duration": 32,
        "start_time": "2023-11-15T19:04:56.298Z"
      },
      {
        "duration": 48,
        "start_time": "2023-11-15T19:04:56.333Z"
      },
      {
        "duration": 25,
        "start_time": "2023-11-15T19:04:56.382Z"
      },
      {
        "duration": 24,
        "start_time": "2023-11-15T19:04:56.409Z"
      },
      {
        "duration": 38,
        "start_time": "2023-11-15T19:04:56.434Z"
      },
      {
        "duration": 22,
        "start_time": "2023-11-15T19:04:56.474Z"
      },
      {
        "duration": 22,
        "start_time": "2023-11-15T19:04:56.498Z"
      },
      {
        "duration": 27,
        "start_time": "2023-11-15T19:04:56.522Z"
      },
      {
        "duration": 36,
        "start_time": "2023-11-15T19:04:56.551Z"
      },
      {
        "duration": 86,
        "start_time": "2023-11-15T19:04:56.588Z"
      },
      {
        "duration": 345,
        "start_time": "2023-11-15T19:04:56.676Z"
      },
      {
        "duration": 43,
        "start_time": "2023-11-15T19:04:57.023Z"
      },
      {
        "duration": 29,
        "start_time": "2023-11-15T19:04:57.068Z"
      },
      {
        "duration": 52,
        "start_time": "2023-11-15T19:04:57.099Z"
      },
      {
        "duration": 5,
        "start_time": "2023-11-15T19:04:57.153Z"
      },
      {
        "duration": 7,
        "start_time": "2023-11-15T19:04:57.159Z"
      },
      {
        "duration": 8,
        "start_time": "2023-11-15T19:04:57.167Z"
      },
      {
        "duration": 37,
        "start_time": "2023-11-15T19:04:57.177Z"
      },
      {
        "duration": 27,
        "start_time": "2023-11-15T19:04:57.242Z"
      },
      {
        "duration": 54,
        "start_time": "2023-11-15T19:04:57.270Z"
      },
      {
        "duration": 69,
        "start_time": "2023-11-15T19:04:57.326Z"
      },
      {
        "duration": 10,
        "start_time": "2023-11-15T19:04:57.397Z"
      },
      {
        "duration": 54,
        "start_time": "2023-11-15T19:04:57.408Z"
      },
      {
        "duration": 101,
        "start_time": "2023-11-15T19:04:57.463Z"
      },
      {
        "duration": 10,
        "start_time": "2023-11-15T19:04:57.566Z"
      },
      {
        "duration": 102,
        "start_time": "2023-11-15T19:04:57.578Z"
      },
      {
        "duration": 111,
        "start_time": "2023-11-15T19:04:57.682Z"
      },
      {
        "duration": 108,
        "start_time": "2023-11-15T19:04:57.795Z"
      },
      {
        "duration": 122,
        "start_time": "2023-11-15T19:04:57.908Z"
      },
      {
        "duration": 111,
        "start_time": "2023-11-15T19:04:58.032Z"
      },
      {
        "duration": 105,
        "start_time": "2023-11-15T19:04:58.145Z"
      },
      {
        "duration": 121,
        "start_time": "2023-11-15T19:04:58.251Z"
      },
      {
        "duration": 110,
        "start_time": "2023-11-15T19:04:58.374Z"
      },
      {
        "duration": 101,
        "start_time": "2023-11-15T19:04:58.486Z"
      },
      {
        "duration": 108,
        "start_time": "2023-11-15T19:04:58.588Z"
      },
      {
        "duration": 108,
        "start_time": "2023-11-15T19:04:58.698Z"
      },
      {
        "duration": 104,
        "start_time": "2023-11-15T19:04:58.807Z"
      },
      {
        "duration": 105,
        "start_time": "2023-11-15T19:04:58.913Z"
      },
      {
        "duration": 107,
        "start_time": "2023-11-15T19:04:59.020Z"
      },
      {
        "duration": 104,
        "start_time": "2023-11-15T19:04:59.129Z"
      },
      {
        "duration": 1181,
        "start_time": "2023-11-15T19:38:55.579Z"
      },
      {
        "duration": 277,
        "start_time": "2023-11-15T19:38:56.764Z"
      },
      {
        "duration": 27,
        "start_time": "2023-11-15T19:38:57.043Z"
      },
      {
        "duration": 35,
        "start_time": "2023-11-15T19:38:57.072Z"
      },
      {
        "duration": 17,
        "start_time": "2023-11-15T19:38:57.110Z"
      },
      {
        "duration": 78,
        "start_time": "2023-11-15T19:38:57.129Z"
      },
      {
        "duration": 94,
        "start_time": "2023-11-15T19:38:57.208Z"
      },
      {
        "duration": 3,
        "start_time": "2023-11-15T19:38:57.303Z"
      },
      {
        "duration": 137,
        "start_time": "2023-11-15T19:38:57.308Z"
      },
      {
        "duration": 12,
        "start_time": "2023-11-15T19:38:57.447Z"
      },
      {
        "duration": 26,
        "start_time": "2023-11-15T19:38:57.461Z"
      },
      {
        "duration": 62,
        "start_time": "2023-11-15T19:38:57.489Z"
      },
      {
        "duration": 43,
        "start_time": "2023-11-15T19:38:57.553Z"
      },
      {
        "duration": 45,
        "start_time": "2023-11-15T19:38:57.600Z"
      },
      {
        "duration": 48,
        "start_time": "2023-11-15T19:38:57.647Z"
      },
      {
        "duration": 8,
        "start_time": "2023-11-15T19:38:57.697Z"
      },
      {
        "duration": 51,
        "start_time": "2023-11-15T19:38:57.707Z"
      },
      {
        "duration": 44,
        "start_time": "2023-11-15T19:38:57.764Z"
      },
      {
        "duration": 34,
        "start_time": "2023-11-15T19:38:57.810Z"
      },
      {
        "duration": 44,
        "start_time": "2023-11-15T19:38:57.846Z"
      },
      {
        "duration": 27,
        "start_time": "2023-11-15T19:38:57.892Z"
      },
      {
        "duration": 92,
        "start_time": "2023-11-15T19:38:57.921Z"
      },
      {
        "duration": 427,
        "start_time": "2023-11-15T19:38:58.015Z"
      },
      {
        "duration": 69,
        "start_time": "2023-11-15T19:38:58.445Z"
      },
      {
        "duration": 52,
        "start_time": "2023-11-15T19:38:58.516Z"
      },
      {
        "duration": 52,
        "start_time": "2023-11-15T19:38:58.570Z"
      },
      {
        "duration": 6,
        "start_time": "2023-11-15T19:38:58.623Z"
      },
      {
        "duration": 5,
        "start_time": "2023-11-15T19:38:58.631Z"
      },
      {
        "duration": 33,
        "start_time": "2023-11-15T19:38:58.656Z"
      },
      {
        "duration": 37,
        "start_time": "2023-11-15T19:38:58.697Z"
      },
      {
        "duration": 30,
        "start_time": "2023-11-15T19:38:58.735Z"
      },
      {
        "duration": 72,
        "start_time": "2023-11-15T19:38:58.768Z"
      },
      {
        "duration": 90,
        "start_time": "2023-11-15T19:38:58.842Z"
      },
      {
        "duration": 23,
        "start_time": "2023-11-15T19:38:58.934Z"
      },
      {
        "duration": 50,
        "start_time": "2023-11-15T19:38:58.963Z"
      },
      {
        "duration": 152,
        "start_time": "2023-11-15T19:38:59.015Z"
      },
      {
        "duration": 15,
        "start_time": "2023-11-15T19:38:59.169Z"
      },
      {
        "duration": 116,
        "start_time": "2023-11-15T19:38:59.191Z"
      },
      {
        "duration": 111,
        "start_time": "2023-11-15T19:38:59.308Z"
      },
      {
        "duration": 120,
        "start_time": "2023-11-15T19:38:59.420Z"
      },
      {
        "duration": 130,
        "start_time": "2023-11-15T19:38:59.545Z"
      },
      {
        "duration": 134,
        "start_time": "2023-11-15T19:38:59.680Z"
      },
      {
        "duration": 137,
        "start_time": "2023-11-15T19:38:59.816Z"
      },
      {
        "duration": 156,
        "start_time": "2023-11-15T19:38:59.959Z"
      },
      {
        "duration": 136,
        "start_time": "2023-11-15T19:39:00.117Z"
      },
      {
        "duration": 147,
        "start_time": "2023-11-15T19:39:00.255Z"
      },
      {
        "duration": 113,
        "start_time": "2023-11-15T19:39:00.404Z"
      },
      {
        "duration": 131,
        "start_time": "2023-11-15T19:39:00.519Z"
      },
      {
        "duration": 125,
        "start_time": "2023-11-15T19:39:00.652Z"
      },
      {
        "duration": 120,
        "start_time": "2023-11-15T19:39:00.783Z"
      },
      {
        "duration": 127,
        "start_time": "2023-11-15T19:39:00.906Z"
      },
      {
        "duration": 127,
        "start_time": "2023-11-15T19:39:01.035Z"
      },
      {
        "duration": 1140,
        "start_time": "2023-11-15T19:45:01.444Z"
      },
      {
        "duration": 249,
        "start_time": "2023-11-15T19:45:02.588Z"
      },
      {
        "duration": 11,
        "start_time": "2023-11-15T19:45:02.839Z"
      },
      {
        "duration": 41,
        "start_time": "2023-11-15T19:45:02.856Z"
      },
      {
        "duration": 20,
        "start_time": "2023-11-15T19:45:02.899Z"
      },
      {
        "duration": 92,
        "start_time": "2023-11-15T19:45:02.921Z"
      },
      {
        "duration": 78,
        "start_time": "2023-11-15T19:45:03.014Z"
      },
      {
        "duration": 3,
        "start_time": "2023-11-15T19:45:03.094Z"
      },
      {
        "duration": 124,
        "start_time": "2023-11-15T19:45:03.098Z"
      },
      {
        "duration": 9,
        "start_time": "2023-11-15T19:45:03.225Z"
      },
      {
        "duration": 33,
        "start_time": "2023-11-15T19:45:03.235Z"
      },
      {
        "duration": 48,
        "start_time": "2023-11-15T19:45:03.269Z"
      },
      {
        "duration": 67,
        "start_time": "2023-11-15T19:45:03.319Z"
      },
      {
        "duration": 124,
        "start_time": "2023-11-15T19:45:03.388Z"
      },
      {
        "duration": 90,
        "start_time": "2023-11-15T19:45:03.513Z"
      },
      {
        "duration": 81,
        "start_time": "2023-11-15T19:45:03.605Z"
      },
      {
        "duration": 44,
        "start_time": "2023-11-15T19:45:03.688Z"
      },
      {
        "duration": 27,
        "start_time": "2023-11-15T19:45:03.734Z"
      },
      {
        "duration": 37,
        "start_time": "2023-11-15T19:45:03.763Z"
      },
      {
        "duration": 17,
        "start_time": "2023-11-15T19:45:03.801Z"
      },
      {
        "duration": 34,
        "start_time": "2023-11-15T19:45:03.819Z"
      },
      {
        "duration": 82,
        "start_time": "2023-11-15T19:45:03.854Z"
      },
      {
        "duration": 365,
        "start_time": "2023-11-15T19:45:03.937Z"
      },
      {
        "duration": 33,
        "start_time": "2023-11-15T19:45:04.303Z"
      },
      {
        "duration": 59,
        "start_time": "2023-11-15T19:45:04.338Z"
      },
      {
        "duration": 34,
        "start_time": "2023-11-15T19:45:04.399Z"
      },
      {
        "duration": 4,
        "start_time": "2023-11-15T19:45:04.434Z"
      },
      {
        "duration": 29,
        "start_time": "2023-11-15T19:45:04.457Z"
      },
      {
        "duration": 7,
        "start_time": "2023-11-15T19:45:04.488Z"
      },
      {
        "duration": 33,
        "start_time": "2023-11-15T19:45:04.496Z"
      },
      {
        "duration": 32,
        "start_time": "2023-11-15T19:45:04.532Z"
      },
      {
        "duration": 69,
        "start_time": "2023-11-15T19:45:04.566Z"
      },
      {
        "duration": 67,
        "start_time": "2023-11-15T19:45:04.636Z"
      },
      {
        "duration": 10,
        "start_time": "2023-11-15T19:45:04.704Z"
      },
      {
        "duration": 49,
        "start_time": "2023-11-15T19:45:04.715Z"
      },
      {
        "duration": 126,
        "start_time": "2023-11-15T19:45:04.769Z"
      },
      {
        "duration": 10,
        "start_time": "2023-11-15T19:45:04.899Z"
      },
      {
        "duration": 125,
        "start_time": "2023-11-15T19:45:04.911Z"
      },
      {
        "duration": 108,
        "start_time": "2023-11-15T19:45:05.037Z"
      },
      {
        "duration": 107,
        "start_time": "2023-11-15T19:45:05.146Z"
      },
      {
        "duration": 110,
        "start_time": "2023-11-15T19:45:05.262Z"
      },
      {
        "duration": 114,
        "start_time": "2023-11-15T19:45:05.378Z"
      },
      {
        "duration": 103,
        "start_time": "2023-11-15T19:45:05.496Z"
      },
      {
        "duration": 102,
        "start_time": "2023-11-15T19:45:05.601Z"
      },
      {
        "duration": 109,
        "start_time": "2023-11-15T19:45:05.705Z"
      },
      {
        "duration": 119,
        "start_time": "2023-11-15T19:45:05.816Z"
      },
      {
        "duration": 112,
        "start_time": "2023-11-15T19:45:05.936Z"
      },
      {
        "duration": 116,
        "start_time": "2023-11-15T19:45:06.049Z"
      },
      {
        "duration": 106,
        "start_time": "2023-11-15T19:45:06.171Z"
      },
      {
        "duration": 107,
        "start_time": "2023-11-15T19:45:06.282Z"
      },
      {
        "duration": 109,
        "start_time": "2023-11-15T19:45:06.391Z"
      },
      {
        "duration": 99,
        "start_time": "2023-11-15T19:45:06.502Z"
      },
      {
        "duration": 31,
        "start_time": "2023-11-15T19:52:48.176Z"
      },
      {
        "duration": 1061,
        "start_time": "2023-11-15T20:09:59.147Z"
      },
      {
        "duration": 220,
        "start_time": "2023-11-15T20:10:00.212Z"
      },
      {
        "duration": 10,
        "start_time": "2023-11-15T20:10:00.433Z"
      },
      {
        "duration": 47,
        "start_time": "2023-11-15T20:10:00.445Z"
      },
      {
        "duration": 44,
        "start_time": "2023-11-15T20:10:00.494Z"
      },
      {
        "duration": 154,
        "start_time": "2023-11-15T20:10:00.540Z"
      },
      {
        "duration": 75,
        "start_time": "2023-11-15T20:10:00.696Z"
      },
      {
        "duration": 2,
        "start_time": "2023-11-15T20:10:00.773Z"
      },
      {
        "duration": 111,
        "start_time": "2023-11-15T20:10:00.777Z"
      },
      {
        "duration": 8,
        "start_time": "2023-11-15T20:10:00.891Z"
      },
      {
        "duration": 37,
        "start_time": "2023-11-15T20:10:00.901Z"
      },
      {
        "duration": 71,
        "start_time": "2023-11-15T20:10:00.940Z"
      },
      {
        "duration": 40,
        "start_time": "2023-11-15T20:10:01.012Z"
      },
      {
        "duration": 97,
        "start_time": "2023-11-15T20:10:01.053Z"
      },
      {
        "duration": 83,
        "start_time": "2023-11-15T20:10:01.152Z"
      },
      {
        "duration": 120,
        "start_time": "2023-11-15T20:10:01.236Z"
      },
      {
        "duration": 78,
        "start_time": "2023-11-15T20:10:01.358Z"
      },
      {
        "duration": 77,
        "start_time": "2023-11-15T20:10:01.437Z"
      },
      {
        "duration": 49,
        "start_time": "2023-11-15T20:10:01.516Z"
      },
      {
        "duration": 58,
        "start_time": "2023-11-15T20:10:01.567Z"
      },
      {
        "duration": 47,
        "start_time": "2023-11-15T20:10:01.627Z"
      },
      {
        "duration": 265,
        "start_time": "2023-11-15T20:10:01.676Z"
      },
      {
        "duration": 427,
        "start_time": "2023-11-15T20:10:01.942Z"
      },
      {
        "duration": 34,
        "start_time": "2023-11-15T20:10:02.370Z"
      },
      {
        "duration": 238,
        "start_time": "2023-11-15T20:10:02.406Z"
      },
      {
        "duration": 513,
        "start_time": "2023-11-15T20:10:02.645Z"
      },
      {
        "duration": 6,
        "start_time": "2023-11-15T20:10:03.160Z"
      },
      {
        "duration": 22,
        "start_time": "2023-11-15T20:10:03.170Z"
      },
      {
        "duration": 26,
        "start_time": "2023-11-15T20:10:03.194Z"
      },
      {
        "duration": 59,
        "start_time": "2023-11-15T20:10:03.222Z"
      },
      {
        "duration": 51,
        "start_time": "2023-11-15T20:10:03.282Z"
      },
      {
        "duration": 160,
        "start_time": "2023-11-15T20:10:03.335Z"
      },
      {
        "duration": 59,
        "start_time": "2023-11-15T20:10:03.497Z"
      },
      {
        "duration": 9,
        "start_time": "2023-11-15T20:10:03.557Z"
      },
      {
        "duration": 73,
        "start_time": "2023-11-15T20:10:03.568Z"
      },
      {
        "duration": 94,
        "start_time": "2023-11-15T20:10:03.642Z"
      },
      {
        "duration": 9,
        "start_time": "2023-11-15T20:10:03.738Z"
      },
      {
        "duration": 147,
        "start_time": "2023-11-15T20:10:03.748Z"
      },
      {
        "duration": 86,
        "start_time": "2023-11-15T20:10:03.897Z"
      },
      {
        "duration": 89,
        "start_time": "2023-11-15T20:10:03.985Z"
      },
      {
        "duration": 86,
        "start_time": "2023-11-15T20:10:04.075Z"
      },
      {
        "duration": 80,
        "start_time": "2023-11-15T20:10:04.162Z"
      },
      {
        "duration": 88,
        "start_time": "2023-11-15T20:10:04.244Z"
      },
      {
        "duration": 98,
        "start_time": "2023-11-15T20:10:04.333Z"
      },
      {
        "duration": 91,
        "start_time": "2023-11-15T20:10:04.432Z"
      },
      {
        "duration": 92,
        "start_time": "2023-11-15T20:10:04.525Z"
      },
      {
        "duration": 90,
        "start_time": "2023-11-15T20:10:04.619Z"
      },
      {
        "duration": 90,
        "start_time": "2023-11-15T20:10:04.711Z"
      },
      {
        "duration": 91,
        "start_time": "2023-11-15T20:10:04.802Z"
      },
      {
        "duration": 91,
        "start_time": "2023-11-15T20:10:04.894Z"
      },
      {
        "duration": 91,
        "start_time": "2023-11-15T20:10:04.987Z"
      },
      {
        "duration": 90,
        "start_time": "2023-11-15T20:10:05.080Z"
      },
      {
        "duration": 1333,
        "start_time": "2023-11-16T11:30:28.203Z"
      },
      {
        "duration": 599,
        "start_time": "2023-11-16T11:30:29.538Z"
      },
      {
        "duration": 12,
        "start_time": "2023-11-16T11:30:30.139Z"
      },
      {
        "duration": 47,
        "start_time": "2023-11-16T11:30:30.152Z"
      },
      {
        "duration": 17,
        "start_time": "2023-11-16T11:30:30.201Z"
      },
      {
        "duration": 68,
        "start_time": "2023-11-16T11:30:34.292Z"
      },
      {
        "duration": 109,
        "start_time": "2023-11-16T11:31:14.097Z"
      },
      {
        "duration": 9,
        "start_time": "2023-11-16T11:31:21.928Z"
      },
      {
        "duration": 69,
        "start_time": "2023-11-16T11:31:28.297Z"
      },
      {
        "duration": 78,
        "start_time": "2023-11-16T11:31:45.414Z"
      },
      {
        "duration": 70,
        "start_time": "2023-11-16T11:37:24.662Z"
      },
      {
        "duration": 80,
        "start_time": "2023-11-16T11:38:01.911Z"
      },
      {
        "duration": 84,
        "start_time": "2023-11-16T11:38:15.365Z"
      },
      {
        "duration": 69,
        "start_time": "2023-11-16T11:45:42.676Z"
      },
      {
        "duration": 75,
        "start_time": "2023-11-16T11:45:46.805Z"
      },
      {
        "duration": 6,
        "start_time": "2023-11-16T11:45:53.913Z"
      },
      {
        "duration": 9,
        "start_time": "2023-11-16T11:46:01.237Z"
      },
      {
        "duration": 103,
        "start_time": "2023-11-16T11:46:42.640Z"
      },
      {
        "duration": 9,
        "start_time": "2023-11-16T11:46:44.990Z"
      },
      {
        "duration": 8,
        "start_time": "2023-11-16T11:46:47.580Z"
      },
      {
        "duration": 29,
        "start_time": "2023-11-16T11:46:49.569Z"
      },
      {
        "duration": 11,
        "start_time": "2023-11-16T11:46:51.722Z"
      },
      {
        "duration": 43,
        "start_time": "2023-11-16T11:46:56.041Z"
      },
      {
        "duration": 27,
        "start_time": "2023-11-16T11:47:08.455Z"
      },
      {
        "duration": 8,
        "start_time": "2023-11-16T11:47:10.924Z"
      },
      {
        "duration": 25,
        "start_time": "2023-11-16T11:47:13.369Z"
      },
      {
        "duration": 26,
        "start_time": "2023-11-16T11:47:16.267Z"
      },
      {
        "duration": 41,
        "start_time": "2023-11-16T11:47:18.983Z"
      },
      {
        "duration": 21,
        "start_time": "2023-11-16T11:47:32.329Z"
      },
      {
        "duration": 21,
        "start_time": "2023-11-16T11:47:34.010Z"
      },
      {
        "duration": 59,
        "start_time": "2023-11-16T11:51:32.607Z"
      },
      {
        "duration": 73,
        "start_time": "2023-11-16T11:52:24.885Z"
      },
      {
        "duration": 29,
        "start_time": "2023-11-16T11:53:53.758Z"
      },
      {
        "duration": 10,
        "start_time": "2023-11-16T11:54:35.785Z"
      },
      {
        "duration": 106,
        "start_time": "2023-11-16T11:55:26.110Z"
      },
      {
        "duration": 49,
        "start_time": "2023-11-16T12:00:04.834Z"
      },
      {
        "duration": 7,
        "start_time": "2023-11-16T12:00:14.814Z"
      },
      {
        "duration": 258,
        "start_time": "2023-11-16T12:00:49.118Z"
      },
      {
        "duration": 66,
        "start_time": "2023-11-16T12:01:28.437Z"
      },
      {
        "duration": 8,
        "start_time": "2023-11-16T12:01:29.523Z"
      },
      {
        "duration": 46,
        "start_time": "2023-11-16T12:02:03.552Z"
      },
      {
        "duration": 7,
        "start_time": "2023-11-16T12:02:05.233Z"
      },
      {
        "duration": 383,
        "start_time": "2023-11-16T12:02:14.969Z"
      },
      {
        "duration": 406,
        "start_time": "2023-11-16T12:02:29.187Z"
      },
      {
        "duration": 476,
        "start_time": "2023-11-16T12:12:17.733Z"
      },
      {
        "duration": 440,
        "start_time": "2023-11-16T12:12:52.344Z"
      },
      {
        "duration": 531,
        "start_time": "2023-11-16T12:17:05.675Z"
      },
      {
        "duration": 453,
        "start_time": "2023-11-16T12:17:50.449Z"
      },
      {
        "duration": 442,
        "start_time": "2023-11-16T12:18:19.353Z"
      },
      {
        "duration": 462,
        "start_time": "2023-11-16T12:18:32.273Z"
      },
      {
        "duration": 439,
        "start_time": "2023-11-16T12:18:44.979Z"
      },
      {
        "duration": 556,
        "start_time": "2023-11-16T12:19:15.762Z"
      },
      {
        "duration": 478,
        "start_time": "2023-11-16T12:19:38.285Z"
      },
      {
        "duration": 435,
        "start_time": "2023-11-16T12:19:49.627Z"
      },
      {
        "duration": 448,
        "start_time": "2023-11-16T12:21:09.106Z"
      },
      {
        "duration": 450,
        "start_time": "2023-11-16T12:24:41.271Z"
      },
      {
        "duration": 464,
        "start_time": "2023-11-16T12:24:49.856Z"
      },
      {
        "duration": 611,
        "start_time": "2023-11-16T12:25:08.487Z"
      },
      {
        "duration": 482,
        "start_time": "2023-11-16T12:25:32.197Z"
      },
      {
        "duration": 481,
        "start_time": "2023-11-16T12:25:46.609Z"
      },
      {
        "duration": 498,
        "start_time": "2023-11-16T12:26:01.222Z"
      },
      {
        "duration": 457,
        "start_time": "2023-11-16T12:26:12.353Z"
      },
      {
        "duration": 572,
        "start_time": "2023-11-16T12:26:28.592Z"
      },
      {
        "duration": 492,
        "start_time": "2023-11-16T12:27:53.384Z"
      },
      {
        "duration": 500,
        "start_time": "2023-11-16T12:29:27.628Z"
      },
      {
        "duration": 459,
        "start_time": "2023-11-16T12:30:41.415Z"
      },
      {
        "duration": 470,
        "start_time": "2023-11-16T12:30:45.612Z"
      },
      {
        "duration": 449,
        "start_time": "2023-11-16T12:31:01.079Z"
      },
      {
        "duration": 548,
        "start_time": "2023-11-16T12:31:10.265Z"
      },
      {
        "duration": 452,
        "start_time": "2023-11-16T12:35:21.292Z"
      },
      {
        "duration": 11,
        "start_time": "2023-11-16T13:09:21.822Z"
      },
      {
        "duration": 40,
        "start_time": "2023-11-16T13:09:28.098Z"
      },
      {
        "duration": 33,
        "start_time": "2023-11-16T13:09:31.246Z"
      },
      {
        "duration": 37,
        "start_time": "2023-11-16T13:09:33.524Z"
      },
      {
        "duration": 5,
        "start_time": "2023-11-16T13:09:43.183Z"
      },
      {
        "duration": 4,
        "start_time": "2023-11-16T13:09:46.344Z"
      },
      {
        "duration": 9,
        "start_time": "2023-11-16T13:09:47.957Z"
      },
      {
        "duration": 11,
        "start_time": "2023-11-16T13:11:19.799Z"
      },
      {
        "duration": 45,
        "start_time": "2023-11-16T13:12:55.978Z"
      },
      {
        "duration": 28,
        "start_time": "2023-11-16T13:12:59.468Z"
      },
      {
        "duration": 61,
        "start_time": "2023-11-16T13:13:02.753Z"
      },
      {
        "duration": 65,
        "start_time": "2023-11-16T13:13:07.208Z"
      },
      {
        "duration": 11,
        "start_time": "2023-11-16T13:18:16.316Z"
      },
      {
        "duration": 5,
        "start_time": "2023-11-16T13:20:49.255Z"
      },
      {
        "duration": 201,
        "start_time": "2023-11-16T13:22:06.623Z"
      },
      {
        "duration": 13,
        "start_time": "2023-11-16T13:25:03.663Z"
      },
      {
        "duration": 11,
        "start_time": "2023-11-16T13:28:23.680Z"
      },
      {
        "duration": 10,
        "start_time": "2023-11-16T13:28:26.832Z"
      },
      {
        "duration": 180,
        "start_time": "2023-11-16T13:30:04.385Z"
      },
      {
        "duration": 223,
        "start_time": "2023-11-16T13:30:25.720Z"
      },
      {
        "duration": 20,
        "start_time": "2023-11-16T13:30:44.862Z"
      },
      {
        "duration": 19,
        "start_time": "2023-11-16T13:31:16.622Z"
      },
      {
        "duration": 41,
        "start_time": "2023-11-16T13:32:47.776Z"
      },
      {
        "duration": 9,
        "start_time": "2023-11-16T13:35:18.965Z"
      },
      {
        "duration": 12,
        "start_time": "2023-11-16T13:35:43.193Z"
      },
      {
        "duration": 54,
        "start_time": "2023-11-16T13:38:41.840Z"
      },
      {
        "duration": 106,
        "start_time": "2023-11-16T13:52:03.464Z"
      },
      {
        "duration": 11,
        "start_time": "2023-11-16T13:52:12.913Z"
      },
      {
        "duration": 106,
        "start_time": "2023-11-16T13:52:39.369Z"
      },
      {
        "duration": 97,
        "start_time": "2023-11-16T13:52:40.897Z"
      },
      {
        "duration": 99,
        "start_time": "2023-11-16T13:52:41.911Z"
      },
      {
        "duration": 9,
        "start_time": "2023-11-16T13:53:14.722Z"
      },
      {
        "duration": 4,
        "start_time": "2023-11-16T13:54:12.216Z"
      },
      {
        "duration": 407,
        "start_time": "2023-11-16T13:54:46.237Z"
      },
      {
        "duration": 10,
        "start_time": "2023-11-16T13:55:57.655Z"
      },
      {
        "duration": 103,
        "start_time": "2023-11-16T13:56:01.129Z"
      },
      {
        "duration": 101,
        "start_time": "2023-11-16T13:56:19.127Z"
      },
      {
        "duration": 11,
        "start_time": "2023-11-16T13:56:39.463Z"
      },
      {
        "duration": 105,
        "start_time": "2023-11-16T13:56:41.906Z"
      },
      {
        "duration": 401,
        "start_time": "2023-11-16T13:56:45.871Z"
      },
      {
        "duration": 12,
        "start_time": "2023-11-16T13:57:21.372Z"
      },
      {
        "duration": 101,
        "start_time": "2023-11-16T13:57:23.836Z"
      },
      {
        "duration": 10,
        "start_time": "2023-11-16T13:58:25.660Z"
      },
      {
        "duration": 102,
        "start_time": "2023-11-16T13:58:28.201Z"
      },
      {
        "duration": 99,
        "start_time": "2023-11-16T13:58:33.794Z"
      },
      {
        "duration": 105,
        "start_time": "2023-11-16T13:58:36.714Z"
      },
      {
        "duration": 426,
        "start_time": "2023-11-16T13:58:53.479Z"
      },
      {
        "duration": 399,
        "start_time": "2023-11-16T13:59:38.431Z"
      },
      {
        "duration": 409,
        "start_time": "2023-11-16T14:00:25.107Z"
      },
      {
        "duration": 1276,
        "start_time": "2023-11-16T14:02:50.982Z"
      },
      {
        "duration": 244,
        "start_time": "2023-11-16T14:02:52.260Z"
      },
      {
        "duration": 11,
        "start_time": "2023-11-16T14:02:52.506Z"
      },
      {
        "duration": 32,
        "start_time": "2023-11-16T14:02:52.520Z"
      },
      {
        "duration": 18,
        "start_time": "2023-11-16T14:02:52.553Z"
      },
      {
        "duration": 82,
        "start_time": "2023-11-16T14:02:52.574Z"
      },
      {
        "duration": 75,
        "start_time": "2023-11-16T14:02:52.658Z"
      },
      {
        "duration": 84,
        "start_time": "2023-11-16T14:02:52.735Z"
      },
      {
        "duration": 8,
        "start_time": "2023-11-16T14:02:52.820Z"
      },
      {
        "duration": 96,
        "start_time": "2023-11-16T14:02:52.831Z"
      },
      {
        "duration": 9,
        "start_time": "2023-11-16T14:02:52.928Z"
      },
      {
        "duration": 9,
        "start_time": "2023-11-16T14:02:52.939Z"
      },
      {
        "duration": 37,
        "start_time": "2023-11-16T14:02:52.950Z"
      },
      {
        "duration": 11,
        "start_time": "2023-11-16T14:02:52.988Z"
      },
      {
        "duration": 66,
        "start_time": "2023-11-16T14:02:53.000Z"
      },
      {
        "duration": 27,
        "start_time": "2023-11-16T14:02:53.068Z"
      },
      {
        "duration": 14,
        "start_time": "2023-11-16T14:02:53.097Z"
      },
      {
        "duration": 24,
        "start_time": "2023-11-16T14:02:53.113Z"
      },
      {
        "duration": 48,
        "start_time": "2023-11-16T14:02:53.138Z"
      },
      {
        "duration": 26,
        "start_time": "2023-11-16T14:02:53.187Z"
      },
      {
        "duration": 19,
        "start_time": "2023-11-16T14:02:53.215Z"
      },
      {
        "duration": 37,
        "start_time": "2023-11-16T14:02:53.236Z"
      },
      {
        "duration": 46,
        "start_time": "2023-11-16T14:02:53.275Z"
      },
      {
        "duration": 499,
        "start_time": "2023-11-16T14:02:53.323Z"
      },
      {
        "duration": 42,
        "start_time": "2023-11-16T14:02:53.824Z"
      },
      {
        "duration": 37,
        "start_time": "2023-11-16T14:02:53.868Z"
      },
      {
        "duration": 36,
        "start_time": "2023-11-16T14:02:53.906Z"
      },
      {
        "duration": 4,
        "start_time": "2023-11-16T14:02:53.968Z"
      },
      {
        "duration": 19,
        "start_time": "2023-11-16T14:02:53.974Z"
      },
      {
        "duration": 13,
        "start_time": "2023-11-16T14:02:53.994Z"
      },
      {
        "duration": 12,
        "start_time": "2023-11-16T14:02:54.009Z"
      },
      {
        "duration": 45,
        "start_time": "2023-11-16T14:02:54.023Z"
      },
      {
        "duration": 28,
        "start_time": "2023-11-16T14:02:54.070Z"
      },
      {
        "duration": 79,
        "start_time": "2023-11-16T14:02:54.100Z"
      },
      {
        "duration": 64,
        "start_time": "2023-11-16T14:02:54.181Z"
      },
      {
        "duration": 22,
        "start_time": "2023-11-16T14:02:54.246Z"
      },
      {
        "duration": 191,
        "start_time": "2023-11-16T14:02:54.269Z"
      },
      {
        "duration": 50,
        "start_time": "2023-11-16T14:02:54.462Z"
      },
      {
        "duration": 198,
        "start_time": "2023-11-16T14:02:54.514Z"
      },
      {
        "duration": 11,
        "start_time": "2023-11-16T14:02:54.713Z"
      },
      {
        "duration": 139,
        "start_time": "2023-11-16T14:02:54.726Z"
      },
      {
        "duration": 112,
        "start_time": "2023-11-16T14:02:54.867Z"
      },
      {
        "duration": 108,
        "start_time": "2023-11-16T14:02:54.981Z"
      },
      {
        "duration": 438,
        "start_time": "2023-11-16T14:02:55.091Z"
      },
      {
        "duration": 440,
        "start_time": "2023-11-16T14:02:55.531Z"
      },
      {
        "duration": 420,
        "start_time": "2023-11-16T14:02:55.972Z"
      },
      {
        "duration": 502,
        "start_time": "2023-11-16T14:04:29.590Z"
      },
      {
        "duration": 1193,
        "start_time": "2023-11-16T16:18:25.602Z"
      },
      {
        "duration": 187,
        "start_time": "2023-11-16T16:18:26.797Z"
      },
      {
        "duration": 12,
        "start_time": "2023-11-16T16:18:26.985Z"
      },
      {
        "duration": 21,
        "start_time": "2023-11-16T16:18:26.999Z"
      },
      {
        "duration": 34,
        "start_time": "2023-11-16T16:18:27.023Z"
      },
      {
        "duration": 66,
        "start_time": "2023-11-16T16:18:27.058Z"
      },
      {
        "duration": 90,
        "start_time": "2023-11-16T16:18:27.126Z"
      },
      {
        "duration": 81,
        "start_time": "2023-11-16T16:18:27.217Z"
      },
      {
        "duration": 7,
        "start_time": "2023-11-16T16:18:27.300Z"
      },
      {
        "duration": 94,
        "start_time": "2023-11-16T16:18:27.308Z"
      },
      {
        "duration": 10,
        "start_time": "2023-11-16T16:18:27.403Z"
      },
      {
        "duration": 7,
        "start_time": "2023-11-16T16:18:27.414Z"
      },
      {
        "duration": 38,
        "start_time": "2023-11-16T16:18:27.422Z"
      },
      {
        "duration": 9,
        "start_time": "2023-11-16T16:18:27.463Z"
      },
      {
        "duration": 44,
        "start_time": "2023-11-16T16:18:27.473Z"
      },
      {
        "duration": 46,
        "start_time": "2023-11-16T16:18:27.519Z"
      },
      {
        "duration": 8,
        "start_time": "2023-11-16T16:18:27.566Z"
      },
      {
        "duration": 21,
        "start_time": "2023-11-16T16:18:27.575Z"
      },
      {
        "duration": 45,
        "start_time": "2023-11-16T16:18:27.598Z"
      },
      {
        "duration": 25,
        "start_time": "2023-11-16T16:18:27.645Z"
      },
      {
        "duration": 17,
        "start_time": "2023-11-16T16:18:27.671Z"
      },
      {
        "duration": 20,
        "start_time": "2023-11-16T16:18:27.689Z"
      },
      {
        "duration": 72,
        "start_time": "2023-11-16T16:18:27.710Z"
      },
      {
        "duration": 450,
        "start_time": "2023-11-16T16:18:27.784Z"
      },
      {
        "duration": 34,
        "start_time": "2023-11-16T16:18:28.236Z"
      },
      {
        "duration": 37,
        "start_time": "2023-11-16T16:18:28.271Z"
      },
      {
        "duration": 51,
        "start_time": "2023-11-16T16:18:28.310Z"
      },
      {
        "duration": 12,
        "start_time": "2023-11-16T16:18:28.362Z"
      },
      {
        "duration": 22,
        "start_time": "2023-11-16T16:18:28.375Z"
      },
      {
        "duration": 11,
        "start_time": "2023-11-16T16:18:28.398Z"
      },
      {
        "duration": 12,
        "start_time": "2023-11-16T16:18:28.410Z"
      },
      {
        "duration": 43,
        "start_time": "2023-11-16T16:18:28.423Z"
      },
      {
        "duration": 26,
        "start_time": "2023-11-16T16:18:28.468Z"
      },
      {
        "duration": 70,
        "start_time": "2023-11-16T16:18:28.495Z"
      },
      {
        "duration": 60,
        "start_time": "2023-11-16T16:18:28.567Z"
      },
      {
        "duration": 21,
        "start_time": "2023-11-16T16:18:28.628Z"
      },
      {
        "duration": 243,
        "start_time": "2023-11-16T16:18:28.651Z"
      },
      {
        "duration": 67,
        "start_time": "2023-11-16T16:18:28.895Z"
      },
      {
        "duration": 150,
        "start_time": "2023-11-16T16:18:28.963Z"
      },
      {
        "duration": 10,
        "start_time": "2023-11-16T16:18:29.114Z"
      },
      {
        "duration": 107,
        "start_time": "2023-11-16T16:18:29.127Z"
      },
      {
        "duration": 111,
        "start_time": "2023-11-16T16:18:29.243Z"
      },
      {
        "duration": 106,
        "start_time": "2023-11-16T16:18:29.356Z"
      },
      {
        "duration": 390,
        "start_time": "2023-11-16T16:18:29.463Z"
      },
      {
        "duration": 396,
        "start_time": "2023-11-16T16:18:29.854Z"
      },
      {
        "duration": 424,
        "start_time": "2023-11-16T16:18:30.252Z"
      },
      {
        "duration": 1178,
        "start_time": "2023-11-16T16:39:02.633Z"
      },
      {
        "duration": 171,
        "start_time": "2023-11-16T16:39:03.813Z"
      },
      {
        "duration": 14,
        "start_time": "2023-11-16T16:39:03.986Z"
      },
      {
        "duration": 44,
        "start_time": "2023-11-16T16:39:04.002Z"
      },
      {
        "duration": 16,
        "start_time": "2023-11-16T16:39:04.048Z"
      },
      {
        "duration": 121,
        "start_time": "2023-11-16T16:39:04.065Z"
      },
      {
        "duration": 75,
        "start_time": "2023-11-16T16:39:04.187Z"
      },
      {
        "duration": 78,
        "start_time": "2023-11-16T16:39:04.264Z"
      },
      {
        "duration": 7,
        "start_time": "2023-11-16T16:39:04.344Z"
      },
      {
        "duration": 76,
        "start_time": "2023-11-16T16:39:04.353Z"
      },
      {
        "duration": 17,
        "start_time": "2023-11-16T16:39:04.431Z"
      },
      {
        "duration": 6,
        "start_time": "2023-11-16T16:39:04.450Z"
      },
      {
        "duration": 29,
        "start_time": "2023-11-16T16:39:04.458Z"
      },
      {
        "duration": 8,
        "start_time": "2023-11-16T16:39:04.490Z"
      },
      {
        "duration": 63,
        "start_time": "2023-11-16T16:39:04.499Z"
      },
      {
        "duration": 25,
        "start_time": "2023-11-16T16:39:04.563Z"
      },
      {
        "duration": 9,
        "start_time": "2023-11-16T16:39:04.589Z"
      },
      {
        "duration": 21,
        "start_time": "2023-11-16T16:39:04.599Z"
      },
      {
        "duration": 23,
        "start_time": "2023-11-16T16:39:04.642Z"
      },
      {
        "duration": 23,
        "start_time": "2023-11-16T16:39:04.666Z"
      },
      {
        "duration": 17,
        "start_time": "2023-11-16T16:39:04.690Z"
      },
      {
        "duration": 37,
        "start_time": "2023-11-16T16:39:04.709Z"
      },
      {
        "duration": 59,
        "start_time": "2023-11-16T16:39:04.747Z"
      },
      {
        "duration": 423,
        "start_time": "2023-11-16T16:39:04.807Z"
      },
      {
        "duration": 41,
        "start_time": "2023-11-16T16:39:05.231Z"
      },
      {
        "duration": 36,
        "start_time": "2023-11-16T16:39:05.273Z"
      },
      {
        "duration": 49,
        "start_time": "2023-11-16T16:39:05.311Z"
      },
      {
        "duration": 16,
        "start_time": "2023-11-16T16:39:05.362Z"
      },
      {
        "duration": 32,
        "start_time": "2023-11-16T16:39:05.379Z"
      },
      {
        "duration": 33,
        "start_time": "2023-11-16T16:39:05.412Z"
      },
      {
        "duration": 51,
        "start_time": "2023-11-16T16:39:05.446Z"
      },
      {
        "duration": 43,
        "start_time": "2023-11-16T16:39:05.498Z"
      },
      {
        "duration": 29,
        "start_time": "2023-11-16T16:39:05.542Z"
      },
      {
        "duration": 95,
        "start_time": "2023-11-16T16:39:05.572Z"
      },
      {
        "duration": 58,
        "start_time": "2023-11-16T16:39:05.669Z"
      },
      {
        "duration": 22,
        "start_time": "2023-11-16T16:39:05.728Z"
      },
      {
        "duration": 228,
        "start_time": "2023-11-16T16:39:05.752Z"
      },
      {
        "duration": 71,
        "start_time": "2023-11-16T16:39:05.982Z"
      },
      {
        "duration": 165,
        "start_time": "2023-11-16T16:39:06.055Z"
      },
      {
        "duration": 10,
        "start_time": "2023-11-16T16:39:06.222Z"
      },
      {
        "duration": 127,
        "start_time": "2023-11-16T16:39:06.244Z"
      },
      {
        "duration": 95,
        "start_time": "2023-11-16T16:39:06.372Z"
      },
      {
        "duration": 105,
        "start_time": "2023-11-16T16:39:06.469Z"
      },
      {
        "duration": 397,
        "start_time": "2023-11-16T16:39:06.575Z"
      },
      {
        "duration": 375,
        "start_time": "2023-11-16T16:39:06.973Z"
      },
      {
        "duration": 383,
        "start_time": "2023-11-16T16:39:07.350Z"
      },
      {
        "duration": 47,
        "start_time": "2023-11-17T10:19:50.827Z"
      }
    ],
    "kernelspec": {
      "display_name": "Python 3 (ipykernel)",
      "language": "python",
      "name": "python3"
    },
    "language_info": {
      "codemirror_mode": {
        "name": "ipython",
        "version": 3
      },
      "file_extension": ".py",
      "mimetype": "text/x-python",
      "name": "python",
      "nbconvert_exporter": "python",
      "pygments_lexer": "ipython3",
      "version": "3.9.5"
    },
    "toc": {
      "base_numbering": 1,
      "nav_menu": {},
      "number_sections": true,
      "sideBar": true,
      "skip_h1_title": true,
      "title_cell": "Table of Contents",
      "title_sidebar": "Contents",
      "toc_cell": false,
      "toc_position": {},
      "toc_section_display": true,
      "toc_window_display": false
    },
    "colab": {
      "provenance": [],
      "toc_visible": true,
      "include_colab_link": true
    }
  },
  "nbformat": 4,
  "nbformat_minor": 0
}